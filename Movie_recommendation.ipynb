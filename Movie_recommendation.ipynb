{
  "nbformat": 4,
  "nbformat_minor": 0,
  "metadata": {
    "colab": {
      "provenance": []
    },
    "kernelspec": {
      "name": "python3",
      "display_name": "Python 3"
    },
    "language_info": {
      "name": "python"
    }
  },
  "cells": [
    {
      "cell_type": "code",
      "execution_count": 1,
      "metadata": {
        "id": "58IuwHVAzLz0"
      },
      "outputs": [],
      "source": [
        "import pandas as pd\n"
      ]
    },
    {
      "cell_type": "code",
      "source": [
        "import numpy as np"
      ],
      "metadata": {
        "id": "tu1bpjNszXrG"
      },
      "execution_count": 2,
      "outputs": []
    },
    {
      "cell_type": "code",
      "source": [
        "df = pd.read_csv('https://github.com/YBI-Foundation/Dataset/raw/main/Movies%20Recommendation.csv')"
      ],
      "metadata": {
        "id": "RlYsUv_rzbMp"
      },
      "execution_count": 3,
      "outputs": []
    },
    {
      "cell_type": "code",
      "source": [
        "df.head()"
      ],
      "metadata": {
        "colab": {
          "base_uri": "https://localhost:8080/",
          "height": 672
        },
        "id": "BuiEdutrzsRb",
        "outputId": "fb63cf9d-c438-468d-914c-ae50389fb8c3"
      },
      "execution_count": 5,
      "outputs": [
        {
          "output_type": "execute_result",
          "data": {
            "text/plain": [
              "   Movie_ID      Movie_Title                       Movie_Genre Movie_Language  \\\n",
              "0         1       Four Rooms                      Crime Comedy             en   \n",
              "1         2        Star Wars  Adventure Action Science Fiction             en   \n",
              "2         3     Finding Nemo                  Animation Family             en   \n",
              "3         4     Forrest Gump              Comedy Drama Romance             en   \n",
              "4         5  American Beauty                             Drama             en   \n",
              "\n",
              "   Movie_Budget  Movie_Popularity Movie_Release_Date  Movie_Revenue  \\\n",
              "0       4000000         22.876230         09-12-1995        4300000   \n",
              "1      11000000        126.393695         25-05-1977      775398007   \n",
              "2      94000000         85.688789         30-05-2003      940335536   \n",
              "3      55000000        138.133331         06-07-1994      677945399   \n",
              "4      15000000         80.878605         15-09-1999      356296601   \n",
              "\n",
              "   Movie_Runtime  Movie_Vote  ...  \\\n",
              "0           98.0         6.5  ...   \n",
              "1          121.0         8.1  ...   \n",
              "2          100.0         7.6  ...   \n",
              "3          142.0         8.2  ...   \n",
              "4          122.0         7.9  ...   \n",
              "\n",
              "                                      Movie_Homepage  \\\n",
              "0                                                NaN   \n",
              "1  http://www.starwars.com/films/star-wars-episod...   \n",
              "2              http://movies.disney.com/finding-nemo   \n",
              "3                                                NaN   \n",
              "4                      http://www.dreamworks.com/ab/   \n",
              "\n",
              "                                      Movie_Keywords  \\\n",
              "0          hotel new year's eve witch bet hotel room   \n",
              "1        android galaxy hermit death star lightsaber   \n",
              "2  father son relationship harbor underwater fish...   \n",
              "3  vietnam veteran hippie mentally disabled runni...   \n",
              "4  male nudity female nudity adultery midlife cri...   \n",
              "\n",
              "                                      Movie_Overview  \\\n",
              "0  It's Ted the Bellhop's first night on the job....   \n",
              "1  Princess Leia is captured and held hostage by ...   \n",
              "2  Nemo, an adventurous young clownfish, is unexp...   \n",
              "3  A man with a low IQ has accomplished great thi...   \n",
              "4  Lester Burnham, a depressed suburban father in...   \n",
              "\n",
              "                              Movie_Production_House  \\\n",
              "0  [{\"name\": \"Miramax Films\", \"id\": 14}, {\"name\":...   \n",
              "1  [{\"name\": \"Lucasfilm\", \"id\": 1}, {\"name\": \"Twe...   \n",
              "2     [{\"name\": \"Pixar Animation Studios\", \"id\": 3}]   \n",
              "3          [{\"name\": \"Paramount Pictures\", \"id\": 4}]   \n",
              "4  [{\"name\": \"DreamWorks SKG\", \"id\": 27}, {\"name\"...   \n",
              "\n",
              "                            Movie_Production_Country  \\\n",
              "0  [{\"iso_3166_1\": \"US\", \"name\": \"United States o...   \n",
              "1  [{\"iso_3166_1\": \"US\", \"name\": \"United States o...   \n",
              "2  [{\"iso_3166_1\": \"US\", \"name\": \"United States o...   \n",
              "3  [{\"iso_3166_1\": \"US\", \"name\": \"United States o...   \n",
              "4  [{\"iso_3166_1\": \"US\", \"name\": \"United States o...   \n",
              "\n",
              "                      Movie_Spoken_Language  \\\n",
              "0  [{\"iso_639_1\": \"en\", \"name\": \"English\"}]   \n",
              "1  [{\"iso_639_1\": \"en\", \"name\": \"English\"}]   \n",
              "2  [{\"iso_639_1\": \"en\", \"name\": \"English\"}]   \n",
              "3  [{\"iso_639_1\": \"en\", \"name\": \"English\"}]   \n",
              "4  [{\"iso_639_1\": \"en\", \"name\": \"English\"}]   \n",
              "\n",
              "                                       Movie_Tagline  \\\n",
              "0  Twelve outrageous guests. Four scandalous requ...   \n",
              "1       A long time ago in a galaxy far, far away...   \n",
              "2  There are 3.7 trillion fish in the ocean, they...   \n",
              "3  The world will never be the same, once you've ...   \n",
              "4                                       Look closer.   \n",
              "\n",
              "                                          Movie_Cast  \\\n",
              "0  Tim Roth Antonio Banderas Jennifer Beals Madon...   \n",
              "1  Mark Hamill Harrison Ford Carrie Fisher Peter ...   \n",
              "2  Albert Brooks Ellen DeGeneres Alexander Gould ...   \n",
              "3  Tom Hanks Robin Wright Gary Sinise Mykelti Wil...   \n",
              "4  Kevin Spacey Annette Bening Thora Birch Wes Be...   \n",
              "\n",
              "                                          Movie_Crew   Movie_Director  \n",
              "0  [{'name': 'Allison Anders', 'gender': 1, 'depa...   Allison Anders  \n",
              "1  [{'name': 'George Lucas', 'gender': 2, 'depart...     George Lucas  \n",
              "2  [{'name': 'Andrew Stanton', 'gender': 2, 'depa...   Andrew Stanton  \n",
              "3  [{'name': 'Alan Silvestri', 'gender': 2, 'depa...  Robert Zemeckis  \n",
              "4  [{'name': 'Thomas Newman', 'gender': 2, 'depar...       Sam Mendes  \n",
              "\n",
              "[5 rows x 21 columns]"
            ],
            "text/html": [
              "\n",
              "  <div id=\"df-099491d4-e392-4bf6-897a-dbe650807eca\" class=\"colab-df-container\">\n",
              "    <div>\n",
              "<style scoped>\n",
              "    .dataframe tbody tr th:only-of-type {\n",
              "        vertical-align: middle;\n",
              "    }\n",
              "\n",
              "    .dataframe tbody tr th {\n",
              "        vertical-align: top;\n",
              "    }\n",
              "\n",
              "    .dataframe thead th {\n",
              "        text-align: right;\n",
              "    }\n",
              "</style>\n",
              "<table border=\"1\" class=\"dataframe\">\n",
              "  <thead>\n",
              "    <tr style=\"text-align: right;\">\n",
              "      <th></th>\n",
              "      <th>Movie_ID</th>\n",
              "      <th>Movie_Title</th>\n",
              "      <th>Movie_Genre</th>\n",
              "      <th>Movie_Language</th>\n",
              "      <th>Movie_Budget</th>\n",
              "      <th>Movie_Popularity</th>\n",
              "      <th>Movie_Release_Date</th>\n",
              "      <th>Movie_Revenue</th>\n",
              "      <th>Movie_Runtime</th>\n",
              "      <th>Movie_Vote</th>\n",
              "      <th>...</th>\n",
              "      <th>Movie_Homepage</th>\n",
              "      <th>Movie_Keywords</th>\n",
              "      <th>Movie_Overview</th>\n",
              "      <th>Movie_Production_House</th>\n",
              "      <th>Movie_Production_Country</th>\n",
              "      <th>Movie_Spoken_Language</th>\n",
              "      <th>Movie_Tagline</th>\n",
              "      <th>Movie_Cast</th>\n",
              "      <th>Movie_Crew</th>\n",
              "      <th>Movie_Director</th>\n",
              "    </tr>\n",
              "  </thead>\n",
              "  <tbody>\n",
              "    <tr>\n",
              "      <th>0</th>\n",
              "      <td>1</td>\n",
              "      <td>Four Rooms</td>\n",
              "      <td>Crime Comedy</td>\n",
              "      <td>en</td>\n",
              "      <td>4000000</td>\n",
              "      <td>22.876230</td>\n",
              "      <td>09-12-1995</td>\n",
              "      <td>4300000</td>\n",
              "      <td>98.0</td>\n",
              "      <td>6.5</td>\n",
              "      <td>...</td>\n",
              "      <td>NaN</td>\n",
              "      <td>hotel new year's eve witch bet hotel room</td>\n",
              "      <td>It's Ted the Bellhop's first night on the job....</td>\n",
              "      <td>[{\"name\": \"Miramax Films\", \"id\": 14}, {\"name\":...</td>\n",
              "      <td>[{\"iso_3166_1\": \"US\", \"name\": \"United States o...</td>\n",
              "      <td>[{\"iso_639_1\": \"en\", \"name\": \"English\"}]</td>\n",
              "      <td>Twelve outrageous guests. Four scandalous requ...</td>\n",
              "      <td>Tim Roth Antonio Banderas Jennifer Beals Madon...</td>\n",
              "      <td>[{'name': 'Allison Anders', 'gender': 1, 'depa...</td>\n",
              "      <td>Allison Anders</td>\n",
              "    </tr>\n",
              "    <tr>\n",
              "      <th>1</th>\n",
              "      <td>2</td>\n",
              "      <td>Star Wars</td>\n",
              "      <td>Adventure Action Science Fiction</td>\n",
              "      <td>en</td>\n",
              "      <td>11000000</td>\n",
              "      <td>126.393695</td>\n",
              "      <td>25-05-1977</td>\n",
              "      <td>775398007</td>\n",
              "      <td>121.0</td>\n",
              "      <td>8.1</td>\n",
              "      <td>...</td>\n",
              "      <td>http://www.starwars.com/films/star-wars-episod...</td>\n",
              "      <td>android galaxy hermit death star lightsaber</td>\n",
              "      <td>Princess Leia is captured and held hostage by ...</td>\n",
              "      <td>[{\"name\": \"Lucasfilm\", \"id\": 1}, {\"name\": \"Twe...</td>\n",
              "      <td>[{\"iso_3166_1\": \"US\", \"name\": \"United States o...</td>\n",
              "      <td>[{\"iso_639_1\": \"en\", \"name\": \"English\"}]</td>\n",
              "      <td>A long time ago in a galaxy far, far away...</td>\n",
              "      <td>Mark Hamill Harrison Ford Carrie Fisher Peter ...</td>\n",
              "      <td>[{'name': 'George Lucas', 'gender': 2, 'depart...</td>\n",
              "      <td>George Lucas</td>\n",
              "    </tr>\n",
              "    <tr>\n",
              "      <th>2</th>\n",
              "      <td>3</td>\n",
              "      <td>Finding Nemo</td>\n",
              "      <td>Animation Family</td>\n",
              "      <td>en</td>\n",
              "      <td>94000000</td>\n",
              "      <td>85.688789</td>\n",
              "      <td>30-05-2003</td>\n",
              "      <td>940335536</td>\n",
              "      <td>100.0</td>\n",
              "      <td>7.6</td>\n",
              "      <td>...</td>\n",
              "      <td>http://movies.disney.com/finding-nemo</td>\n",
              "      <td>father son relationship harbor underwater fish...</td>\n",
              "      <td>Nemo, an adventurous young clownfish, is unexp...</td>\n",
              "      <td>[{\"name\": \"Pixar Animation Studios\", \"id\": 3}]</td>\n",
              "      <td>[{\"iso_3166_1\": \"US\", \"name\": \"United States o...</td>\n",
              "      <td>[{\"iso_639_1\": \"en\", \"name\": \"English\"}]</td>\n",
              "      <td>There are 3.7 trillion fish in the ocean, they...</td>\n",
              "      <td>Albert Brooks Ellen DeGeneres Alexander Gould ...</td>\n",
              "      <td>[{'name': 'Andrew Stanton', 'gender': 2, 'depa...</td>\n",
              "      <td>Andrew Stanton</td>\n",
              "    </tr>\n",
              "    <tr>\n",
              "      <th>3</th>\n",
              "      <td>4</td>\n",
              "      <td>Forrest Gump</td>\n",
              "      <td>Comedy Drama Romance</td>\n",
              "      <td>en</td>\n",
              "      <td>55000000</td>\n",
              "      <td>138.133331</td>\n",
              "      <td>06-07-1994</td>\n",
              "      <td>677945399</td>\n",
              "      <td>142.0</td>\n",
              "      <td>8.2</td>\n",
              "      <td>...</td>\n",
              "      <td>NaN</td>\n",
              "      <td>vietnam veteran hippie mentally disabled runni...</td>\n",
              "      <td>A man with a low IQ has accomplished great thi...</td>\n",
              "      <td>[{\"name\": \"Paramount Pictures\", \"id\": 4}]</td>\n",
              "      <td>[{\"iso_3166_1\": \"US\", \"name\": \"United States o...</td>\n",
              "      <td>[{\"iso_639_1\": \"en\", \"name\": \"English\"}]</td>\n",
              "      <td>The world will never be the same, once you've ...</td>\n",
              "      <td>Tom Hanks Robin Wright Gary Sinise Mykelti Wil...</td>\n",
              "      <td>[{'name': 'Alan Silvestri', 'gender': 2, 'depa...</td>\n",
              "      <td>Robert Zemeckis</td>\n",
              "    </tr>\n",
              "    <tr>\n",
              "      <th>4</th>\n",
              "      <td>5</td>\n",
              "      <td>American Beauty</td>\n",
              "      <td>Drama</td>\n",
              "      <td>en</td>\n",
              "      <td>15000000</td>\n",
              "      <td>80.878605</td>\n",
              "      <td>15-09-1999</td>\n",
              "      <td>356296601</td>\n",
              "      <td>122.0</td>\n",
              "      <td>7.9</td>\n",
              "      <td>...</td>\n",
              "      <td>http://www.dreamworks.com/ab/</td>\n",
              "      <td>male nudity female nudity adultery midlife cri...</td>\n",
              "      <td>Lester Burnham, a depressed suburban father in...</td>\n",
              "      <td>[{\"name\": \"DreamWorks SKG\", \"id\": 27}, {\"name\"...</td>\n",
              "      <td>[{\"iso_3166_1\": \"US\", \"name\": \"United States o...</td>\n",
              "      <td>[{\"iso_639_1\": \"en\", \"name\": \"English\"}]</td>\n",
              "      <td>Look closer.</td>\n",
              "      <td>Kevin Spacey Annette Bening Thora Birch Wes Be...</td>\n",
              "      <td>[{'name': 'Thomas Newman', 'gender': 2, 'depar...</td>\n",
              "      <td>Sam Mendes</td>\n",
              "    </tr>\n",
              "  </tbody>\n",
              "</table>\n",
              "<p>5 rows × 21 columns</p>\n",
              "</div>\n",
              "    <div class=\"colab-df-buttons\">\n",
              "\n",
              "  <div class=\"colab-df-container\">\n",
              "    <button class=\"colab-df-convert\" onclick=\"convertToInteractive('df-099491d4-e392-4bf6-897a-dbe650807eca')\"\n",
              "            title=\"Convert this dataframe to an interactive table.\"\n",
              "            style=\"display:none;\">\n",
              "\n",
              "  <svg xmlns=\"http://www.w3.org/2000/svg\" height=\"24px\" viewBox=\"0 -960 960 960\">\n",
              "    <path d=\"M120-120v-720h720v720H120Zm60-500h600v-160H180v160Zm220 220h160v-160H400v160Zm0 220h160v-160H400v160ZM180-400h160v-160H180v160Zm440 0h160v-160H620v160ZM180-180h160v-160H180v160Zm440 0h160v-160H620v160Z\"/>\n",
              "  </svg>\n",
              "    </button>\n",
              "\n",
              "  <style>\n",
              "    .colab-df-container {\n",
              "      display:flex;\n",
              "      gap: 12px;\n",
              "    }\n",
              "\n",
              "    .colab-df-convert {\n",
              "      background-color: #E8F0FE;\n",
              "      border: none;\n",
              "      border-radius: 50%;\n",
              "      cursor: pointer;\n",
              "      display: none;\n",
              "      fill: #1967D2;\n",
              "      height: 32px;\n",
              "      padding: 0 0 0 0;\n",
              "      width: 32px;\n",
              "    }\n",
              "\n",
              "    .colab-df-convert:hover {\n",
              "      background-color: #E2EBFA;\n",
              "      box-shadow: 0px 1px 2px rgba(60, 64, 67, 0.3), 0px 1px 3px 1px rgba(60, 64, 67, 0.15);\n",
              "      fill: #174EA6;\n",
              "    }\n",
              "\n",
              "    .colab-df-buttons div {\n",
              "      margin-bottom: 4px;\n",
              "    }\n",
              "\n",
              "    [theme=dark] .colab-df-convert {\n",
              "      background-color: #3B4455;\n",
              "      fill: #D2E3FC;\n",
              "    }\n",
              "\n",
              "    [theme=dark] .colab-df-convert:hover {\n",
              "      background-color: #434B5C;\n",
              "      box-shadow: 0px 1px 3px 1px rgba(0, 0, 0, 0.15);\n",
              "      filter: drop-shadow(0px 1px 2px rgba(0, 0, 0, 0.3));\n",
              "      fill: #FFFFFF;\n",
              "    }\n",
              "  </style>\n",
              "\n",
              "    <script>\n",
              "      const buttonEl =\n",
              "        document.querySelector('#df-099491d4-e392-4bf6-897a-dbe650807eca button.colab-df-convert');\n",
              "      buttonEl.style.display =\n",
              "        google.colab.kernel.accessAllowed ? 'block' : 'none';\n",
              "\n",
              "      async function convertToInteractive(key) {\n",
              "        const element = document.querySelector('#df-099491d4-e392-4bf6-897a-dbe650807eca');\n",
              "        const dataTable =\n",
              "          await google.colab.kernel.invokeFunction('convertToInteractive',\n",
              "                                                    [key], {});\n",
              "        if (!dataTable) return;\n",
              "\n",
              "        const docLinkHtml = 'Like what you see? Visit the ' +\n",
              "          '<a target=\"_blank\" href=https://colab.research.google.com/notebooks/data_table.ipynb>data table notebook</a>'\n",
              "          + ' to learn more about interactive tables.';\n",
              "        element.innerHTML = '';\n",
              "        dataTable['output_type'] = 'display_data';\n",
              "        await google.colab.output.renderOutput(dataTable, element);\n",
              "        const docLink = document.createElement('div');\n",
              "        docLink.innerHTML = docLinkHtml;\n",
              "        element.appendChild(docLink);\n",
              "      }\n",
              "    </script>\n",
              "  </div>\n",
              "\n",
              "\n",
              "<div id=\"df-436ab245-0e7f-4ace-93b1-d3d42e5bf784\">\n",
              "  <button class=\"colab-df-quickchart\" onclick=\"quickchart('df-436ab245-0e7f-4ace-93b1-d3d42e5bf784')\"\n",
              "            title=\"Suggest charts\"\n",
              "            style=\"display:none;\">\n",
              "\n",
              "<svg xmlns=\"http://www.w3.org/2000/svg\" height=\"24px\"viewBox=\"0 0 24 24\"\n",
              "     width=\"24px\">\n",
              "    <g>\n",
              "        <path d=\"M19 3H5c-1.1 0-2 .9-2 2v14c0 1.1.9 2 2 2h14c1.1 0 2-.9 2-2V5c0-1.1-.9-2-2-2zM9 17H7v-7h2v7zm4 0h-2V7h2v10zm4 0h-2v-4h2v4z\"/>\n",
              "    </g>\n",
              "</svg>\n",
              "  </button>\n",
              "\n",
              "<style>\n",
              "  .colab-df-quickchart {\n",
              "      --bg-color: #E8F0FE;\n",
              "      --fill-color: #1967D2;\n",
              "      --hover-bg-color: #E2EBFA;\n",
              "      --hover-fill-color: #174EA6;\n",
              "      --disabled-fill-color: #AAA;\n",
              "      --disabled-bg-color: #DDD;\n",
              "  }\n",
              "\n",
              "  [theme=dark] .colab-df-quickchart {\n",
              "      --bg-color: #3B4455;\n",
              "      --fill-color: #D2E3FC;\n",
              "      --hover-bg-color: #434B5C;\n",
              "      --hover-fill-color: #FFFFFF;\n",
              "      --disabled-bg-color: #3B4455;\n",
              "      --disabled-fill-color: #666;\n",
              "  }\n",
              "\n",
              "  .colab-df-quickchart {\n",
              "    background-color: var(--bg-color);\n",
              "    border: none;\n",
              "    border-radius: 50%;\n",
              "    cursor: pointer;\n",
              "    display: none;\n",
              "    fill: var(--fill-color);\n",
              "    height: 32px;\n",
              "    padding: 0;\n",
              "    width: 32px;\n",
              "  }\n",
              "\n",
              "  .colab-df-quickchart:hover {\n",
              "    background-color: var(--hover-bg-color);\n",
              "    box-shadow: 0 1px 2px rgba(60, 64, 67, 0.3), 0 1px 3px 1px rgba(60, 64, 67, 0.15);\n",
              "    fill: var(--button-hover-fill-color);\n",
              "  }\n",
              "\n",
              "  .colab-df-quickchart-complete:disabled,\n",
              "  .colab-df-quickchart-complete:disabled:hover {\n",
              "    background-color: var(--disabled-bg-color);\n",
              "    fill: var(--disabled-fill-color);\n",
              "    box-shadow: none;\n",
              "  }\n",
              "\n",
              "  .colab-df-spinner {\n",
              "    border: 2px solid var(--fill-color);\n",
              "    border-color: transparent;\n",
              "    border-bottom-color: var(--fill-color);\n",
              "    animation:\n",
              "      spin 1s steps(1) infinite;\n",
              "  }\n",
              "\n",
              "  @keyframes spin {\n",
              "    0% {\n",
              "      border-color: transparent;\n",
              "      border-bottom-color: var(--fill-color);\n",
              "      border-left-color: var(--fill-color);\n",
              "    }\n",
              "    20% {\n",
              "      border-color: transparent;\n",
              "      border-left-color: var(--fill-color);\n",
              "      border-top-color: var(--fill-color);\n",
              "    }\n",
              "    30% {\n",
              "      border-color: transparent;\n",
              "      border-left-color: var(--fill-color);\n",
              "      border-top-color: var(--fill-color);\n",
              "      border-right-color: var(--fill-color);\n",
              "    }\n",
              "    40% {\n",
              "      border-color: transparent;\n",
              "      border-right-color: var(--fill-color);\n",
              "      border-top-color: var(--fill-color);\n",
              "    }\n",
              "    60% {\n",
              "      border-color: transparent;\n",
              "      border-right-color: var(--fill-color);\n",
              "    }\n",
              "    80% {\n",
              "      border-color: transparent;\n",
              "      border-right-color: var(--fill-color);\n",
              "      border-bottom-color: var(--fill-color);\n",
              "    }\n",
              "    90% {\n",
              "      border-color: transparent;\n",
              "      border-bottom-color: var(--fill-color);\n",
              "    }\n",
              "  }\n",
              "</style>\n",
              "\n",
              "  <script>\n",
              "    async function quickchart(key) {\n",
              "      const quickchartButtonEl =\n",
              "        document.querySelector('#' + key + ' button');\n",
              "      quickchartButtonEl.disabled = true;  // To prevent multiple clicks.\n",
              "      quickchartButtonEl.classList.add('colab-df-spinner');\n",
              "      try {\n",
              "        const charts = await google.colab.kernel.invokeFunction(\n",
              "            'suggestCharts', [key], {});\n",
              "      } catch (error) {\n",
              "        console.error('Error during call to suggestCharts:', error);\n",
              "      }\n",
              "      quickchartButtonEl.classList.remove('colab-df-spinner');\n",
              "      quickchartButtonEl.classList.add('colab-df-quickchart-complete');\n",
              "    }\n",
              "    (() => {\n",
              "      let quickchartButtonEl =\n",
              "        document.querySelector('#df-436ab245-0e7f-4ace-93b1-d3d42e5bf784 button');\n",
              "      quickchartButtonEl.style.display =\n",
              "        google.colab.kernel.accessAllowed ? 'block' : 'none';\n",
              "    })();\n",
              "  </script>\n",
              "</div>\n",
              "\n",
              "    </div>\n",
              "  </div>\n"
            ],
            "application/vnd.google.colaboratory.intrinsic+json": {
              "type": "dataframe",
              "variable_name": "df"
            }
          },
          "metadata": {},
          "execution_count": 5
        }
      ]
    },
    {
      "cell_type": "code",
      "source": [
        "df.info()"
      ],
      "metadata": {
        "colab": {
          "base_uri": "https://localhost:8080/"
        },
        "id": "A-bn26V80C5r",
        "outputId": "702a9807-5a3f-4fa0-f025-e5347541b156"
      },
      "execution_count": 6,
      "outputs": [
        {
          "output_type": "stream",
          "name": "stdout",
          "text": [
            "<class 'pandas.core.frame.DataFrame'>\n",
            "RangeIndex: 4760 entries, 0 to 4759\n",
            "Data columns (total 21 columns):\n",
            " #   Column                    Non-Null Count  Dtype  \n",
            "---  ------                    --------------  -----  \n",
            " 0   Movie_ID                  4760 non-null   int64  \n",
            " 1   Movie_Title               4760 non-null   object \n",
            " 2   Movie_Genre               4760 non-null   object \n",
            " 3   Movie_Language            4760 non-null   object \n",
            " 4   Movie_Budget              4760 non-null   int64  \n",
            " 5   Movie_Popularity          4760 non-null   float64\n",
            " 6   Movie_Release_Date        4760 non-null   object \n",
            " 7   Movie_Revenue             4760 non-null   int64  \n",
            " 8   Movie_Runtime             4758 non-null   float64\n",
            " 9   Movie_Vote                4760 non-null   float64\n",
            " 10  Movie_Vote_Count          4760 non-null   int64  \n",
            " 11  Movie_Homepage            1699 non-null   object \n",
            " 12  Movie_Keywords            4373 non-null   object \n",
            " 13  Movie_Overview            4757 non-null   object \n",
            " 14  Movie_Production_House    4760 non-null   object \n",
            " 15  Movie_Production_Country  4760 non-null   object \n",
            " 16  Movie_Spoken_Language     4760 non-null   object \n",
            " 17  Movie_Tagline             3942 non-null   object \n",
            " 18  Movie_Cast                4733 non-null   object \n",
            " 19  Movie_Crew                4760 non-null   object \n",
            " 20  Movie_Director            4738 non-null   object \n",
            "dtypes: float64(3), int64(4), object(14)\n",
            "memory usage: 781.1+ KB\n"
          ]
        }
      ]
    },
    {
      "cell_type": "code",
      "source": [
        "df.shape"
      ],
      "metadata": {
        "colab": {
          "base_uri": "https://localhost:8080/"
        },
        "id": "IY8SkDZa0RTe",
        "outputId": "3b59229a-28c4-4d2d-8b0a-262188b40755"
      },
      "execution_count": 7,
      "outputs": [
        {
          "output_type": "execute_result",
          "data": {
            "text/plain": [
              "(4760, 21)"
            ]
          },
          "metadata": {},
          "execution_count": 7
        }
      ]
    },
    {
      "cell_type": "code",
      "source": [
        "df.columns"
      ],
      "metadata": {
        "colab": {
          "base_uri": "https://localhost:8080/"
        },
        "id": "O8EqwozJ0WSn",
        "outputId": "05de7796-02ac-459e-c66e-77cd64dbfffd"
      },
      "execution_count": 8,
      "outputs": [
        {
          "output_type": "execute_result",
          "data": {
            "text/plain": [
              "Index(['Movie_ID', 'Movie_Title', 'Movie_Genre', 'Movie_Language',\n",
              "       'Movie_Budget', 'Movie_Popularity', 'Movie_Release_Date',\n",
              "       'Movie_Revenue', 'Movie_Runtime', 'Movie_Vote', 'Movie_Vote_Count',\n",
              "       'Movie_Homepage', 'Movie_Keywords', 'Movie_Overview',\n",
              "       'Movie_Production_House', 'Movie_Production_Country',\n",
              "       'Movie_Spoken_Language', 'Movie_Tagline', 'Movie_Cast', 'Movie_Crew',\n",
              "       'Movie_Director'],\n",
              "      dtype='object')"
            ]
          },
          "metadata": {},
          "execution_count": 8
        }
      ]
    },
    {
      "cell_type": "code",
      "source": [
        "df_features = df[['Movie_Genre','Movie_Keywords','Movie_Tagline','Movie_Cast','Movie_Director']].fillna('')"
      ],
      "metadata": {
        "id": "SJvxqvkQ0ZKP"
      },
      "execution_count": 9,
      "outputs": []
    },
    {
      "cell_type": "code",
      "source": [
        "df_features.shape"
      ],
      "metadata": {
        "colab": {
          "base_uri": "https://localhost:8080/"
        },
        "id": "Pf4r1zwO0iKE",
        "outputId": "bf6364e6-7b13-4987-b15b-09cd0ab152e3"
      },
      "execution_count": 10,
      "outputs": [
        {
          "output_type": "execute_result",
          "data": {
            "text/plain": [
              "(4760, 5)"
            ]
          },
          "metadata": {},
          "execution_count": 10
        }
      ]
    },
    {
      "cell_type": "code",
      "source": [
        "df_features"
      ],
      "metadata": {
        "colab": {
          "base_uri": "https://localhost:8080/",
          "height": 580
        },
        "id": "ezN63xOf0ozu",
        "outputId": "803e04f9-fb5b-4879-9b8d-de2de4af5256"
      },
      "execution_count": 11,
      "outputs": [
        {
          "output_type": "execute_result",
          "data": {
            "text/plain": [
              "                           Movie_Genre  \\\n",
              "0                         Crime Comedy   \n",
              "1     Adventure Action Science Fiction   \n",
              "2                     Animation Family   \n",
              "3                 Comedy Drama Romance   \n",
              "4                                Drama   \n",
              "...                                ...   \n",
              "4755                            Horror   \n",
              "4756               Comedy Family Drama   \n",
              "4757                    Thriller Drama   \n",
              "4758                            Family   \n",
              "4759                       Documentary   \n",
              "\n",
              "                                         Movie_Keywords  \\\n",
              "0             hotel new year's eve witch bet hotel room   \n",
              "1           android galaxy hermit death star lightsaber   \n",
              "2     father son relationship harbor underwater fish...   \n",
              "3     vietnam veteran hippie mentally disabled runni...   \n",
              "4     male nudity female nudity adultery midlife cri...   \n",
              "...                                                 ...   \n",
              "4755                                                      \n",
              "4756                                                      \n",
              "4757                     christian film sex trafficking   \n",
              "4758                                                      \n",
              "4759  music actors legendary perfomer classic hollyw...   \n",
              "\n",
              "                                          Movie_Tagline  \\\n",
              "0     Twelve outrageous guests. Four scandalous requ...   \n",
              "1          A long time ago in a galaxy far, far away...   \n",
              "2     There are 3.7 trillion fish in the ocean, they...   \n",
              "3     The world will never be the same, once you've ...   \n",
              "4                                          Look closer.   \n",
              "...                                                 ...   \n",
              "4755                The hot spot where Satan's waitin'.   \n",
              "4756           It’s better to stand out than to fit in.   \n",
              "4757           She never knew it could happen to her...   \n",
              "4758                                                      \n",
              "4759                                                      \n",
              "\n",
              "                                             Movie_Cast     Movie_Director  \n",
              "0     Tim Roth Antonio Banderas Jennifer Beals Madon...     Allison Anders  \n",
              "1     Mark Hamill Harrison Ford Carrie Fisher Peter ...       George Lucas  \n",
              "2     Albert Brooks Ellen DeGeneres Alexander Gould ...     Andrew Stanton  \n",
              "3     Tom Hanks Robin Wright Gary Sinise Mykelti Wil...    Robert Zemeckis  \n",
              "4     Kevin Spacey Annette Bening Thora Birch Wes Be...         Sam Mendes  \n",
              "...                                                 ...                ...  \n",
              "4755  Lisa Hart Carroll Michael Des Barres Paul Drak...         Pece Dingo  \n",
              "4756  Roni Akurati Brighton Sharbino Jason Lee Anjul...       Frank Lotito  \n",
              "4757  Nicole Smolen Kim Baldwin Ariana Stephens Brys...       Jaco Booyens  \n",
              "4758                                                                        \n",
              "4759                                    Tony Oppedisano  Simon Napier-Bell  \n",
              "\n",
              "[4760 rows x 5 columns]"
            ],
            "text/html": [
              "\n",
              "  <div id=\"df-cd1d2cef-e759-4f20-b3eb-4af09251757a\" class=\"colab-df-container\">\n",
              "    <div>\n",
              "<style scoped>\n",
              "    .dataframe tbody tr th:only-of-type {\n",
              "        vertical-align: middle;\n",
              "    }\n",
              "\n",
              "    .dataframe tbody tr th {\n",
              "        vertical-align: top;\n",
              "    }\n",
              "\n",
              "    .dataframe thead th {\n",
              "        text-align: right;\n",
              "    }\n",
              "</style>\n",
              "<table border=\"1\" class=\"dataframe\">\n",
              "  <thead>\n",
              "    <tr style=\"text-align: right;\">\n",
              "      <th></th>\n",
              "      <th>Movie_Genre</th>\n",
              "      <th>Movie_Keywords</th>\n",
              "      <th>Movie_Tagline</th>\n",
              "      <th>Movie_Cast</th>\n",
              "      <th>Movie_Director</th>\n",
              "    </tr>\n",
              "  </thead>\n",
              "  <tbody>\n",
              "    <tr>\n",
              "      <th>0</th>\n",
              "      <td>Crime Comedy</td>\n",
              "      <td>hotel new year's eve witch bet hotel room</td>\n",
              "      <td>Twelve outrageous guests. Four scandalous requ...</td>\n",
              "      <td>Tim Roth Antonio Banderas Jennifer Beals Madon...</td>\n",
              "      <td>Allison Anders</td>\n",
              "    </tr>\n",
              "    <tr>\n",
              "      <th>1</th>\n",
              "      <td>Adventure Action Science Fiction</td>\n",
              "      <td>android galaxy hermit death star lightsaber</td>\n",
              "      <td>A long time ago in a galaxy far, far away...</td>\n",
              "      <td>Mark Hamill Harrison Ford Carrie Fisher Peter ...</td>\n",
              "      <td>George Lucas</td>\n",
              "    </tr>\n",
              "    <tr>\n",
              "      <th>2</th>\n",
              "      <td>Animation Family</td>\n",
              "      <td>father son relationship harbor underwater fish...</td>\n",
              "      <td>There are 3.7 trillion fish in the ocean, they...</td>\n",
              "      <td>Albert Brooks Ellen DeGeneres Alexander Gould ...</td>\n",
              "      <td>Andrew Stanton</td>\n",
              "    </tr>\n",
              "    <tr>\n",
              "      <th>3</th>\n",
              "      <td>Comedy Drama Romance</td>\n",
              "      <td>vietnam veteran hippie mentally disabled runni...</td>\n",
              "      <td>The world will never be the same, once you've ...</td>\n",
              "      <td>Tom Hanks Robin Wright Gary Sinise Mykelti Wil...</td>\n",
              "      <td>Robert Zemeckis</td>\n",
              "    </tr>\n",
              "    <tr>\n",
              "      <th>4</th>\n",
              "      <td>Drama</td>\n",
              "      <td>male nudity female nudity adultery midlife cri...</td>\n",
              "      <td>Look closer.</td>\n",
              "      <td>Kevin Spacey Annette Bening Thora Birch Wes Be...</td>\n",
              "      <td>Sam Mendes</td>\n",
              "    </tr>\n",
              "    <tr>\n",
              "      <th>...</th>\n",
              "      <td>...</td>\n",
              "      <td>...</td>\n",
              "      <td>...</td>\n",
              "      <td>...</td>\n",
              "      <td>...</td>\n",
              "    </tr>\n",
              "    <tr>\n",
              "      <th>4755</th>\n",
              "      <td>Horror</td>\n",
              "      <td></td>\n",
              "      <td>The hot spot where Satan's waitin'.</td>\n",
              "      <td>Lisa Hart Carroll Michael Des Barres Paul Drak...</td>\n",
              "      <td>Pece Dingo</td>\n",
              "    </tr>\n",
              "    <tr>\n",
              "      <th>4756</th>\n",
              "      <td>Comedy Family Drama</td>\n",
              "      <td></td>\n",
              "      <td>It’s better to stand out than to fit in.</td>\n",
              "      <td>Roni Akurati Brighton Sharbino Jason Lee Anjul...</td>\n",
              "      <td>Frank Lotito</td>\n",
              "    </tr>\n",
              "    <tr>\n",
              "      <th>4757</th>\n",
              "      <td>Thriller Drama</td>\n",
              "      <td>christian film sex trafficking</td>\n",
              "      <td>She never knew it could happen to her...</td>\n",
              "      <td>Nicole Smolen Kim Baldwin Ariana Stephens Brys...</td>\n",
              "      <td>Jaco Booyens</td>\n",
              "    </tr>\n",
              "    <tr>\n",
              "      <th>4758</th>\n",
              "      <td>Family</td>\n",
              "      <td></td>\n",
              "      <td></td>\n",
              "      <td></td>\n",
              "      <td></td>\n",
              "    </tr>\n",
              "    <tr>\n",
              "      <th>4759</th>\n",
              "      <td>Documentary</td>\n",
              "      <td>music actors legendary perfomer classic hollyw...</td>\n",
              "      <td></td>\n",
              "      <td>Tony Oppedisano</td>\n",
              "      <td>Simon Napier-Bell</td>\n",
              "    </tr>\n",
              "  </tbody>\n",
              "</table>\n",
              "<p>4760 rows × 5 columns</p>\n",
              "</div>\n",
              "    <div class=\"colab-df-buttons\">\n",
              "\n",
              "  <div class=\"colab-df-container\">\n",
              "    <button class=\"colab-df-convert\" onclick=\"convertToInteractive('df-cd1d2cef-e759-4f20-b3eb-4af09251757a')\"\n",
              "            title=\"Convert this dataframe to an interactive table.\"\n",
              "            style=\"display:none;\">\n",
              "\n",
              "  <svg xmlns=\"http://www.w3.org/2000/svg\" height=\"24px\" viewBox=\"0 -960 960 960\">\n",
              "    <path d=\"M120-120v-720h720v720H120Zm60-500h600v-160H180v160Zm220 220h160v-160H400v160Zm0 220h160v-160H400v160ZM180-400h160v-160H180v160Zm440 0h160v-160H620v160ZM180-180h160v-160H180v160Zm440 0h160v-160H620v160Z\"/>\n",
              "  </svg>\n",
              "    </button>\n",
              "\n",
              "  <style>\n",
              "    .colab-df-container {\n",
              "      display:flex;\n",
              "      gap: 12px;\n",
              "    }\n",
              "\n",
              "    .colab-df-convert {\n",
              "      background-color: #E8F0FE;\n",
              "      border: none;\n",
              "      border-radius: 50%;\n",
              "      cursor: pointer;\n",
              "      display: none;\n",
              "      fill: #1967D2;\n",
              "      height: 32px;\n",
              "      padding: 0 0 0 0;\n",
              "      width: 32px;\n",
              "    }\n",
              "\n",
              "    .colab-df-convert:hover {\n",
              "      background-color: #E2EBFA;\n",
              "      box-shadow: 0px 1px 2px rgba(60, 64, 67, 0.3), 0px 1px 3px 1px rgba(60, 64, 67, 0.15);\n",
              "      fill: #174EA6;\n",
              "    }\n",
              "\n",
              "    .colab-df-buttons div {\n",
              "      margin-bottom: 4px;\n",
              "    }\n",
              "\n",
              "    [theme=dark] .colab-df-convert {\n",
              "      background-color: #3B4455;\n",
              "      fill: #D2E3FC;\n",
              "    }\n",
              "\n",
              "    [theme=dark] .colab-df-convert:hover {\n",
              "      background-color: #434B5C;\n",
              "      box-shadow: 0px 1px 3px 1px rgba(0, 0, 0, 0.15);\n",
              "      filter: drop-shadow(0px 1px 2px rgba(0, 0, 0, 0.3));\n",
              "      fill: #FFFFFF;\n",
              "    }\n",
              "  </style>\n",
              "\n",
              "    <script>\n",
              "      const buttonEl =\n",
              "        document.querySelector('#df-cd1d2cef-e759-4f20-b3eb-4af09251757a button.colab-df-convert');\n",
              "      buttonEl.style.display =\n",
              "        google.colab.kernel.accessAllowed ? 'block' : 'none';\n",
              "\n",
              "      async function convertToInteractive(key) {\n",
              "        const element = document.querySelector('#df-cd1d2cef-e759-4f20-b3eb-4af09251757a');\n",
              "        const dataTable =\n",
              "          await google.colab.kernel.invokeFunction('convertToInteractive',\n",
              "                                                    [key], {});\n",
              "        if (!dataTable) return;\n",
              "\n",
              "        const docLinkHtml = 'Like what you see? Visit the ' +\n",
              "          '<a target=\"_blank\" href=https://colab.research.google.com/notebooks/data_table.ipynb>data table notebook</a>'\n",
              "          + ' to learn more about interactive tables.';\n",
              "        element.innerHTML = '';\n",
              "        dataTable['output_type'] = 'display_data';\n",
              "        await google.colab.output.renderOutput(dataTable, element);\n",
              "        const docLink = document.createElement('div');\n",
              "        docLink.innerHTML = docLinkHtml;\n",
              "        element.appendChild(docLink);\n",
              "      }\n",
              "    </script>\n",
              "  </div>\n",
              "\n",
              "\n",
              "<div id=\"df-13d92ca0-1998-46e3-92ee-0a1ebfdc60d2\">\n",
              "  <button class=\"colab-df-quickchart\" onclick=\"quickchart('df-13d92ca0-1998-46e3-92ee-0a1ebfdc60d2')\"\n",
              "            title=\"Suggest charts\"\n",
              "            style=\"display:none;\">\n",
              "\n",
              "<svg xmlns=\"http://www.w3.org/2000/svg\" height=\"24px\"viewBox=\"0 0 24 24\"\n",
              "     width=\"24px\">\n",
              "    <g>\n",
              "        <path d=\"M19 3H5c-1.1 0-2 .9-2 2v14c0 1.1.9 2 2 2h14c1.1 0 2-.9 2-2V5c0-1.1-.9-2-2-2zM9 17H7v-7h2v7zm4 0h-2V7h2v10zm4 0h-2v-4h2v4z\"/>\n",
              "    </g>\n",
              "</svg>\n",
              "  </button>\n",
              "\n",
              "<style>\n",
              "  .colab-df-quickchart {\n",
              "      --bg-color: #E8F0FE;\n",
              "      --fill-color: #1967D2;\n",
              "      --hover-bg-color: #E2EBFA;\n",
              "      --hover-fill-color: #174EA6;\n",
              "      --disabled-fill-color: #AAA;\n",
              "      --disabled-bg-color: #DDD;\n",
              "  }\n",
              "\n",
              "  [theme=dark] .colab-df-quickchart {\n",
              "      --bg-color: #3B4455;\n",
              "      --fill-color: #D2E3FC;\n",
              "      --hover-bg-color: #434B5C;\n",
              "      --hover-fill-color: #FFFFFF;\n",
              "      --disabled-bg-color: #3B4455;\n",
              "      --disabled-fill-color: #666;\n",
              "  }\n",
              "\n",
              "  .colab-df-quickchart {\n",
              "    background-color: var(--bg-color);\n",
              "    border: none;\n",
              "    border-radius: 50%;\n",
              "    cursor: pointer;\n",
              "    display: none;\n",
              "    fill: var(--fill-color);\n",
              "    height: 32px;\n",
              "    padding: 0;\n",
              "    width: 32px;\n",
              "  }\n",
              "\n",
              "  .colab-df-quickchart:hover {\n",
              "    background-color: var(--hover-bg-color);\n",
              "    box-shadow: 0 1px 2px rgba(60, 64, 67, 0.3), 0 1px 3px 1px rgba(60, 64, 67, 0.15);\n",
              "    fill: var(--button-hover-fill-color);\n",
              "  }\n",
              "\n",
              "  .colab-df-quickchart-complete:disabled,\n",
              "  .colab-df-quickchart-complete:disabled:hover {\n",
              "    background-color: var(--disabled-bg-color);\n",
              "    fill: var(--disabled-fill-color);\n",
              "    box-shadow: none;\n",
              "  }\n",
              "\n",
              "  .colab-df-spinner {\n",
              "    border: 2px solid var(--fill-color);\n",
              "    border-color: transparent;\n",
              "    border-bottom-color: var(--fill-color);\n",
              "    animation:\n",
              "      spin 1s steps(1) infinite;\n",
              "  }\n",
              "\n",
              "  @keyframes spin {\n",
              "    0% {\n",
              "      border-color: transparent;\n",
              "      border-bottom-color: var(--fill-color);\n",
              "      border-left-color: var(--fill-color);\n",
              "    }\n",
              "    20% {\n",
              "      border-color: transparent;\n",
              "      border-left-color: var(--fill-color);\n",
              "      border-top-color: var(--fill-color);\n",
              "    }\n",
              "    30% {\n",
              "      border-color: transparent;\n",
              "      border-left-color: var(--fill-color);\n",
              "      border-top-color: var(--fill-color);\n",
              "      border-right-color: var(--fill-color);\n",
              "    }\n",
              "    40% {\n",
              "      border-color: transparent;\n",
              "      border-right-color: var(--fill-color);\n",
              "      border-top-color: var(--fill-color);\n",
              "    }\n",
              "    60% {\n",
              "      border-color: transparent;\n",
              "      border-right-color: var(--fill-color);\n",
              "    }\n",
              "    80% {\n",
              "      border-color: transparent;\n",
              "      border-right-color: var(--fill-color);\n",
              "      border-bottom-color: var(--fill-color);\n",
              "    }\n",
              "    90% {\n",
              "      border-color: transparent;\n",
              "      border-bottom-color: var(--fill-color);\n",
              "    }\n",
              "  }\n",
              "</style>\n",
              "\n",
              "  <script>\n",
              "    async function quickchart(key) {\n",
              "      const quickchartButtonEl =\n",
              "        document.querySelector('#' + key + ' button');\n",
              "      quickchartButtonEl.disabled = true;  // To prevent multiple clicks.\n",
              "      quickchartButtonEl.classList.add('colab-df-spinner');\n",
              "      try {\n",
              "        const charts = await google.colab.kernel.invokeFunction(\n",
              "            'suggestCharts', [key], {});\n",
              "      } catch (error) {\n",
              "        console.error('Error during call to suggestCharts:', error);\n",
              "      }\n",
              "      quickchartButtonEl.classList.remove('colab-df-spinner');\n",
              "      quickchartButtonEl.classList.add('colab-df-quickchart-complete');\n",
              "    }\n",
              "    (() => {\n",
              "      let quickchartButtonEl =\n",
              "        document.querySelector('#df-13d92ca0-1998-46e3-92ee-0a1ebfdc60d2 button');\n",
              "      quickchartButtonEl.style.display =\n",
              "        google.colab.kernel.accessAllowed ? 'block' : 'none';\n",
              "    })();\n",
              "  </script>\n",
              "</div>\n",
              "\n",
              "  <div id=\"id_9193fa0f-92be-414d-bf9c-bf0880194b68\">\n",
              "    <style>\n",
              "      .colab-df-generate {\n",
              "        background-color: #E8F0FE;\n",
              "        border: none;\n",
              "        border-radius: 50%;\n",
              "        cursor: pointer;\n",
              "        display: none;\n",
              "        fill: #1967D2;\n",
              "        height: 32px;\n",
              "        padding: 0 0 0 0;\n",
              "        width: 32px;\n",
              "      }\n",
              "\n",
              "      .colab-df-generate:hover {\n",
              "        background-color: #E2EBFA;\n",
              "        box-shadow: 0px 1px 2px rgba(60, 64, 67, 0.3), 0px 1px 3px 1px rgba(60, 64, 67, 0.15);\n",
              "        fill: #174EA6;\n",
              "      }\n",
              "\n",
              "      [theme=dark] .colab-df-generate {\n",
              "        background-color: #3B4455;\n",
              "        fill: #D2E3FC;\n",
              "      }\n",
              "\n",
              "      [theme=dark] .colab-df-generate:hover {\n",
              "        background-color: #434B5C;\n",
              "        box-shadow: 0px 1px 3px 1px rgba(0, 0, 0, 0.15);\n",
              "        filter: drop-shadow(0px 1px 2px rgba(0, 0, 0, 0.3));\n",
              "        fill: #FFFFFF;\n",
              "      }\n",
              "    </style>\n",
              "    <button class=\"colab-df-generate\" onclick=\"generateWithVariable('df_features')\"\n",
              "            title=\"Generate code using this dataframe.\"\n",
              "            style=\"display:none;\">\n",
              "\n",
              "  <svg xmlns=\"http://www.w3.org/2000/svg\" height=\"24px\"viewBox=\"0 0 24 24\"\n",
              "       width=\"24px\">\n",
              "    <path d=\"M7,19H8.4L18.45,9,17,7.55,7,17.6ZM5,21V16.75L18.45,3.32a2,2,0,0,1,2.83,0l1.4,1.43a1.91,1.91,0,0,1,.58,1.4,1.91,1.91,0,0,1-.58,1.4L9.25,21ZM18.45,9,17,7.55Zm-12,3A5.31,5.31,0,0,0,4.9,8.1,5.31,5.31,0,0,0,1,6.5,5.31,5.31,0,0,0,4.9,4.9,5.31,5.31,0,0,0,6.5,1,5.31,5.31,0,0,0,8.1,4.9,5.31,5.31,0,0,0,12,6.5,5.46,5.46,0,0,0,6.5,12Z\"/>\n",
              "  </svg>\n",
              "    </button>\n",
              "    <script>\n",
              "      (() => {\n",
              "      const buttonEl =\n",
              "        document.querySelector('#id_9193fa0f-92be-414d-bf9c-bf0880194b68 button.colab-df-generate');\n",
              "      buttonEl.style.display =\n",
              "        google.colab.kernel.accessAllowed ? 'block' : 'none';\n",
              "\n",
              "      buttonEl.onclick = () => {\n",
              "        google.colab.notebook.generateWithVariable('df_features');\n",
              "      }\n",
              "      })();\n",
              "    </script>\n",
              "  </div>\n",
              "\n",
              "    </div>\n",
              "  </div>\n"
            ],
            "application/vnd.google.colaboratory.intrinsic+json": {
              "type": "dataframe",
              "variable_name": "df_features",
              "summary": "{\n  \"name\": \"df_features\",\n  \"rows\": 4760,\n  \"fields\": [\n    {\n      \"column\": \"Movie_Genre\",\n      \"properties\": {\n        \"dtype\": \"category\",\n        \"num_unique_values\": 1164,\n        \"samples\": [\n          \"Family Animation Adventure\",\n          \"Adventure Science Fiction Action\",\n          \"Action Crime Drama Romance Thriller\"\n        ],\n        \"semantic_type\": \"\",\n        \"description\": \"\"\n      }\n    },\n    {\n      \"column\": \"Movie_Keywords\",\n      \"properties\": {\n        \"dtype\": \"string\",\n        \"num_unique_values\": 4203,\n        \"samples\": [\n          \"canada nazis sequel spin off ancient evil\",\n          \"sex professor wedding woman director columbia university\",\n          \"prophecy sea beach gold small town\"\n        ],\n        \"semantic_type\": \"\",\n        \"description\": \"\"\n      }\n    },\n    {\n      \"column\": \"Movie_Tagline\",\n      \"properties\": {\n        \"dtype\": \"string\",\n        \"num_unique_values\": 3928,\n        \"samples\": [\n          \"The messenger must be silenced.\",\n          \"It's not the house that's haunted.\",\n          \"The final hunt begins.\"\n        ],\n        \"semantic_type\": \"\",\n        \"description\": \"\"\n      }\n    },\n    {\n      \"column\": \"Movie_Cast\",\n      \"properties\": {\n        \"dtype\": \"string\",\n        \"num_unique_values\": 4715,\n        \"samples\": [\n          \"Robin Tunney Fairuza Balk Neve Campbell Rachel True Skeet Ulrich\",\n          \"Peter Sellers Christopher Plummer Herbert Lom Catherine Schell Peter Arne\",\n          \"John Wayne Laraine Day Cedric Hardwicke Judith Anderson Anthony Quinn\"\n        ],\n        \"semantic_type\": \"\",\n        \"description\": \"\"\n      }\n    },\n    {\n      \"column\": \"Movie_Director\",\n      \"properties\": {\n        \"dtype\": \"category\",\n        \"num_unique_values\": 2332,\n        \"samples\": [\n          \"Rob McKittrick\",\n          \"Terron R. Parsons\",\n          \"Cyrus Nowrasteh\"\n        ],\n        \"semantic_type\": \"\",\n        \"description\": \"\"\n      }\n    }\n  ]\n}"
            }
          },
          "metadata": {},
          "execution_count": 11
        }
      ]
    },
    {
      "cell_type": "code",
      "source": [
        "x = df_features['Movie_Genre'] + ' ' + df_features['Movie_Keywords'] + ' ' + df_features['Movie_Tagline'] + ' ' + df_features['Movie_Cast'] + ' ' + df_features['Movie_Director']"
      ],
      "metadata": {
        "id": "EctfIu650r_g"
      },
      "execution_count": 12,
      "outputs": []
    },
    {
      "cell_type": "code",
      "source": [
        "x"
      ],
      "metadata": {
        "colab": {
          "base_uri": "https://localhost:8080/"
        },
        "id": "Rirk1LHc02Yf",
        "outputId": "bcf5af60-cddb-4952-96de-30ae258dbb66"
      },
      "execution_count": 13,
      "outputs": [
        {
          "output_type": "execute_result",
          "data": {
            "text/plain": [
              "0       Crime Comedy hotel new year's eve witch bet ho...\n",
              "1       Adventure Action Science Fiction android galax...\n",
              "2       Animation Family father son relationship harbo...\n",
              "3       Comedy Drama Romance vietnam veteran hippie me...\n",
              "4       Drama male nudity female nudity adultery midli...\n",
              "                              ...                        \n",
              "4755    Horror  The hot spot where Satan's waitin'. Li...\n",
              "4756    Comedy Family Drama  It’s better to stand out ...\n",
              "4757    Thriller Drama christian film sex trafficking ...\n",
              "4758                                           Family    \n",
              "4759    Documentary music actors legendary perfomer cl...\n",
              "Length: 4760, dtype: object"
            ]
          },
          "metadata": {},
          "execution_count": 13
        }
      ]
    },
    {
      "cell_type": "code",
      "source": [
        "x.shape"
      ],
      "metadata": {
        "colab": {
          "base_uri": "https://localhost:8080/"
        },
        "id": "trAZ3VmR04ik",
        "outputId": "ff401cac-2619-47c5-9d66-4dae5a93ca12"
      },
      "execution_count": 14,
      "outputs": [
        {
          "output_type": "execute_result",
          "data": {
            "text/plain": [
              "(4760,)"
            ]
          },
          "metadata": {},
          "execution_count": 14
        }
      ]
    },
    {
      "cell_type": "code",
      "source": [
        "from sklearn.feature_extraction.text import TfidfVectorizer"
      ],
      "metadata": {
        "id": "MnvIWazK0-At"
      },
      "execution_count": 16,
      "outputs": []
    },
    {
      "cell_type": "code",
      "source": [
        "tfidf = TfidfVectorizer()"
      ],
      "metadata": {
        "id": "6df-Y6Yi1K1k"
      },
      "execution_count": 17,
      "outputs": []
    },
    {
      "cell_type": "code",
      "source": [
        "x = tfidf.fit_transform(x)"
      ],
      "metadata": {
        "id": "i0LnFELy1Rp0"
      },
      "execution_count": 18,
      "outputs": []
    },
    {
      "cell_type": "code",
      "source": [
        "x.shape"
      ],
      "metadata": {
        "colab": {
          "base_uri": "https://localhost:8080/"
        },
        "id": "xmlTorSz1bnN",
        "outputId": "a3d893cd-21d3-4638-b83e-e9cae6ca5913"
      },
      "execution_count": 19,
      "outputs": [
        {
          "output_type": "execute_result",
          "data": {
            "text/plain": [
              "(4760, 17258)"
            ]
          },
          "metadata": {},
          "execution_count": 19
        }
      ]
    },
    {
      "cell_type": "code",
      "source": [
        "print(x)"
      ],
      "metadata": {
        "colab": {
          "base_uri": "https://localhost:8080/"
        },
        "id": "24Ai-YS31e4G",
        "outputId": "31524c10-7d09-466c-c631-7171fe57cfed"
      },
      "execution_count": 20,
      "outputs": [
        {
          "output_type": "stream",
          "name": "stdout",
          "text": [
            "  (0, 617)\t0.1633382144407513\n",
            "  (0, 492)\t0.1432591540388685\n",
            "  (0, 15413)\t0.1465525095337543\n",
            "  (0, 9675)\t0.14226057295252661\n",
            "  (0, 9465)\t0.1659841367820977\n",
            "  (0, 1390)\t0.16898383612799558\n",
            "  (0, 7825)\t0.09799561597509843\n",
            "  (0, 1214)\t0.13865857545144072\n",
            "  (0, 729)\t0.13415063359531618\n",
            "  (0, 13093)\t0.1432591540388685\n",
            "  (0, 15355)\t0.10477815972666779\n",
            "  (0, 9048)\t0.0866842116160778\n",
            "  (0, 11161)\t0.06250380151644369\n",
            "  (0, 16773)\t0.17654247479915475\n",
            "  (0, 5612)\t0.08603537588547631\n",
            "  (0, 16735)\t0.10690083751525419\n",
            "  (0, 7904)\t0.13348000542112332\n",
            "  (0, 15219)\t0.09800472886453934\n",
            "  (0, 11242)\t0.07277788238484746\n",
            "  (0, 3878)\t0.11998399582562203\n",
            "  (0, 5499)\t0.11454057510303811\n",
            "  (0, 7071)\t0.19822417598406614\n",
            "  (0, 7454)\t0.14745635785412262\n",
            "  (0, 1495)\t0.19712637387361423\n",
            "  (0, 9206)\t0.15186283580984414\n",
            "  :\t:\n",
            "  (4757, 5455)\t0.12491480594769522\n",
            "  (4757, 2967)\t0.16273475835631626\n",
            "  (4757, 8464)\t0.23522565554066333\n",
            "  (4757, 6938)\t0.17088173678136628\n",
            "  (4757, 8379)\t0.17480603856721913\n",
            "  (4757, 15303)\t0.07654356007668191\n",
            "  (4757, 15384)\t0.09754322497537371\n",
            "  (4757, 7649)\t0.11479421494340192\n",
            "  (4757, 10896)\t0.14546473055066447\n",
            "  (4757, 4494)\t0.05675298448720501\n",
            "  (4758, 5238)\t1.0\n",
            "  (4759, 11264)\t0.33947721804318337\n",
            "  (4759, 11708)\t0.33947721804318337\n",
            "  (4759, 205)\t0.3237911628497312\n",
            "  (4759, 8902)\t0.3040290704566037\n",
            "  (4759, 14062)\t0.3237911628497312\n",
            "  (4759, 3058)\t0.2812896191863103\n",
            "  (4759, 7130)\t0.26419662449963793\n",
            "  (4759, 10761)\t0.3126617295732147\n",
            "  (4759, 4358)\t0.18306542312175342\n",
            "  (4759, 14051)\t0.20084315377640435\n",
            "  (4759, 5690)\t0.19534291014627303\n",
            "  (4759, 15431)\t0.19628653185946862\n",
            "  (4759, 1490)\t0.21197258705292082\n",
            "  (4759, 10666)\t0.15888268987343043\n"
          ]
        }
      ]
    },
    {
      "cell_type": "code",
      "source": [
        "from sklearn.metrics.pairwise import cosine_similarity"
      ],
      "metadata": {
        "id": "28S9EUQ51jb8"
      },
      "execution_count": 21,
      "outputs": []
    },
    {
      "cell_type": "code",
      "source": [
        "Similarity_score = cosine_similarity(x)"
      ],
      "metadata": {
        "id": "p0R5nnwK1yy5"
      },
      "execution_count": 22,
      "outputs": []
    },
    {
      "cell_type": "code",
      "source": [
        "Similarity_score"
      ],
      "metadata": {
        "colab": {
          "base_uri": "https://localhost:8080/"
        },
        "id": "jQC3WGHS1-QT",
        "outputId": "d53d0e9b-d742-475e-dea8-62eadb054d8b"
      },
      "execution_count": 23,
      "outputs": [
        {
          "output_type": "execute_result",
          "data": {
            "text/plain": [
              "array([[1.        , 0.01351235, 0.03570468, ..., 0.        , 0.        ,\n",
              "        0.        ],\n",
              "       [0.01351235, 1.        , 0.00806674, ..., 0.        , 0.        ,\n",
              "        0.        ],\n",
              "       [0.03570468, 0.00806674, 1.        , ..., 0.        , 0.08014876,\n",
              "        0.        ],\n",
              "       ...,\n",
              "       [0.        , 0.        , 0.        , ..., 1.        , 0.        ,\n",
              "        0.        ],\n",
              "       [0.        , 0.        , 0.08014876, ..., 0.        , 1.        ,\n",
              "        0.        ],\n",
              "       [0.        , 0.        , 0.        , ..., 0.        , 0.        ,\n",
              "        1.        ]])"
            ]
          },
          "metadata": {},
          "execution_count": 23
        }
      ]
    },
    {
      "cell_type": "code",
      "source": [
        "Similarity_score.shape"
      ],
      "metadata": {
        "colab": {
          "base_uri": "https://localhost:8080/"
        },
        "id": "gK0QaHa52C7n",
        "outputId": "ffc38f99-cfb9-4450-dac7-55aab1c2602b"
      },
      "execution_count": 24,
      "outputs": [
        {
          "output_type": "execute_result",
          "data": {
            "text/plain": [
              "(4760, 4760)"
            ]
          },
          "metadata": {},
          "execution_count": 24
        }
      ]
    },
    {
      "cell_type": "code",
      "source": [
        "Favourite_Movie_Name = input('Enter your favourite movie name : ')"
      ],
      "metadata": {
        "colab": {
          "base_uri": "https://localhost:8080/"
        },
        "id": "wpR0hdsD2H04",
        "outputId": "1701c25a-cfb6-46fe-ec5e-28d7d064bc80"
      },
      "execution_count": 26,
      "outputs": [
        {
          "name": "stdout",
          "output_type": "stream",
          "text": [
            "Enter your favourite movie name : Rockstar\n"
          ]
        }
      ]
    },
    {
      "cell_type": "code",
      "source": [
        "All_movies_title_list = df['Movie_Title'].tolist()"
      ],
      "metadata": {
        "id": "8fdpUp1R2UK4"
      },
      "execution_count": 27,
      "outputs": []
    },
    {
      "cell_type": "code",
      "source": [
        "import difflib"
      ],
      "metadata": {
        "id": "Dy-5TDSH2iVP"
      },
      "execution_count": 28,
      "outputs": []
    },
    {
      "cell_type": "code",
      "source": [
        "Movie_recommendation = difflib.get_close_matches(Favourite_Movie_Name, All_movies_title_list)\n",
        "print(Movie_recommendation)"
      ],
      "metadata": {
        "colab": {
          "base_uri": "https://localhost:8080/"
        },
        "id": "4JfioF1z2lvL",
        "outputId": "74a4db6a-b10d-49b9-a73b-f281f74bf7cf"
      },
      "execution_count": 29,
      "outputs": [
        {
          "output_type": "stream",
          "name": "stdout",
          "text": [
            "['Rock Star', 'Roar', 'Rockaway']\n"
          ]
        }
      ]
    },
    {
      "cell_type": "code",
      "source": [
        "Close_Match = Movie_recommendation[0]\n",
        "print(Close_Match)"
      ],
      "metadata": {
        "colab": {
          "base_uri": "https://localhost:8080/"
        },
        "id": "0CGGvSb92sxh",
        "outputId": "9faabab4-3710-4214-e5fc-7c4bba0c687e"
      },
      "execution_count": 30,
      "outputs": [
        {
          "output_type": "stream",
          "name": "stdout",
          "text": [
            "Rock Star\n"
          ]
        }
      ]
    },
    {
      "cell_type": "code",
      "source": [
        "Index_of_close_match_movie = df[df.Movie_Title == Close_Match]['Movie_ID'].values[0]\n",
        "print(Index_of_close_match_movie)"
      ],
      "metadata": {
        "colab": {
          "base_uri": "https://localhost:8080/"
        },
        "id": "pYGG9p6M21IH",
        "outputId": "4c39fc9b-5692-47ec-dd9d-f7ee3de46605"
      },
      "execution_count": 31,
      "outputs": [
        {
          "output_type": "stream",
          "name": "stdout",
          "text": [
            "2144\n"
          ]
        }
      ]
    },
    {
      "cell_type": "code",
      "source": [
        "Reccomendation_score = list(enumerate(Similarity_score[Index_of_close_match_movie]))\n",
        "print(Reccomendation_score)"
      ],
      "metadata": {
        "colab": {
          "base_uri": "https://localhost:8080/"
        },
        "id": "INLlnmlK24-0",
        "outputId": "fc1e9c3b-e9de-4d33-b409-44644251e86a"
      },
      "execution_count": 32,
      "outputs": [
        {
          "output_type": "stream",
          "name": "stdout",
          "text": [
            "[(0, 0.03770775963452892), (1, 0.0), (2, 0.011797275005944427), (3, 0.0294437475960988), (4, 0.0031083951799774985), (5, 0.002954786504483186), (6, 0.0), (7, 0.010311484599705498), (8, 0.023202246769040532), (9, 0.007061143388732348), (10, 0.0), (11, 0.0030507223679941517), (12, 0.003146000449983861), (13, 0.05184417055815531), (14, 0.023020198212581264), (15, 0.016221423061818757), (16, 0.0024554718061725934), (17, 0.0), (18, 0.04622243105232566), (19, 0.021211182665696507), (20, 0.0030814350915630683), (21, 0.11703493009110601), (22, 0.007576311086123889), (23, 0.010375435132056972), (24, 0.00937508642023046), (25, 0.008748748826694677), (26, 0.03468710000253965), (27, 0.016522730308316927), (28, 0.0), (29, 0.03739939295249177), (30, 0.0), (31, 0.0027706476083374904), (32, 0.019279080381628854), (33, 0.008798932799583123), (34, 0.0030655379665975907), (35, 0.017567301749024718), (36, 0.0), (37, 0.010414307164704902), (38, 0.0), (39, 0.0), (40, 0.008559345186112101), (41, 0.05920364445217925), (42, 0.0), (43, 0.009707777202165178), (44, 0.03426144611690885), (45, 0.0), (46, 0.010603253450338707), (47, 0.010125952435039887), (48, 0.003246073794003431), (49, 0.006795103865319784), (50, 0.0), (51, 0.010475318874558222), (52, 0.0028168224554284897), (53, 0.023838642994317795), (54, 0.0), (55, 0.0), (56, 0.00776875648554839), (57, 0.021994537454253088), (58, 0.01152835471338009), (59, 0.0), (60, 0.03735734678229181), (61, 0.01648267473178779), (62, 0.05833750092832793), (63, 0.023076062743735998), (64, 0.0), (65, 0.0), (66, 0.0029402743703444392), (67, 0.013838253422254816), (68, 0.0031244064911019128), (69, 0.016114395314571418), (70, 0.05027748795963746), (71, 0.010200016134473886), (72, 0.0), (73, 0.0), (74, 0.0031332006570680476), (75, 0.0), (76, 0.0), (77, 0.03787967063811141), (78, 0.016003453259422568), (79, 0.010543374560735244), (80, 0.0), (81, 0.014140697078634232), (82, 0.02247330644168277), (83, 0.007732225876195276), (84, 0.015573889290269219), (85, 0.0310372400587104), (86, 0.012591139486695099), (87, 0.002843934222784683), (88, 0.028228022274768675), (89, 0.0), (90, 0.0), (91, 0.0), (92, 0.0025926130650338287), (93, 0.0), (94, 0.0), (95, 0.0), (96, 0.002726615140795615), (97, 0.002585334308308823), (98, 0.0028847212715361606), (99, 0.0), (100, 0.0), (101, 0.0), (102, 0.0), (103, 0.008623685327680274), (104, 0.010643122588206698), (105, 0.026944818771434335), (106, 0.014015232122429621), (107, 0.0033412705811075023), (108, 0.04236919302374638), (109, 0.010544309048742779), (110, 0.007164787933680758), (111, 0.01751247238584346), (112, 0.0028362353166570113), (113, 0.033224564203408205), (114, 0.021384872334227555), (115, 0.0030123701340062006), (116, 0.00939690503534355), (117, 0.0), (118, 0.051570202899412304), (119, 0.05238287594167663), (120, 0.0030383115586527973), (121, 0.019635828002149712), (122, 0.013519332458445528), (123, 0.0032231731456447846), (124, 0.016624759599586838), (125, 0.02553665505249296), (126, 0.002779590974600608), (127, 0.04194130052489067), (128, 0.0), (129, 0.006952562416992848), (130, 0.02717773891997652), (131, 0.007730594056485428), (132, 0.008827065403287586), (133, 0.0), (134, 0.0), (135, 0.0), (136, 0.15172679715224294), (137, 0.00785584086899954), (138, 0.0), (139, 0.0), (140, 0.015638696157476633), (141, 0.03807237671180157), (142, 0.03977009473693009), (143, 0.0), (144, 0.04720419858746181), (145, 0.0), (146, 0.05218775424892993), (147, 0.1163132918308693), (148, 0.0), (149, 0.013786507217186234), (150, 0.0), (151, 0.0), (152, 0.0), (153, 0.0), (154, 0.041309579544681854), (155, 0.02515830423434632), (156, 0.01428671763291021), (157, 0.02911295649298965), (158, 0.040308043220439245), (159, 0.008277584326939553), (160, 0.014579353975076438), (161, 0.022666444081304978), (162, 0.016119306544790313), (163, 0.0), (164, 0.03605431533210702), (165, 0.0025467214291016345), (166, 0.002601793434488349), (167, 0.01702400293027437), (168, 0.005996895174534768), (169, 0.0344988530139505), (170, 0.022793829063731178), (171, 0.0), (172, 0.030665168242157252), (173, 0.04087551787051351), (174, 0.01737130510647374), (175, 0.03017350307315436), (176, 0.01715481137232553), (177, 0.006504721914819761), (178, 0.010473766677655), (179, 0.013215548165965632), (180, 0.0), (181, 0.025910602832485842), (182, 0.039839666561023536), (183, 0.009699734090344964), (184, 0.015517748328776676), (185, 0.020212006516448257), (186, 0.0), (187, 0.0), (188, 0.027318469213673282), (189, 0.0), (190, 0.0231845741441737), (191, 0.0), (192, 0.010768554886270466), (193, 0.2124154249103812), (194, 0.007988274331005924), (195, 0.008368689565128184), (196, 0.03240210792177019), (197, 0.016605586668049094), (198, 0.05207795246202783), (199, 0.04680957624612303), (200, 0.0026031224926642347), (201, 0.014344746846530887), (202, 0.014018831537408556), (203, 0.0027875116524305847), (204, 0.003077786205289222), (205, 0.0), (206, 0.0199978888503522), (207, 0.0), (208, 0.011228522709914805), (209, 0.010672161279938724), (210, 0.0031750706939135793), (211, 0.010406944808023785), (212, 0.03603056121296541), (213, 0.0027419270016665904), (214, 0.0), (215, 0.07216227286473766), (216, 0.003054246768542677), (217, 0.0), (218, 0.009089747901465571), (219, 0.0), (220, 0.0), (221, 0.027299466737543573), (222, 0.01602480196575437), (223, 0.0), (224, 0.00761764342691482), (225, 0.008062453530197189), (226, 0.045238135848548855), (227, 0.010640568255943032), (228, 0.05911029297367982), (229, 0.013382284982587108), (230, 0.007430792271650591), (231, 0.08409657186166733), (232, 0.024016781311092264), (233, 0.0), (234, 0.043256377325999566), (235, 0.14148024675639542), (236, 0.002767243782316578), (237, 0.018510351200671318), (238, 0.003004733324616133), (239, 0.0), (240, 0.0), (241, 0.011380110658373778), (242, 0.009157047366631643), (243, 0.007446075213721071), (244, 0.0), (245, 0.0), (246, 0.01526527695141676), (247, 0.031018180924074976), (248, 0.007058907955708577), (249, 0.0268081923851653), (250, 0.017798671469501388), (251, 0.009065012760461922), (252, 0.016127187596885702), (253, 0.0366570069925272), (254, 0.018401322155595826), (255, 0.010426019863115317), (256, 0.0022009313065043438), (257, 0.0), (258, 0.0), (259, 0.0), (260, 0.0), (261, 0.0), (262, 0.028541367829271906), (263, 0.0072207801265667644), (264, 0.0), (265, 0.011434985461471554), (266, 0.008137787924123919), (267, 0.0024965831289626584), (268, 0.002627561182347379), (269, 0.04236566484141893), (270, 0.003081063038545951), (271, 0.024015061694120918), (272, 0.00700829978374458), (273, 0.021646359904040832), (274, 0.02023374866755814), (275, 0.03629794760397052), (276, 0.0027777701303383783), (277, 0.006707197774023993), (278, 0.008575097622395783), (279, 0.03287184644201378), (280, 0.05057227525106088), (281, 0.07348373876406744), (282, 0.03428232374738906), (283, 0.007739799069544843), (284, 0.0), (285, 0.002668143744395649), (286, 0.014326301581323747), (287, 0.009923988574159194), (288, 0.006479977006317588), (289, 0.0), (290, 0.0), (291, 0.0), (292, 0.02360082012251828), (293, 0.00209470028728714), (294, 0.009083409266554777), (295, 0.0), (296, 0.022195676843525733), (297, 0.07000053156292302), (298, 0.052502266642924865), (299, 0.0), (300, 0.029006557506026643), (301, 0.008071448043604525), (302, 0.0063716614126326935), (303, 0.0), (304, 0.0), (305, 0.0), (306, 0.0), (307, 0.024840301383242815), (308, 0.003294335330743614), (309, 0.02492357745644688), (310, 0.01096072781470121), (311, 0.02592649394079149), (312, 0.020903022822695107), (313, 0.007907696181037352), (314, 0.0), (315, 0.0), (316, 0.0), (317, 0.027981126668800312), (318, 0.018541883878567568), (319, 0.011694058818237279), (320, 0.0), (321, 0.0074060584308785656), (322, 0.007513686180413077), (323, 0.0), (324, 0.028914229947601573), (325, 0.00940848305922704), (326, 0.012193142502998165), (327, 0.006844845719052758), (328, 0.0525262181445251), (329, 0.017661899228326453), (330, 0.023124584785112052), (331, 0.0), (332, 0.011426677595996311), (333, 0.010147315654441921), (334, 0.02950292001906437), (335, 0.0), (336, 0.023889871871623662), (337, 0.0), (338, 0.0), (339, 0.0), (340, 0.025288283627281194), (341, 0.00821583955330549), (342, 0.027509021377490665), (343, 0.058753915271010315), (344, 0.0), (345, 0.0), (346, 0.052416252239169264), (347, 0.007034132956108665), (348, 0.002916311544130595), (349, 0.0028572677590808344), (350, 0.01562680259139392), (351, 0.012737260169188497), (352, 0.014456643633679819), (353, 0.026896161426641294), (354, 0.006982743722764839), (355, 0.03323290901482231), (356, 0.016775227234049082), (357, 0.012386741453891707), (358, 0.024525389656854454), (359, 0.0027035803533174097), (360, 0.0), (361, 0.0), (362, 0.0), (363, 0.008337849883573063), (364, 0.002534477173820481), (365, 0.0), (366, 0.009303402964761521), (367, 0.0), (368, 0.0), (369, 0.019253370815604576), (370, 0.0029412489129760893), (371, 0.003241771362710683), (372, 0.0027449384286170834), (373, 0.009435910887291054), (374, 0.01796319411293323), (375, 0.0), (376, 0.0), (377, 0.014789691793033787), (378, 0.0029586381835990504), (379, 0.0), (380, 0.0), (381, 0.009317651012686045), (382, 0.0), (383, 0.01016734834865292), (384, 0.1130088780773881), (385, 0.00776055366836054), (386, 0.02450792932109006), (387, 0.03278089123135835), (388, 0.009399050638741656), (389, 0.0), (390, 0.014125346991783218), (391, 0.020371421139338874), (392, 0.016895955204673886), (393, 0.0), (394, 0.0), (395, 0.017912048860926143), (396, 0.002831025953296018), (397, 0.0), (398, 0.007059144159156996), (399, 0.01632873818787626), (400, 0.00291897222146675), (401, 0.0), (402, 0.03228357625007979), (403, 0.01490636305194466), (404, 0.014242428664017658), (405, 0.00751547627867164), (406, 0.017943167262807466), (407, 0.038540354521470456), (408, 0.009413328017157266), (409, 0.010503039744191566), (410, 0.02291665009571167), (411, 0.0), (412, 0.008640605671179061), (413, 0.008147864712768722), (414, 0.022863807605644437), (415, 0.0), (416, 0.002699654388526158), (417, 0.0), (418, 0.0), (419, 0.003317995025517163), (420, 0.0), (421, 0.0), (422, 0.010778820051108421), (423, 0.0), (424, 0.018060196360147992), (425, 0.018044527131134597), (426, 0.014877491340830384), (427, 0.0), (428, 0.009548697398016644), (429, 0.0030875092797095012), (430, 0.00317088329318971), (431, 0.01174184649112579), (432, 0.0025062310597102062), (433, 0.01489295806510475), (434, 0.002787084222275225), (435, 0.021150977950781066), (436, 0.0032960918483637973), (437, 0.01727564337332987), (438, 0.0), (439, 0.0), (440, 0.0), (441, 0.03189551918433191), (442, 0.002442760904661154), (443, 0.016602519634072412), (444, 0.02418095806747692), (445, 0.00905409439037494), (446, 0.01031731365351616), (447, 0.0317411671096656), (448, 0.011492161733950434), (449, 0.022838603578013338), (450, 0.0032326345087826747), (451, 0.022914827803579837), (452, 0.0223049494275033), (453, 0.002252725707998468), (454, 0.027522527050523295), (455, 0.01747928160834277), (456, 0.010548685581739565), (457, 0.015322846247423144), (458, 0.0032871871417259986), (459, 0.013982157707608507), (460, 0.0), (461, 0.016281763889857057), (462, 0.03938417075651458), (463, 0.009801858010052383), (464, 0.031890244324875236), (465, 0.035574196679506384), (466, 0.017422033882882892), (467, 0.014467056407924988), (468, 0.007140187493009975), (469, 0.0), (470, 0.07670047849864646), (471, 0.04574657328714943), (472, 0.03321469711586332), (473, 0.07666292618327279), (474, 0.02707419566626168), (475, 0.04206242709149602), (476, 0.0032338666793203202), (477, 0.006086519316968488), (478, 0.0033341428306938887), (479, 0.0029425422970387827), (480, 0.0025851272491364046), (481, 0.0032038198436291506), (482, 0.011039288843960257), (483, 0.019904591035583095), (484, 0.0), (485, 0.018884755880560662), (486, 0.0), (487, 0.0292623168257526), (488, 0.038314175755913116), (489, 0.10270132497078494), (490, 0.024391872194368638), (491, 0.0), (492, 0.0), (493, 0.010571134549371933), (494, 0.0), (495, 0.0026056440222834375), (496, 0.0252836465336491), (497, 0.0), (498, 0.0), (499, 0.003206058084870891), (500, 0.0), (501, 0.0), (502, 0.019735957036995544), (503, 0.018245343099609967), (504, 0.010016586919795747), (505, 0.0027986629769885204), (506, 0.0), (507, 0.038025776809260114), (508, 0.038447455378229196), (509, 0.029771100630609358), (510, 0.017077510467356248), (511, 0.013898466678757566), (512, 0.0), (513, 0.0), (514, 0.0), (515, 0.002655506090851733), (516, 0.0), (517, 0.0), (518, 0.0034537074061102863), (519, 0.0093383600690469), (520, 0.03853123938048822), (521, 0.032460403316686974), (522, 0.002859702582439766), (523, 0.008021008081766154), (524, 0.0348395503876972), (525, 0.0), (526, 0.1376205915716469), (527, 0.023445013523056918), (528, 0.014943539339679849), (529, 0.007053724647417533), (530, 0.0), (531, 0.00841696393895693), (532, 0.010593399777440267), (533, 0.0033135329819004135), (534, 0.0029096768453245837), (535, 0.0), (536, 0.049029351489023015), (537, 0.02539112351223018), (538, 0.03047749390274996), (539, 0.0), (540, 0.0), (541, 0.020991474748267177), (542, 0.0020658859958671096), (543, 0.0030683200321444475), (544, 0.002989595400916351), (545, 0.0), (546, 0.01100705117291215), (547, 0.02720110792178041), (548, 0.012893034085003821), (549, 0.012756364212481884), (550, 0.0), (551, 0.034150195948426054), (552, 0.0), (553, 0.02170533071774853), (554, 0.0), (555, 0.01255206501452514), (556, 0.0), (557, 0.0), (558, 0.0027165787844400926), (559, 0.0), (560, 0.0), (561, 0.005626636817789221), (562, 0.002234998718570065), (563, 0.0026564890263534344), (564, 0.010430829952809199), (565, 0.0), (566, 0.015274698706917557), (567, 0.0), (568, 0.007076907304025582), (569, 0.0), (570, 0.0), (571, 0.00227142798111552), (572, 0.0), (573, 0.0), (574, 0.0), (575, 0.011972947903419157), (576, 0.011223718880110723), (577, 0.0), (578, 0.028850155427795586), (579, 0.04100207458297837), (580, 0.0030784730258620347), (581, 0.002654836610662828), (582, 0.034537604899992615), (583, 0.013272622388910985), (584, 0.003048312800019653), (585, 0.039798622180532685), (586, 0.0), (587, 0.04132830297135479), (588, 0.010345978691184258), (589, 0.019800050709436218), (590, 0.002715240353989664), (591, 0.0), (592, 0.0), (593, 0.0030048476090445415), (594, 0.0026332039510800665), (595, 0.0), (596, 0.0033008728859628828), (597, 0.019762339338159934), (598, 0.013374090367639235), (599, 0.0), (600, 0.04994307913339279), (601, 0.0), (602, 0.0), (603, 0.0), (604, 0.017338024656076586), (605, 0.02883727897713246), (606, 0.03848643734540361), (607, 0.018266530997289986), (608, 0.009025212114454496), (609, 0.029059725065938298), (610, 0.0), (611, 0.015778072963998486), (612, 0.026152989701707076), (613, 0.0), (614, 0.07468508954542968), (615, 0.007904135062845279), (616, 0.021043977858209918), (617, 0.002487296869772313), (618, 0.04414873925576275), (619, 0.018669229743960368), (620, 0.06280280736619545), (621, 0.0), (622, 0.018724999372015563), (623, 0.026161684137112146), (624, 0.0026946482369055065), (625, 0.0), (626, 0.002496619389640176), (627, 0.003989156928036057), (628, 0.03574266052051239), (629, 0.006588900895710957), (630, 0.0), (631, 0.010874488538938288), (632, 0.0), (633, 0.0), (634, 0.018425330282790725), (635, 0.008330627873522732), (636, 0.0029752467608990655), (637, 0.0030507339141555424), (638, 0.009176445423454326), (639, 0.0), (640, 0.0), (641, 0.025588675416195326), (642, 0.016283684728800218), (643, 0.02357190576580678), (644, 0.00945816949485747), (645, 0.0024061382081960593), (646, 0.016054795541063573), (647, 0.012594352410332884), (648, 0.04550630366093651), (649, 0.006643968530973413), (650, 0.0), (651, 0.010210954178404029), (652, 0.0030133272231565784), (653, 0.06013130385443403), (654, 0.0), (655, 0.009297583396753614), (656, 0.0), (657, 0.00939201947696985), (658, 0.0), (659, 0.017560489342395878), (660, 0.010400272944940928), (661, 0.0), (662, 0.013330554505685696), (663, 0.016311345975698895), (664, 0.006839759423778582), (665, 0.04901922286213392), (666, 0.0), (667, 0.0), (668, 0.0), (669, 0.02022820543325457), (670, 0.0036306364772934973), (671, 0.015117788031158107), (672, 0.002626969987957122), (673, 0.0032148797231565406), (674, 0.0), (675, 0.003212742042295479), (676, 0.013916020499225214), (677, 0.017431683198323913), (678, 0.0), (679, 0.0), (680, 0.0031330429025638157), (681, 0.0), (682, 0.0), (683, 0.0033258412686440275), (684, 0.04041629402287436), (685, 0.0), (686, 0.0), (687, 0.0), (688, 0.00326351431809216), (689, 0.024191920872099287), (690, 0.0), (691, 0.041884691035373574), (692, 0.038999321634729245), (693, 0.023072293215175343), (694, 0.0027703560599155737), (695, 0.038105543977428255), (696, 0.018975601487904965), (697, 0.03239771537621413), (698, 0.07474470200323158), (699, 0.0), (700, 0.007691399070560737), (701, 0.0032885743913557575), (702, 0.0), (703, 0.022972970944856043), (704, 0.0), (705, 0.027741546743164668), (706, 0.038238689324767115), (707, 0.01482199123701958), (708, 0.0), (709, 0.00587030280433018), (710, 0.030945539365533334), (711, 0.035815909255201964), (712, 0.0026027900440060998), (713, 0.0), (714, 0.011543081199636174), (715, 0.024259705825470754), (716, 0.0030893061728415215), (717, 0.00307220797092939), (718, 0.0), (719, 0.008496816617233671), (720, 0.0), (721, 0.003375514647499919), (722, 0.0026471198059732715), (723, 0.0), (724, 0.013654177479517256), (725, 0.047838005581800104), (726, 0.0058617765431936185), (727, 0.002894409516728089), (728, 0.0031774769199547966), (729, 0.0032851454533712977), (730, 0.028313910783636594), (731, 0.0028180833512809703), (732, 0.009441509145826933), (733, 0.008614561621467667), (734, 0.03548554118672781), (735, 0.013595502678903842), (736, 0.02307004256146699), (737, 0.03638905835734778), (738, 0.0), (739, 0.0033616764012748424), (740, 0.030084305430800887), (741, 0.006656624839738029), (742, 0.036661255475688215), (743, 0.003027305934395336), (744, 0.0027244380365954537), (745, 0.013569208832319185), (746, 0.0), (747, 0.0692880224486539), (748, 0.03379979193150369), (749, 0.002947791939721928), (750, 0.003001333637134508), (751, 0.0), (752, 0.05437543412516907), (753, 0.0), (754, 0.007510577665281585), (755, 0.030487315187738222), (756, 0.10353264354846389), (757, 0.014543229480902042), (758, 0.01475429793667202), (759, 0.04380603709774466), (760, 0.04302144892183053), (761, 0.03344250103013493), (762, 0.025948556281615416), (763, 0.031828772964163754), (764, 0.010231269839045726), (765, 0.0), (766, 0.009786033109242386), (767, 0.002794606317997053), (768, 0.007151643149532549), (769, 0.01647645250713786), (770, 0.0), (771, 0.0), (772, 0.0), (773, 0.006781702952617259), (774, 0.025522894577992835), (775, 0.020402559396753804), (776, 0.02380731361173525), (777, 0.06760432047527934), (778, 0.00785253630395038), (779, 0.00975177196226472), (780, 0.015133351064384218), (781, 0.0), (782, 0.010148875566196404), (783, 0.025522687252509578), (784, 0.0072688663217082205), (785, 0.007014549534504237), (786, 0.005871584116551284), (787, 0.01344727255169996), (788, 0.04680741295090071), (789, 0.0), (790, 0.0), (791, 0.02918639347229276), (792, 0.003133763886960725), (793, 0.0), (794, 0.019675934805584133), (795, 0.008285855868412031), (796, 0.017737310770855656), (797, 0.0), (798, 0.0028113893797460715), (799, 0.002871921213345051), (800, 0.009506372026690135), (801, 0.0), (802, 0.0), (803, 0.0), (804, 0.0026497159783378504), (805, 0.0027242622461677835), (806, 0.0030402233004101316), (807, 0.009057739436639721), (808, 0.028988874858691886), (809, 0.007833542670833577), (810, 0.01752369212222302), (811, 0.019015482113190853), (812, 0.007214754397668351), (813, 0.02904716093383039), (814, 0.03075227092782052), (815, 0.012823923918211612), (816, 0.002397797595493655), (817, 0.010234920955120819), (818, 0.053849138873681715), (819, 0.006644593353028459), (820, 0.006192553104704213), (821, 0.006988140681155417), (822, 0.014738194481089841), (823, 0.020312159924136527), (824, 0.042006208209688374), (825, 0.0), (826, 0.035660838595281824), (827, 0.0), (828, 0.02566467933650045), (829, 0.03454794500362756), (830, 0.010466122781620811), (831, 0.011785964994761807), (832, 0.0029954655903845877), (833, 0.007141041700214368), (834, 0.021724056068343628), (835, 0.020708674424120492), (836, 0.0), (837, 0.0), (838, 0.029999924243417755), (839, 0.0), (840, 0.01420887140772735), (841, 0.0), (842, 0.0), (843, 0.025769541278836367), (844, 0.029687503169975784), (845, 0.022720174830098416), (846, 0.04046218545148345), (847, 0.05744200295663285), (848, 0.002971068650169294), (849, 0.01373991713781523), (850, 0.010767108018109903), (851, 0.0025808211705326974), (852, 0.022676009822742815), (853, 0.008177393333037795), (854, 0.002811544904111362), (855, 0.0), (856, 0.016827597436163376), (857, 0.028559375724850584), (858, 0.0019891465236573746), (859, 0.006626653573797505), (860, 0.0034133752691332276), (861, 0.04143186127766886), (862, 0.0), (863, 0.01983759659214454), (864, 0.02675953811059954), (865, 0.05333873566615757), (866, 0.002738746350951884), (867, 0.03931653061800273), (868, 0.0027352658315503786), (869, 0.0), (870, 0.024692313974470692), (871, 0.010230032728640606), (872, 0.017872965465043068), (873, 0.007507021654708222), (874, 0.009120790555775816), (875, 0.0), (876, 0.07888559700342633), (877, 0.0), (878, 0.0027825547488687075), (879, 0.010387370949549514), (880, 0.024278796914915607), (881, 0.053359726315906054), (882, 0.0), (883, 0.05024922669605079), (884, 0.003065059359186849), (885, 0.008930440035605364), (886, 0.0027619130784471355), (887, 0.003203307343206809), (888, 0.020893715245611077), (889, 0.027929992818554246), (890, 0.02228182924236207), (891, 0.0), (892, 0.0), (893, 0.0), (894, 0.0029183463126976283), (895, 0.041264034007169395), (896, 0.003218312713584252), (897, 0.0703450155091083), (898, 0.04527638064230785), (899, 0.016783193933105733), (900, 0.009888729159983319), (901, 0.0024401172872554715), (902, 0.0), (903, 0.002761505874580533), (904, 0.0), (905, 0.0), (906, 0.015196907672948711), (907, 0.009156031609083487), (908, 0.0), (909, 0.016076285118565268), (910, 0.0026967799472801097), (911, 0.0027910120533628027), (912, 0.0), (913, 0.0), (914, 0.019694195279843084), (915, 0.0), (916, 0.021808688698393062), (917, 0.002636961434323475), (918, 0.0), (919, 0.0), (920, 0.0), (921, 0.01636770083899195), (922, 0.0033052456081315916), (923, 0.048071037782465804), (924, 0.038039470044276796), (925, 0.0033874303250765103), (926, 0.04456718430050606), (927, 0.0), (928, 0.0), (929, 0.01747755779424926), (930, 0.030475876336385335), (931, 0.1064217317368632), (932, 0.16410832029459974), (933, 0.0030087020647391505), (934, 0.02699033315403842), (935, 0.13073829033338172), (936, 0.019780958560665578), (937, 0.003441911899003033), (938, 0.0405385258480833), (939, 0.03153872555445877), (940, 0.012308202957115703), (941, 0.0027592414266770946), (942, 0.02718359652243381), (943, 0.0), (944, 0.03357835407756562), (945, 0.0), (946, 0.006976234006280904), (947, 0.003973977527054649), (948, 0.008826943069672074), (949, 0.04139187316108942), (950, 0.008190552584723924), (951, 0.0024869955592908602), (952, 0.04026157718377539), (953, 0.0476499965903635), (954, 0.0), (955, 0.0), (956, 0.0), (957, 0.01662486415052254), (958, 0.006974262897453549), (959, 0.009670706573023942), (960, 0.0), (961, 0.0), (962, 0.010028668989371407), (963, 0.034268712293622106), (964, 0.009510345590012117), (965, 0.0), (966, 0.01660500019030595), (967, 0.0032525718308411707), (968, 0.016492556916708468), (969, 0.04396540518750217), (970, 0.016085380928790586), (971, 0.02136780314037367), (972, 0.01997958246411321), (973, 0.044913038218649975), (974, 0.0), (975, 0.009320732113146905), (976, 0.0), (977, 0.0), (978, 0.027429402199179526), (979, 0.0168349280543362), (980, 0.003044788984487367), (981, 0.012922717351336311), (982, 0.007711724686031965), (983, 0.006885299222065364), (984, 0.016762262640684953), (985, 0.011389402540676486), (986, 0.002943772144753326), (987, 0.0030556547337192226), (988, 0.01658244048036962), (989, 0.0028976332067661174), (990, 0.0), (991, 0.0031623371390895084), (992, 0.0), (993, 0.002967687788011676), (994, 0.0029938684182984985), (995, 0.0), (996, 0.0), (997, 0.0), (998, 0.026873206187609286), (999, 0.03252285779125278), (1000, 0.0026497679779101738), (1001, 0.0028077843922416604), (1002, 0.03822683890472743), (1003, 0.0), (1004, 0.01496404046530812), (1005, 0.008084007949337255), (1006, 0.040746544495671756), (1007, 0.0031014272674337244), (1008, 0.0), (1009, 0.021579647307688903), (1010, 0.012071162090951654), (1011, 0.0), (1012, 0.007558866984064021), (1013, 0.0), (1014, 0.008840233231453151), (1015, 0.011432743416644882), (1016, 0.0), (1017, 0.010280006104856911), (1018, 0.006653853260619635), (1019, 0.0128318529692493), (1020, 0.0168725322501063), (1021, 0.06543923280299686), (1022, 0.0), (1023, 0.019768713454589235), (1024, 0.0), (1025, 0.010166151077822453), (1026, 0.009769975232072185), (1027, 0.020429475862050628), (1028, 0.0), (1029, 0.0), (1030, 0.02100751371298413), (1031, 0.0), (1032, 0.03158197505624074), (1033, 0.05891833126778519), (1034, 0.009534819270083828), (1035, 0.002861986380789736), (1036, 0.03153655764425833), (1037, 0.00860347781660573), (1038, 0.01895949426201374), (1039, 0.012974969167874622), (1040, 0.018514937138136754), (1041, 0.02944726554659447), (1042, 0.0024604693457229857), (1043, 0.04006244909287), (1044, 0.013905176758536888), (1045, 0.0), (1046, 0.009689642650081622), (1047, 0.0), (1048, 0.04573217915501531), (1049, 0.028109163834961003), (1050, 0.002509788321955874), (1051, 0.0), (1052, 0.009217433951572148), (1053, 0.011710681210531738), (1054, 0.0), (1055, 0.0), (1056, 0.0), (1057, 0.0), (1058, 0.0), (1059, 0.0029161921581787784), (1060, 0.009606254340627477), (1061, 0.06279627238834244), (1062, 0.011496112005014344), (1063, 0.0), (1064, 0.003569204622566714), (1065, 0.009100119395348067), (1066, 0.0), (1067, 0.026226534936454295), (1068, 0.007056528476834846), (1069, 0.008537124057540183), (1070, 0.0), (1071, 0.003143858037688996), (1072, 0.043771082145256206), (1073, 0.019736292795537), (1074, 0.007653769963787159), (1075, 0.025911362030392168), (1076, 0.02425000299082307), (1077, 0.0320129993242776), (1078, 0.0024533955859048907), (1079, 0.0027091418931840536), (1080, 0.008963090666408779), (1081, 0.010495773568717622), (1082, 0.011204208789373152), (1083, 0.014934903262248141), (1084, 0.0232282039566677), (1085, 0.0), (1086, 0.0), (1087, 0.026923329359895935), (1088, 0.0025183756162480806), (1089, 0.012542460819942272), (1090, 0.0233967434389495), (1091, 0.0), (1092, 0.0), (1093, 0.0), (1094, 0.028690495828802186), (1095, 0.00681901596806899), (1096, 0.010289340693374165), (1097, 0.0), (1098, 0.011704972220738394), (1099, 0.00809101187272447), (1100, 0.030968952440804658), (1101, 0.0), (1102, 0.0029238669917408706), (1103, 0.014815640815146596), (1104, 0.014471450499104043), (1105, 0.0), (1106, 0.015026459183569778), (1107, 0.02614738197723724), (1108, 0.0), (1109, 0.011040207768157858), (1110, 0.014109215958684957), (1111, 0.007797323137087491), (1112, 0.04699784877194757), (1113, 0.015355037267589628), (1114, 0.04380472333040296), (1115, 0.0), (1116, 0.008083527794289846), (1117, 0.02936552884919611), (1118, 0.007331438641186161), (1119, 0.04015298058023164), (1120, 0.0), (1121, 0.04200545723075187), (1122, 0.021751036861961455), (1123, 0.002799870420492594), (1124, 0.01096500535089108), (1125, 0.0), (1126, 0.03084117850091624), (1127, 0.0), (1128, 0.007476699475456234), (1129, 0.015266426297963199), (1130, 0.013985076568587624), (1131, 0.0029558526435499648), (1132, 0.015866347988160705), (1133, 0.011383604414280315), (1134, 0.0), (1135, 0.0), (1136, 0.009272127955794155), (1137, 0.0), (1138, 0.02748286313915537), (1139, 0.0), (1140, 0.0031543767258818706), (1141, 0.011302653968108542), (1142, 0.0), (1143, 0.0), (1144, 0.017527504538557337), (1145, 0.01376782310030076), (1146, 0.025513132862536703), (1147, 0.0), (1148, 0.003326252569582987), (1149, 0.0), (1150, 0.0), (1151, 0.0), (1152, 0.017388843239595022), (1153, 0.0), (1154, 0.014177484350913818), (1155, 0.0), (1156, 0.0), (1157, 0.05783332724621814), (1158, 0.0), (1159, 0.018227861882215368), (1160, 0.002796261430121454), (1161, 0.0026593487307424034), (1162, 0.016649193560181793), (1163, 0.0029408285961797505), (1164, 0.0), (1165, 0.0), (1166, 0.019119044674379512), (1167, 0.0), (1168, 0.0035376675558956173), (1169, 0.0558374491236226), (1170, 0.009967602899082592), (1171, 0.0), (1172, 0.02233353925340018), (1173, 0.006905176127861034), (1174, 0.0030117184408267592), (1175, 0.010048013707543657), (1176, 0.031076264644496983), (1177, 0.002775160272211701), (1178, 0.009691168471705926), (1179, 0.002945612407723736), (1180, 0.0065298529561505616), (1181, 0.010740618336718175), (1182, 0.024818439825088936), (1183, 0.0027344945137548504), (1184, 0.011358575600373125), (1185, 0.0), (1186, 0.0025867854633574955), (1187, 0.033734531803517896), (1188, 0.022778648609087477), (1189, 0.0), (1190, 0.006665034276051396), (1191, 0.0029576396454451637), (1192, 0.0915710104660341), (1193, 0.0), (1194, 0.006666636886026177), (1195, 0.007909401456459809), (1196, 0.0), (1197, 0.0), (1198, 0.0), (1199, 0.02281438991660512), (1200, 0.006372010792946944), (1201, 0.02595340690607668), (1202, 0.03351436037507831), (1203, 0.002766065156287816), (1204, 0.0029890294463671353), (1205, 0.0), (1206, 0.020551410621055706), (1207, 0.0), (1208, 0.012693533524557274), (1209, 0.0024549933306057606), (1210, 0.008295527986125985), (1211, 0.0), (1212, 0.009841675856722222), (1213, 0.0), (1214, 0.009565935134574), (1215, 0.00905297123175276), (1216, 0.009028468897132451), (1217, 0.008643789824514744), (1218, 0.0), (1219, 0.008931943903855228), (1220, 0.03646638774146635), (1221, 0.0), (1222, 0.0), (1223, 0.02727361059545905), (1224, 0.11424233062570269), (1225, 0.0031078835316104537), (1226, 0.007553509830907487), (1227, 0.0), (1228, 0.0), (1229, 0.003075630716242498), (1230, 0.0), (1231, 0.013174994606731941), (1232, 0.04594448752173412), (1233, 0.05266106037779736), (1234, 0.00311963645297285), (1235, 0.0), (1236, 0.006375461318231528), (1237, 0.009038022981757732), (1238, 0.007578317345230443), (1239, 0.026426539225079065), (1240, 0.0), (1241, 0.002421857560731238), (1242, 0.0), (1243, 0.003213295499981544), (1244, 0.0), (1245, 0.02387717188780145), (1246, 0.0), (1247, 0.009616537948336735), (1248, 0.02758669466745787), (1249, 0.06952774139223528), (1250, 0.007777051004120145), (1251, 0.0026069199568461245), (1252, 0.06847381249837897), (1253, 0.0), (1254, 0.030351776439518446), (1255, 0.010049152453763739), (1256, 0.02163728076245352), (1257, 0.01794102691914939), (1258, 0.0), (1259, 0.0), (1260, 0.0), (1261, 0.02068514742086177), (1262, 0.021843998893207324), (1263, 0.0), (1264, 0.0035487030967436112), (1265, 0.0), (1266, 0.007784601915924109), (1267, 0.02117301955324838), (1268, 0.0), (1269, 0.0), (1270, 0.0), (1271, 0.0), (1272, 0.03254264114466654), (1273, 0.0203330315296687), (1274, 0.0), (1275, 0.03134848683973487), (1276, 0.0), (1277, 0.010734111334718101), (1278, 0.028004236329725762), (1279, 0.006424265728579081), (1280, 0.0), (1281, 0.0), (1282, 0.0), (1283, 0.010032477038759943), (1284, 0.016251778146166827), (1285, 0.0), (1286, 0.025354200782355674), (1287, 0.0), (1288, 0.0), (1289, 0.0), (1290, 0.00260996923259618), (1291, 0.0), (1292, 0.013520391825338889), (1293, 0.014668137062347649), (1294, 0.058515445112997326), (1295, 0.0), (1296, 0.00937636279510241), (1297, 0.015919310335124986), (1298, 0.0029296997087311137), (1299, 0.035095342471477296), (1300, 0.0), (1301, 0.0025737887159606723), (1302, 0.014849207277359498), (1303, 0.002375253499176792), (1304, 0.002946999857985356), (1305, 0.09627196803519028), (1306, 0.007710005307772102), (1307, 0.00718060825581125), (1308, 0.009703387428001352), (1309, 0.0), (1310, 0.028129486910342442), (1311, 0.0), (1312, 0.00892536020498237), (1313, 0.009811119983921743), (1314, 0.025659513262576875), (1315, 0.0), (1316, 0.0171312473032647), (1317, 0.01424924212531702), (1318, 0.029820957531888445), (1319, 0.02757197879850217), (1320, 0.0), (1321, 0.0), (1322, 0.01493984550424126), (1323, 0.023732757778972362), (1324, 0.010620563015811945), (1325, 0.0031931372552101334), (1326, 0.0), (1327, 0.0072558815776249275), (1328, 0.0), (1329, 0.04462651422871459), (1330, 0.05282273439759092), (1331, 0.0), (1332, 0.0), (1333, 0.0), (1334, 0.11234733750442832), (1335, 0.05242220731165167), (1336, 0.019693949968775753), (1337, 0.0457652795267185), (1338, 0.002897546576216202), (1339, 0.03554138022746786), (1340, 0.002501888760607401), (1341, 0.006262554852496385), (1342, 0.0), (1343, 0.0), (1344, 0.0), (1345, 0.03332285145461716), (1346, 0.007050445276197865), (1347, 0.0), (1348, 0.009937040709559425), (1349, 0.1233123466486002), (1350, 0.00969841858432758), (1351, 0.018998971427441055), (1352, 0.014181372386062263), (1353, 0.02568312046788152), (1354, 0.0), (1355, 0.0030168758884070333), (1356, 0.0024934772881939067), (1357, 0.0027148972807914755), (1358, 0.0), (1359, 0.06918653300560074), (1360, 0.0026812317133606974), (1361, 0.1258211677046745), (1362, 0.005209585573405129), (1363, 0.00665315996130538), (1364, 0.024614678762380826), (1365, 0.020017851494984404), (1366, 0.03361966503052852), (1367, 0.05456494144723082), (1368, 0.0362309029144365), (1369, 0.014901631183183571), (1370, 0.002540196375615611), (1371, 0.01267247260761952), (1372, 0.035251046008311), (1373, 0.013319996632435882), (1374, 0.007635847941708094), (1375, 0.013642840939876402), (1376, 0.014490844100744981), (1377, 0.00853162053150058), (1378, 0.00994796043360147), (1379, 0.006613625957956063), (1380, 0.0), (1381, 0.0), (1382, 0.01815276775522169), (1383, 0.003325552441540656), (1384, 0.010153367929865906), (1385, 0.010589654807765405), (1386, 0.011598181135696238), (1387, 0.002659498159028606), (1388, 0.0), (1389, 0.01674949205177103), (1390, 0.0), (1391, 0.0), (1392, 0.01276227200865406), (1393, 0.0), (1394, 0.008821171140342792), (1395, 0.0), (1396, 0.007979638703567537), (1397, 0.0025476151806622122), (1398, 0.039566103010877644), (1399, 0.0), (1400, 0.022876500600792563), (1401, 0.016114511549616465), (1402, 0.003089228995597695), (1403, 0.02523713698141211), (1404, 0.0027847740854919064), (1405, 0.04432173540955205), (1406, 0.013437410602392681), (1407, 0.008108784663783787), (1408, 0.02399033064329204), (1409, 0.10425069373076162), (1410, 0.010062820285546208), (1411, 0.02828749483143004), (1412, 0.02849430717290912), (1413, 0.010733723228001913), (1414, 0.012805677708689022), (1415, 0.008157375661300582), (1416, 0.0028152564117805067), (1417, 0.04413804211587064), (1418, 0.011730303176039887), (1419, 0.0), (1420, 0.007599272942121844), (1421, 0.022852817695552002), (1422, 0.002868405414681796), (1423, 0.021861139464334108), (1424, 0.008003597873011808), (1425, 0.007762268030330634), (1426, 0.0), (1427, 0.02120041757803457), (1428, 0.0), (1429, 0.0035416356973978517), (1430, 0.010607746169397466), (1431, 0.0), (1432, 0.0), (1433, 0.01553204232434745), (1434, 0.002689710001227594), (1435, 0.0), (1436, 0.0), (1437, 0.02125327369248073), (1438, 0.047048747900072005), (1439, 0.0030846007407613362), (1440, 0.0029915006831708908), (1441, 0.02777679794929719), (1442, 0.03602021571438142), (1443, 0.015744807620137486), (1444, 0.0), (1445, 0.03263316662214424), (1446, 0.01013530687203999), (1447, 0.04363627750911538), (1448, 0.03089652029267314), (1449, 0.016745153269641773), (1450, 0.06556637983513149), (1451, 0.0), (1452, 0.0), (1453, 0.011779934745340916), (1454, 0.0032358197670795453), (1455, 0.014658264250736465), (1456, 0.043136843653175036), (1457, 0.006528609433339576), (1458, 0.0901347682041518), (1459, 0.0), (1460, 0.0), (1461, 0.007715709431832365), (1462, 0.0027021516217142954), (1463, 0.009599563413154084), (1464, 0.023020476464584695), (1465, 0.015784828576132347), (1466, 0.013299214974325062), (1467, 0.008974693916546062), (1468, 0.0), (1469, 0.0), (1470, 0.0), (1471, 0.013501365567977722), (1472, 0.010072171513355911), (1473, 0.0), (1474, 0.003285437080562602), (1475, 0.03363343512854842), (1476, 0.024956048818359333), (1477, 0.009755195415548836), (1478, 0.013745489539840212), (1479, 0.010920072817989361), (1480, 0.0), (1481, 0.002851344500979811), (1482, 0.018145440135120268), (1483, 0.002923170639644564), (1484, 0.0031162997502030532), (1485, 0.006324856452555545), (1486, 0.008403186698697454), (1487, 0.0), (1488, 0.0029534280094357383), (1489, 0.011187671209416456), (1490, 0.04835476067800328), (1491, 0.04647468482860248), (1492, 0.018501457998139573), (1493, 0.039860221342961), (1494, 0.13849994148582254), (1495, 0.0), (1496, 0.0), (1497, 0.05491061081272238), (1498, 0.003275238930460232), (1499, 0.03743082676664996), (1500, 0.021721802234349493), (1501, 0.014622194201888206), (1502, 0.0), (1503, 0.027435895106407697), (1504, 0.0), (1505, 0.0076524193818298435), (1506, 0.0307487042468446), (1507, 0.0), (1508, 0.026899285718716685), (1509, 0.007225224602298009), (1510, 0.018380312200679955), (1511, 0.0), (1512, 0.018878332080104976), (1513, 0.0030688781566526446), (1514, 0.03220522268498259), (1515, 0.007680050760718533), (1516, 0.0030339952531259788), (1517, 0.011357980530299986), (1518, 0.030923482578808385), (1519, 0.020329720430385723), (1520, 0.0), (1521, 0.0), (1522, 0.0), (1523, 0.017735296205788755), (1524, 0.0), (1525, 0.0), (1526, 0.007291600998918259), (1527, 0.0028831883468094285), (1528, 0.002675818078636145), (1529, 0.012552879733775125), (1530, 0.0057411175563689), (1531, 0.03221716239882823), (1532, 0.013050900258123204), (1533, 0.010099613216220516), (1534, 0.028747117839769448), (1535, 0.0), (1536, 0.0072899604489098015), (1537, 0.003154101084312462), (1538, 0.05823608947781011), (1539, 0.01568189382254502), (1540, 0.0), (1541, 0.006840490293359094), (1542, 0.0), (1543, 0.009172991335516634), (1544, 0.0), (1545, 0.0), (1546, 0.0), (1547, 0.0034312050903212814), (1548, 0.0), (1549, 0.0181683594763537), (1550, 0.029838514148852635), (1551, 0.0074993927951426285), (1552, 0.04761799494209225), (1553, 0.009334260365376667), (1554, 0.0), (1555, 0.0027425299678852837), (1556, 0.0), (1557, 0.042383731334205955), (1558, 0.00925527402372006), (1559, 0.0), (1560, 0.0), (1561, 0.02418074486685893), (1562, 0.0), (1563, 0.020377264107952996), (1564, 0.0), (1565, 0.014502592790010892), (1566, 0.01843332050333077), (1567, 0.00691193741463171), (1568, 0.0), (1569, 0.02313495338432674), (1570, 0.003098249033342471), (1571, 0.008744139456130229), (1572, 0.011253709890635108), (1573, 0.0), (1574, 0.04600916963951737), (1575, 0.015713913524637704), (1576, 0.009137619123626477), (1577, 0.0), (1578, 0.014480768601592198), (1579, 0.0), (1580, 0.03373089122003218), (1581, 0.0), (1582, 0.002828302811241158), (1583, 0.008359554957502808), (1584, 0.0), (1585, 0.00717376593885908), (1586, 0.009114142111063905), (1587, 0.0), (1588, 0.0), (1589, 0.006867122529027324), (1590, 0.0), (1591, 0.0), (1592, 0.0), (1593, 0.0035702109018556183), (1594, 0.11712253804512554), (1595, 0.0026660610301909925), (1596, 0.0), (1597, 0.0028378717072775096), (1598, 0.0029081490970123683), (1599, 0.011550494427706066), (1600, 0.0), (1601, 0.0), (1602, 0.016503003687462842), (1603, 0.016692115663284872), (1604, 0.0), (1605, 0.008994882059177953), (1606, 0.023969719446074258), (1607, 0.0), (1608, 0.05745678178230517), (1609, 0.0), (1610, 0.028917201418302528), (1611, 0.0), (1612, 0.02887285186757526), (1613, 0.0), (1614, 0.0), (1615, 0.0), (1616, 0.03454404147473225), (1617, 0.04817217473484972), (1618, 0.03631262203651185), (1619, 0.018741957303032936), (1620, 0.0027546979379033296), (1621, 0.0164583062984611), (1622, 0.04970851710039002), (1623, 0.0), (1624, 0.01738535371770345), (1625, 0.048362634881779346), (1626, 0.0), (1627, 0.002518281929860712), (1628, 0.00911007310320806), (1629, 0.03751485972166706), (1630, 0.015092392611131345), (1631, 0.017794991100171676), (1632, 0.0), (1633, 0.0), (1634, 0.009868013038114005), (1635, 0.026787331388742355), (1636, 0.0), (1637, 0.020221823394348405), (1638, 0.0), (1639, 0.005934749002347751), (1640, 0.015851147197460943), (1641, 0.0027319059497792004), (1642, 0.0027265833662980985), (1643, 0.0030929002077402547), (1644, 0.02635666182743252), (1645, 0.0028460310879825776), (1646, 0.02024162513597523), (1647, 0.02020943205245689), (1648, 0.015954797764080986), (1649, 0.0), (1650, 0.020385808947507765), (1651, 0.0), (1652, 0.0), (1653, 0.00287286899840887), (1654, 0.04647912893749599), (1655, 0.03924514796612016), (1656, 0.04642970689230343), (1657, 0.014365589501558721), (1658, 0.01170944953371761), (1659, 0.06818712607798734), (1660, 0.014997676167788687), (1661, 0.0), (1662, 0.007111600621164149), (1663, 0.015727911924110487), (1664, 0.0249904665950958), (1665, 0.0027583852182076277), (1666, 0.021068459141761937), (1667, 0.015386242227472164), (1668, 0.0), (1669, 0.0), (1670, 0.00310071650283709), (1671, 0.002852248935935162), (1672, 0.0026969061289716834), (1673, 0.0), (1674, 0.01244466020383705), (1675, 0.002683816303108103), (1676, 0.0), (1677, 0.019379351791957752), (1678, 0.025108175916632197), (1679, 0.0), (1680, 0.01303639459648449), (1681, 0.0), (1682, 0.023664099979804516), (1683, 0.06332914206452826), (1684, 0.0066838328581096725), (1685, 0.018607051355847157), (1686, 0.0), (1687, 0.003123570167078825), (1688, 0.08972938784085446), (1689, 0.0), (1690, 0.029067704683204108), (1691, 0.0025137171632850777), (1692, 0.022070549119513543), (1693, 0.00934822720014915), (1694, 0.027072284754048385), (1695, 0.006175989583288072), (1696, 0.03306045965762974), (1697, 0.019306330955719826), (1698, 0.009853999225582449), (1699, 0.0), (1700, 0.0), (1701, 0.006025258507723804), (1702, 0.0), (1703, 0.018232868910574275), (1704, 0.0), (1705, 0.0), (1706, 0.017782617214091707), (1707, 0.03380900926324379), (1708, 0.0113595288971892), (1709, 0.11611856455722458), (1710, 0.02082500367772852), (1711, 0.023640848029200186), (1712, 0.011305052869852197), (1713, 0.008664455816542186), (1714, 0.013952469843072612), (1715, 0.02936501228534865), (1716, 0.0033039388792318143), (1717, 0.018148839053455806), (1718, 0.09248217653989754), (1719, 0.019281397798531143), (1720, 0.0), (1721, 0.014280127452461521), (1722, 0.01005422172247025), (1723, 0.024770506287368356), (1724, 0.01712641113031499), (1725, 0.044363159008807024), (1726, 0.014108726047125559), (1727, 0.0030630558846873415), (1728, 0.0), (1729, 0.0), (1730, 0.009642335932651121), (1731, 0.007515955818399277), (1732, 0.0), (1733, 0.003230192228450696), (1734, 0.01965295038323458), (1735, 0.0), (1736, 0.01973540386731084), (1737, 0.008139312951267927), (1738, 0.01083004489826912), (1739, 0.002648912682775005), (1740, 0.003005240236733168), (1741, 0.04139535030999718), (1742, 0.050308089976177056), (1743, 0.07347277704303913), (1744, 0.020381359502693694), (1745, 0.0), (1746, 0.013663997016029283), (1747, 0.01368646990596777), (1748, 0.022071827160239747), (1749, 0.0), (1750, 0.050256819361903966), (1751, 0.0), (1752, 0.0), (1753, 0.009806072712535327), (1754, 0.003245308742761192), (1755, 0.0), (1756, 0.025757379653664446), (1757, 0.014457496471712654), (1758, 0.0), (1759, 0.015774434901868285), (1760, 0.0027237865768278283), (1761, 0.007797570501431991), (1762, 0.041047264298729166), (1763, 0.008526136276972773), (1764, 0.01524440154063094), (1765, 0.03458322721165605), (1766, 0.047060945464505254), (1767, 0.04096751367491624), (1768, 0.024372485039469625), (1769, 0.02925319320391738), (1770, 0.00820464015500905), (1771, 0.0068346919256421215), (1772, 0.0), (1773, 0.007475899379812185), (1774, 0.01857343461771783), (1775, 0.0), (1776, 0.012641443137742731), (1777, 0.0), (1778, 0.07928138475919091), (1779, 0.0437235365868688), (1780, 0.02424764619181574), (1781, 0.0), (1782, 0.022529172840880535), (1783, 0.0), (1784, 0.017031472237688427), (1785, 0.013887186180236119), (1786, 0.007710253854257948), (1787, 0.03499390094597367), (1788, 0.028700540351058654), (1789, 0.0), (1790, 0.009096064020105063), (1791, 0.019967717295052038), (1792, 0.0034620871839911955), (1793, 0.00991284991848794), (1794, 0.0), (1795, 0.0), (1796, 0.002687970588012654), (1797, 0.05544700330812869), (1798, 0.07283613292615261), (1799, 0.008357071402740992), (1800, 0.0), (1801, 0.0024740999930582576), (1802, 0.005970986888638316), (1803, 0.06765156441748801), (1804, 0.0070316732142904105), (1805, 0.020539612609921376), (1806, 0.04058476993183249), (1807, 0.06404187138659762), (1808, 0.09815042712879353), (1809, 0.017205983520991883), (1810, 0.0), (1811, 0.002922329822573918), (1812, 0.00815103371563008), (1813, 0.016716105869151388), (1814, 0.002712556696280018), (1815, 0.0), (1816, 0.006319383553109873), (1817, 0.0), (1818, 0.01804131029928892), (1819, 0.00927579134745926), (1820, 0.0), (1821, 0.010447938133552593), (1822, 0.0031098823670969817), (1823, 0.0), (1824, 0.010723461090632113), (1825, 0.0), (1826, 0.0026639751696080653), (1827, 0.022274733953587283), (1828, 0.002542010634432147), (1829, 0.020416148726627212), (1830, 0.002610362324749985), (1831, 0.002912878544065186), (1832, 0.0), (1833, 0.026832410315718105), (1834, 0.0), (1835, 0.0), (1836, 0.033854958824321255), (1837, 0.011296166529931572), (1838, 0.03675233346821673), (1839, 0.0537027970355343), (1840, 0.0), (1841, 0.007936126862514416), (1842, 0.0), (1843, 0.020650218385841187), (1844, 0.0), (1845, 0.03890972564821208), (1846, 0.0), (1847, 0.015152582913765021), (1848, 0.0031713636776232444), (1849, 0.023170383715449362), (1850, 0.012658551357047765), (1851, 0.01036547213434973), (1852, 0.02320988755518105), (1853, 0.003118323393483813), (1854, 0.002812761892430612), (1855, 0.0), (1856, 0.0), (1857, 0.0), (1858, 0.011140752563960937), (1859, 0.0), (1860, 0.03317957951085935), (1861, 0.029949196050916067), (1862, 0.0032994232468106714), (1863, 0.006589881561991084), (1864, 0.010172539645918896), (1865, 0.013021987917038434), (1866, 0.01087163981903841), (1867, 0.0565766735171278), (1868, 0.0), (1869, 0.022302274563904084), (1870, 0.06390140654035752), (1871, 0.042967279489022195), (1872, 0.0658367151760412), (1873, 0.007637884444353971), (1874, 0.003183800025511408), (1875, 0.016149889801287044), (1876, 0.010637111133134714), (1877, 0.06422430989001446), (1878, 0.032452589660783654), (1879, 0.0), (1880, 0.006834987881116877), (1881, 0.007332443030854198), (1882, 0.002886471294006473), (1883, 0.005779681195870288), (1884, 0.00275355392042517), (1885, 0.01166592496069318), (1886, 0.0023415612573509134), (1887, 0.003338541859048979), (1888, 0.006886529537994666), (1889, 0.0), (1890, 0.003268935492353479), (1891, 0.017469217254755667), (1892, 0.002675121863916566), (1893, 0.04266154699140677), (1894, 0.0), (1895, 0.01344453877192847), (1896, 0.003125301179899188), (1897, 0.034980797235713006), (1898, 0.0), (1899, 0.0), (1900, 0.0), (1901, 0.0), (1902, 0.050572419524682756), (1903, 0.027424414769423446), (1904, 0.0), (1905, 0.04096938331579856), (1906, 0.01881978791518387), (1907, 0.023360224440892797), (1908, 0.007670883802908624), (1909, 0.024249541353818894), (1910, 0.05714498060423481), (1911, 0.06632236443031667), (1912, 0.06128303782249458), (1913, 0.01878798622031494), (1914, 0.0), (1915, 0.015126747912007792), (1916, 0.0031045021678041762), (1917, 0.0), (1918, 0.003111821408900054), (1919, 0.02597988194605508), (1920, 0.023348755949385486), (1921, 0.002632860750931901), (1922, 0.0029739347645479043), (1923, 0.0032718345482141346), (1924, 0.0033656595658649534), (1925, 0.013885319732836323), (1926, 0.0), (1927, 0.013544755405702552), (1928, 0.032270184667350876), (1929, 0.0028085081265823556), (1930, 0.050807990233102555), (1931, 0.0030100005768261685), (1932, 0.015239355526852202), (1933, 0.060111794038919836), (1934, 0.05432094710951653), (1935, 0.0664711655105954), (1936, 0.010809487142583334), (1937, 0.0), (1938, 0.0), (1939, 0.0), (1940, 0.0), (1941, 0.022448852098537975), (1942, 0.06092674591382405), (1943, 0.0025642325710317753), (1944, 0.0), (1945, 0.007688254379052679), (1946, 0.010231114562006606), (1947, 0.03881652032664833), (1948, 0.01827396685425495), (1949, 0.016490065524009848), (1950, 0.02635282688241663), (1951, 0.0869414326010266), (1952, 0.017128027790802747), (1953, 0.013359000272196067), (1954, 0.05397831294719064), (1955, 0.0073637202551783175), (1956, 0.007090913445807695), (1957, 0.012820707453582367), (1958, 0.0), (1959, 0.018059309898658223), (1960, 0.0032618092435879906), (1961, 0.0), (1962, 0.0), (1963, 0.03989024090169585), (1964, 0.0026630762440081547), (1965, 0.016614107042184773), (1966, 0.011085165320664416), (1967, 0.0028619745668342434), (1968, 0.0034597119931280926), (1969, 0.0028430606977866315), (1970, 0.0), (1971, 0.0024970419140462738), (1972, 0.0), (1973, 0.030578067623528854), (1974, 0.006406650018708445), (1975, 0.0), (1976, 0.0), (1977, 0.03208885328499456), (1978, 0.0), (1979, 0.01265077615162672), (1980, 0.0026423717596072527), (1981, 0.0), (1982, 0.010449240957120028), (1983, 0.0030682299550490906), (1984, 0.006443316276011469), (1985, 0.010687102583481765), (1986, 0.007546201169548684), (1987, 0.0), (1988, 0.0144615656301412), (1989, 0.0023662051211252783), (1990, 0.0), (1991, 0.0), (1992, 0.0), (1993, 0.0), (1994, 0.013578314246483926), (1995, 0.003167803970919056), (1996, 0.0), (1997, 0.0032007508941597268), (1998, 0.0), (1999, 0.0), (2000, 0.02918620702703594), (2001, 0.006036615876947933), (2002, 0.0), (2003, 0.006772714409603122), (2004, 0.009357752086038246), (2005, 0.013722217337437363), (2006, 0.005978600597898169), (2007, 0.006398878294381399), (2008, 0.010285443826007903), (2009, 0.024587148074522558), (2010, 0.0023265153236673927), (2011, 0.015991668256422748), (2012, 0.01311960266777579), (2013, 0.006079435642370056), (2014, 0.0), (2015, 0.0), (2016, 0.0030583395554522586), (2017, 0.0), (2018, 0.0), (2019, 0.011329888543734987), (2020, 0.027170266598022075), (2021, 0.0), (2022, 0.006051385108291821), (2023, 0.0027742530139243564), (2024, 0.002821095595987109), (2025, 0.0), (2026, 0.007004822626365357), (2027, 0.028566705669518976), (2028, 0.0), (2029, 0.03264488278862101), (2030, 0.0), (2031, 0.002658435429444324), (2032, 0.008215021646295981), (2033, 0.0), (2034, 0.00242714737725327), (2035, 0.04024628840409912), (2036, 0.006381614930759446), (2037, 0.019841584328246765), (2038, 0.0), (2039, 0.002478094879083315), (2040, 0.011684377130209318), (2041, 0.01613120216183358), (2042, 0.0), (2043, 0.05092377895331266), (2044, 0.0074464799995349095), (2045, 0.010748525523236003), (2046, 0.025648170075723065), (2047, 0.016658858274619985), (2048, 0.010247692531148416), (2049, 0.019388425580544304), (2050, 0.0), (2051, 0.036655783630744204), (2052, 0.03172399925804725), (2053, 0.0030415308836913685), (2054, 0.0), (2055, 0.02684068349047159), (2056, 0.007352879069233532), (2057, 0.0), (2058, 0.0068857467473024585), (2059, 0.06540254500634507), (2060, 0.02148181084635021), (2061, 0.0029838776848098297), (2062, 0.0073883552661702205), (2063, 0.0), (2064, 0.005620203294742469), (2065, 0.002646765659061386), (2066, 0.0), (2067, 0.014440458369402536), (2068, 0.02696283950648081), (2069, 0.002894515130754967), (2070, 0.009046442566194973), (2071, 0.0), (2072, 0.0030526953600880035), (2073, 0.0030024858018194694), (2074, 0.006736165601184126), (2075, 0.013045892484665752), (2076, 0.028201188310814477), (2077, 0.0), (2078, 0.0), (2079, 0.0), (2080, 0.0028463856053846017), (2081, 0.0), (2082, 0.0), (2083, 0.0030830546584421767), (2084, 0.0), (2085, 0.0), (2086, 0.007466461753951806), (2087, 0.01034441795618923), (2088, 0.015038944707386079), (2089, 0.00346170508495744), (2090, 0.0), (2091, 0.0029870253416058147), (2092, 0.0), (2093, 0.0), (2094, 0.007220569444131932), (2095, 0.007369166070382615), (2096, 0.011273018868256355), (2097, 0.003205857088744951), (2098, 0.006526885337652986), (2099, 0.017620574644881797), (2100, 0.0), (2101, 0.02850563866137459), (2102, 0.02408099444107678), (2103, 0.021406888743891232), (2104, 0.00314625784448567), (2105, 0.010602111937041516), (2106, 0.0072470979162844815), (2107, 0.006677617742646999), (2108, 0.04489412387669777), (2109, 0.024520617771635125), (2110, 0.00700092822597692), (2111, 0.02092746074598175), (2112, 0.011673342344816682), (2113, 0.01673003610686522), (2114, 0.01927148493641259), (2115, 0.03690269788940788), (2116, 0.0496597759602079), (2117, 0.01601407357466585), (2118, 0.01597137333046629), (2119, 0.007078388443068939), (2120, 0.0), (2121, 0.023158098548031424), (2122, 0.028645225154180838), (2123, 0.05710794377068965), (2124, 0.027954219656305245), (2125, 0.0), (2126, 0.0030381935344460918), (2127, 0.0024731664670652655), (2128, 0.0), (2129, 0.029178936038475448), (2130, 0.0), (2131, 0.02366297332456388), (2132, 0.00831791012309925), (2133, 0.0027865083274873936), (2134, 0.0032952453889114664), (2135, 0.0), (2136, 0.0), (2137, 0.004175468491944506), (2138, 0.06391848927188515), (2139, 0.0), (2140, 0.0), (2141, 0.031960116776883436), (2142, 0.0034359019500635407), (2143, 0.14125843944710537), (2144, 1.0000000000000002), (2145, 0.013553336721732012), (2146, 0.0025176523879318034), (2147, 0.03236472697725524), (2148, 0.0030535330950033153), (2149, 0.051504969297238266), (2150, 0.0), (2151, 0.0031410102032496828), (2152, 0.0), (2153, 0.0), (2154, 0.013547204737268947), (2155, 0.017894179622278166), (2156, 0.026105137184009367), (2157, 0.0024771970414538685), (2158, 0.0), (2159, 0.010978922395267507), (2160, 0.02874408038588893), (2161, 0.016400194599739695), (2162, 0.2318896109653405), (2163, 0.0506426321414706), (2164, 0.0), (2165, 0.0), (2166, 0.017754496919170124), (2167, 0.006736470600391029), (2168, 0.005998995261277049), (2169, 0.034399856502037245), (2170, 0.02789294837441779), (2171, 0.0), (2172, 0.03089046766019576), (2173, 0.032926402490208076), (2174, 0.021791371945433523), (2175, 0.03520249110448141), (2176, 0.029991852393808215), (2177, 0.0), (2178, 0.0), (2179, 0.0), (2180, 0.0), (2181, 0.0), (2182, 0.0), (2183, 0.010578955795740187), (2184, 0.0), (2185, 0.017055637261254183), (2186, 0.0425073561813535), (2187, 0.011426884854315202), (2188, 0.0035953807973236897), (2189, 0.004135433836464166), (2190, 0.05086268204157998), (2191, 0.01580390044337087), (2192, 0.03159239677041124), (2193, 0.02925864109029094), (2194, 0.0), (2195, 0.04034127954101324), (2196, 0.022949978250248585), (2197, 0.006453598575017433), (2198, 0.007644870019607769), (2199, 0.0038348923542469732), (2200, 0.0), (2201, 0.03484180039404066), (2202, 0.00718841017979242), (2203, 0.03609134503782244), (2204, 0.02584785178263367), (2205, 0.007142322808279513), (2206, 0.0), (2207, 0.0), (2208, 0.0), (2209, 0.07647222439902178), (2210, 0.014594285856940437), (2211, 0.06410326356489919), (2212, 0.009934832415970268), (2213, 0.0026271472014581247), (2214, 0.0032031419370419398), (2215, 0.0), (2216, 0.0028872587015187643), (2217, 0.0), (2218, 0.05587575264655354), (2219, 0.013841930112791993), (2220, 0.0), (2221, 0.03410400728973733), (2222, 0.0), (2223, 0.0033496486250806437), (2224, 0.0027955009787193692), (2225, 0.025300037981350866), (2226, 0.026566033875921557), (2227, 0.0), (2228, 0.0), (2229, 0.020602094609579586), (2230, 0.010225093550187882), (2231, 0.017577162043644106), (2232, 0.0), (2233, 0.0), (2234, 0.021321227951100384), (2235, 0.0), (2236, 0.01994937307848254), (2237, 0.008736597888815728), (2238, 0.0), (2239, 0.0074430108152458326), (2240, 0.008737252287202287), (2241, 0.0), (2242, 0.00946354397831837), (2243, 0.0), (2244, 0.059420480453517256), (2245, 0.013279699185381777), (2246, 0.04797606857695224), (2247, 0.0), (2248, 0.030061054258877836), (2249, 0.0073313387305295515), (2250, 0.002939661776390814), (2251, 0.004099003992964972), (2252, 0.0), (2253, 0.0083543911817335), (2254, 0.05163053277366801), (2255, 0.0038008622915069908), (2256, 0.0), (2257, 0.003792950343666213), (2258, 0.007601823095213787), (2259, 0.0), (2260, 0.003151485300619366), (2261, 0.0), (2262, 0.010277702626981161), (2263, 0.0), (2264, 0.014832019102608602), (2265, 0.009601429013558522), (2266, 0.012259528808919087), (2267, 0.021385990963516018), (2268, 0.002845206225246045), (2269, 0.011555557539447755), (2270, 0.025082658803434174), (2271, 0.0), (2272, 0.02832202626568736), (2273, 0.0), (2274, 0.0), (2275, 0.0), (2276, 0.05223290889750248), (2277, 0.010721117713312748), (2278, 0.07001702968822676), (2279, 0.0139859220417608), (2280, 0.0), (2281, 0.02110229181257368), (2282, 0.0), (2283, 0.0), (2284, 0.021819272537327815), (2285, 0.00951682680960447), (2286, 0.0427317822254494), (2287, 0.014155236885110632), (2288, 0.003116120108754583), (2289, 0.0029256203983686617), (2290, 0.019139926837794908), (2291, 0.01631093538296748), (2292, 0.04805913455257074), (2293, 0.11929330165845577), (2294, 0.01318369092833786), (2295, 0.0029928596431346263), (2296, 0.0), (2297, 0.0), (2298, 0.0), (2299, 0.0047110056605323075), (2300, 0.0), (2301, 0.0434719438150276), (2302, 0.011308738744362732), (2303, 0.00997492174770408), (2304, 0.017771950302336685), (2305, 0.034873619150341914), (2306, 0.013381131749872635), (2307, 0.0), (2308, 0.008773290496732504), (2309, 0.04413943950559133), (2310, 0.003938907117308446), (2311, 0.02868285459101018), (2312, 0.0), (2313, 0.025008678830910618), (2314, 0.0), (2315, 0.0), (2316, 0.0), (2317, 0.002725862698901223), (2318, 0.04425441491049439), (2319, 0.010343160843026809), (2320, 0.04702163748322773), (2321, 0.003026757750721435), (2322, 0.01111267463820872), (2323, 0.0026585590626608193), (2324, 0.007602097738736022), (2325, 0.0), (2326, 0.0), (2327, 0.01281878956571775), (2328, 0.008604329572253216), (2329, 0.0663482170310492), (2330, 0.01551700421934651), (2331, 0.0057519325623053424), (2332, 0.0), (2333, 0.008345292980662226), (2334, 0.01940385543881897), (2335, 0.01477008857638473), (2336, 0.0), (2337, 0.0), (2338, 0.00899544490994966), (2339, 0.00866633287302583), (2340, 0.1517158397260971), (2341, 0.0), (2342, 0.028874675941300543), (2343, 0.0), (2344, 0.009977111588738537), (2345, 0.0), (2346, 0.003349599226449549), (2347, 0.0027081851318115366), (2348, 0.0314954240859266), (2349, 0.056003776166913335), (2350, 0.003785622441744031), (2351, 0.022387706096127617), (2352, 0.025343947104224288), (2353, 0.007217791399489949), (2354, 0.0029489581153950145), (2355, 0.0024560843841448595), (2356, 0.003293322976423783), (2357, 0.0), (2358, 0.0), (2359, 0.0024589117022405377), (2360, 0.0), (2361, 0.003124845307617471), (2362, 0.009126701601439611), (2363, 0.0), (2364, 0.0), (2365, 0.0), (2366, 0.0), (2367, 0.00953055272326213), (2368, 0.008355481227130557), (2369, 0.0), (2370, 0.017393332849308732), (2371, 0.0), (2372, 0.027973884382124368), (2373, 0.0), (2374, 0.0029856828438915464), (2375, 0.010938094993038262), (2376, 0.017867346892589127), (2377, 0.0), (2378, 0.0034670218926284775), (2379, 0.00425166233362853), (2380, 0.016637515386361136), (2381, 0.0), (2382, 0.002523628237652733), (2383, 0.0), (2384, 0.0), (2385, 0.010486608424978304), (2386, 0.010179266412016483), (2387, 0.03336482171514228), (2388, 0.05327521249948528), (2389, 0.0), (2390, 0.059413462881531744), (2391, 0.010633986263661018), (2392, 0.0038465618554193504), (2393, 0.04914050631625287), (2394, 0.003104231675735532), (2395, 0.0), (2396, 0.033741436941285126), (2397, 0.01012598309399309), (2398, 0.010380452691115316), (2399, 0.019721150105560047), (2400, 0.003332105908471316), (2401, 0.03249681634787759), (2402, 0.049081931227893956), (2403, 0.030522378992256155), (2404, 0.004007004934560653), (2405, 0.039919143477091884), (2406, 0.06249715929252263), (2407, 0.013762842878934468), (2408, 0.0185727453163336), (2409, 0.006676856247265139), (2410, 0.010922487154866106), (2411, 0.03287204266961108), (2412, 0.008645195374049973), (2413, 0.0), (2414, 0.0), (2415, 0.012081413415506628), (2416, 0.014147109765419715), (2417, 0.048084381988611515), (2418, 0.011210864620189965), (2419, 0.05359375019044216), (2420, 0.007852514679192032), (2421, 0.007774402260928613), (2422, 0.02787134737402474), (2423, 0.00371271557105725), (2424, 0.0), (2425, 0.0038181502048048317), (2426, 0.006877528171420075), (2427, 0.003422009189609763), (2428, 0.0032511863553851394), (2429, 0.0), (2430, 0.01010155472037805), (2431, 0.060967568738740846), (2432, 0.0), (2433, 0.0), (2434, 0.04835475384700527), (2435, 0.0), (2436, 0.011820838565518108), (2437, 0.0033438767260986625), (2438, 0.0036490818986690543), (2439, 0.021663669817282218), (2440, 0.00598375889787007), (2441, 0.043887317705311554), (2442, 0.0), (2443, 0.024460519478448857), (2444, 0.0), (2445, 0.0), (2446, 0.044312447913653366), (2447, 0.0025267256851768966), (2448, 0.035481323381067076), (2449, 0.0), (2450, 0.012781255072372452), (2451, 0.0), (2452, 0.01565745998918206), (2453, 0.009150819851140397), (2454, 0.0035574064780902036), (2455, 0.0), (2456, 0.0), (2457, 0.008956208978936994), (2458, 0.0), (2459, 0.06005912801739397), (2460, 0.07897314983600033), (2461, 0.03313937062413519), (2462, 0.0), (2463, 0.010396106617055652), (2464, 0.0032309986772894542), (2465, 0.026621814746384666), (2466, 0.03433985829166708), (2467, 0.03625593229991867), (2468, 0.0), (2469, 0.01977113103295939), (2470, 0.04241120629353689), (2471, 0.0), (2472, 0.007032640772326418), (2473, 0.010072587951648842), (2474, 0.022720994412985758), (2475, 0.040412499667130175), (2476, 0.0), (2477, 0.00318295006660346), (2478, 0.03838530229604895), (2479, 0.0), (2480, 0.007564750956659166), (2481, 0.05095307184105862), (2482, 0.0027155012820510257), (2483, 0.0), (2484, 0.003939031349885503), (2485, 0.012767392446530529), (2486, 0.034813242234661534), (2487, 0.007732989524864934), (2488, 0.012167835801931932), (2489, 0.010146562057298969), (2490, 0.0042461415488303485), (2491, 0.0), (2492, 0.06059347917751297), (2493, 0.0), (2494, 0.01896097393492735), (2495, 0.002945760525250365), (2496, 0.002755044925843354), (2497, 0.0), (2498, 0.03133529321010202), (2499, 0.0), (2500, 0.009781029819204078), (2501, 0.0), (2502, 0.01884974503228195), (2503, 0.007566416178387315), (2504, 0.0), (2505, 0.011745770724453777), (2506, 0.0), (2507, 0.036323156504175926), (2508, 0.009442897734369963), (2509, 0.06520513930610913), (2510, 0.008746794880614596), (2511, 0.026707748777836087), (2512, 0.033197598363659916), (2513, 0.03181093689808248), (2514, 0.027394132529949655), (2515, 0.0), (2516, 0.0), (2517, 0.007253560150644155), (2518, 0.0), (2519, 0.02363814584867901), (2520, 0.060791620480589934), (2521, 0.0), (2522, 0.0031397881892992526), (2523, 0.0), (2524, 0.012296972708010131), (2525, 0.0027741022109623406), (2526, 0.00241041074138597), (2527, 0.008563276915719327), (2528, 0.02201409860642341), (2529, 0.014452836616899205), (2530, 0.003744368566936231), (2531, 0.010376376014110806), (2532, 0.0), (2533, 0.03363059441496253), (2534, 0.011492299373478433), (2535, 0.01103517362498323), (2536, 0.16180440967535192), (2537, 0.045869773041547136), (2538, 0.010302097851249938), (2539, 0.012740238634972733), (2540, 0.0028077858050485063), (2541, 0.009680974715849456), (2542, 0.0), (2543, 0.008796414159107894), (2544, 0.008794605879611676), (2545, 0.01101892072428709), (2546, 0.0030668549881439112), (2547, 0.0), (2548, 0.0), (2549, 0.0), (2550, 0.030212553873751956), (2551, 0.0), (2552, 0.04192785297904362), (2553, 0.08172929941964367), (2554, 0.0029719690161195424), (2555, 0.07682716014407318), (2556, 0.013310024716274233), (2557, 0.00365373776253544), (2558, 0.10945568708546134), (2559, 0.013088382046266465), (2560, 0.0282711183028308), (2561, 0.003073516320535691), (2562, 0.0), (2563, 0.008747140539896937), (2564, 0.0), (2565, 0.026787978317157672), (2566, 0.007411490914128433), (2567, 0.0), (2568, 0.029750704360708702), (2569, 0.014183622531658592), (2570, 0.011718392601072939), (2571, 0.002846286248616253), (2572, 0.023920956679157168), (2573, 0.0), (2574, 0.0), (2575, 0.0), (2576, 0.017994451062606488), (2577, 0.0), (2578, 0.0), (2579, 0.018713423816452777), (2580, 0.0026308979208920957), (2581, 0.01425583890764116), (2582, 0.030504767062566857), (2583, 0.0), (2584, 0.0), (2585, 0.037223216602531285), (2586, 0.0), (2587, 0.0325336219655431), (2588, 0.007508984037290506), (2589, 0.034111776434357116), (2590, 0.0), (2591, 0.01287788583455266), (2592, 0.003261434858924241), (2593, 0.002718056954783149), (2594, 0.03512623259105791), (2595, 0.0031953417004606517), (2596, 0.0), (2597, 0.0), (2598, 0.0027872573816496706), (2599, 0.0), (2600, 0.06340976514390335), (2601, 0.01103005407723152), (2602, 0.0024444594993311168), (2603, 0.02709686831081154), (2604, 0.0), (2605, 0.015320267885945848), (2606, 0.0029663672403072773), (2607, 0.04309472901539597), (2608, 0.0), (2609, 0.01061972990277381), (2610, 0.010522133475612077), (2611, 0.0025274215366051065), (2612, 0.0028452329179394597), (2613, 0.03939221221543601), (2614, 0.014009690037818264), (2615, 0.012771862261108023), (2616, 0.0), (2617, 0.0025973792629092017), (2618, 0.0), (2619, 0.003547744267696061), (2620, 0.0263579353881158), (2621, 0.009201588764157703), (2622, 0.0), (2623, 0.003335114120919128), (2624, 0.0032235834284865105), (2625, 0.02165924181483139), (2626, 0.0), (2627, 0.0), (2628, 0.04377255119669352), (2629, 0.06835574533454628), (2630, 0.0), (2631, 0.02895629988811162), (2632, 0.010327750505207099), (2633, 0.018463213675256218), (2634, 0.0027527124012729836), (2635, 0.0), (2636, 0.033668485790778864), (2637, 0.0), (2638, 0.012016884792427966), (2639, 0.05517473561376009), (2640, 0.02300260527852033), (2641, 0.0), (2642, 0.009592578299521376), (2643, 0.012876671249613468), (2644, 0.03181141403256312), (2645, 0.043032517399469554), (2646, 0.009166463498910139), (2647, 0.019093851216019534), (2648, 0.011763421608575334), (2649, 0.03837662875210647), (2650, 0.07805786486172295), (2651, 0.0027872838412151667), (2652, 0.010065585416718667), (2653, 0.02555510482143667), (2654, 0.02292706303180988), (2655, 0.0039041367669783687), (2656, 0.0), (2657, 0.0), (2658, 0.05927715772039792), (2659, 0.043921363930800206), (2660, 0.012431702975949142), (2661, 0.025447807357040567), (2662, 0.007726518855547516), (2663, 0.031448308354230646), (2664, 0.010614551544198915), (2665, 0.006282959020631861), (2666, 0.0), (2667, 0.0), (2668, 0.010882283931894011), (2669, 0.0), (2670, 0.0), (2671, 0.005149016115946311), (2672, 0.0), (2673, 0.003919008986346669), (2674, 0.0027118863676228234), (2675, 0.044706300536058646), (2676, 0.0), (2677, 0.006830394622877152), (2678, 0.06120086995513982), (2679, 0.013582878297422586), (2680, 0.007314111778711978), (2681, 0.006739770303293229), (2682, 0.0), (2683, 0.0), (2684, 0.0), (2685, 0.013953359676862696), (2686, 0.009858144737922165), (2687, 0.009795539837888695), (2688, 0.013092593984634644), (2689, 0.0), (2690, 0.010833110283766934), (2691, 0.007938470015068054), (2692, 0.009184136725802351), (2693, 0.006776879036798028), (2694, 0.003924263101622648), (2695, 0.002949655104559394), (2696, 0.047019143899535196), (2697, 0.014426516856556793), (2698, 0.0400125615354353), (2699, 0.006540248247998665), (2700, 0.0), (2701, 0.011345988872984816), (2702, 0.05926780457550065), (2703, 0.022718921775179878), (2704, 0.015643470462153766), (2705, 0.01078061504664506), (2706, 0.010054904694010864), (2707, 0.003457621104470411), (2708, 0.007777594843854434), (2709, 0.0), (2710, 0.02108892424721503), (2711, 0.017846827469804157), (2712, 0.01945293213834075), (2713, 0.0), (2714, 0.003117878996525303), (2715, 0.02469187245818783), (2716, 0.0028376672518679227), (2717, 0.0), (2718, 0.01991111157162573), (2719, 0.012106646055871171), (2720, 0.0034528055013103515), (2721, 0.002559841087428239), (2722, 0.026464995699195075), (2723, 0.003159541667367363), (2724, 0.0026178272214979897), (2725, 0.003150668560659169), (2726, 0.15778407469769531), (2727, 0.03667419310539577), (2728, 0.002681547398010887), (2729, 0.012170882329361475), (2730, 0.06058405299714746), (2731, 0.003954470568271871), (2732, 0.03610299171487108), (2733, 0.0), (2734, 0.04422974976137037), (2735, 0.03087285183146348), (2736, 0.0), (2737, 0.011721224753454116), (2738, 0.0034766151187635747), (2739, 0.01889531086663567), (2740, 0.036325883602589995), (2741, 0.015031995175976438), (2742, 0.007084414834792714), (2743, 0.0025258098171807237), (2744, 0.03005010929440686), (2745, 0.010049614996864418), (2746, 0.01012336240876023), (2747, 0.018512186345668397), (2748, 0.010826767735805825), (2749, 0.027750292584437918), (2750, 0.0), (2751, 0.01805411751512913), (2752, 0.0028177250052486653), (2753, 0.016607916461627126), (2754, 0.0), (2755, 0.010528040395152129), (2756, 0.0), (2757, 0.004509105207973158), (2758, 0.0025020304141622897), (2759, 0.007435112986610017), (2760, 0.0022611889205442766), (2761, 0.008567904139700055), (2762, 0.009654203543440468), (2763, 0.0), (2764, 0.014184814078895137), (2765, 0.01675052405909299), (2766, 0.02600443981476462), (2767, 0.0022984048951208026), (2768, 0.0041877450264239365), (2769, 0.02075812744215897), (2770, 0.0), (2771, 0.018414936547049083), (2772, 0.003489784725832754), (2773, 0.0), (2774, 0.006097249186900678), (2775, 0.05491056124404204), (2776, 0.040473057238360595), (2777, 0.009786234959235057), (2778, 0.003562253363837577), (2779, 0.009504559538236956), (2780, 0.016469390586144293), (2781, 0.0), (2782, 0.0032794056850653317), (2783, 0.00296479099104684), (2784, 0.0030111714295518897), (2785, 0.0), (2786, 0.0031548591748385944), (2787, 0.04682877258026548), (2788, 0.0), (2789, 0.017770834879040596), (2790, 0.0), (2791, 0.04609385476861363), (2792, 0.02878358772712021), (2793, 0.0), (2794, 0.019068238803654346), (2795, 0.003720441028160194), (2796, 0.003371445108482322), (2797, 0.012186545670960374), (2798, 0.017858798691966864), (2799, 0.01642611743538728), (2800, 0.002783345826082689), (2801, 0.0), (2802, 0.00973561097690798), (2803, 0.009624916351779832), (2804, 0.0), (2805, 0.006130276280792689), (2806, 0.007763856220209062), (2807, 0.02527791536238463), (2808, 0.010248290985783894), (2809, 0.028052871452439253), (2810, 0.0), (2811, 0.0), (2812, 0.009967378441404405), (2813, 0.011432465196714661), (2814, 0.0), (2815, 0.0), (2816, 0.04669828742113713), (2817, 0.0399885441695804), (2818, 0.0), (2819, 0.0), (2820, 0.006673996014875984), (2821, 0.0429398386990594), (2822, 0.0), (2823, 0.0), (2824, 0.0), (2825, 0.0), (2826, 0.002961751813520414), (2827, 0.0), (2828, 0.0), (2829, 0.0), (2830, 0.011080883577750625), (2831, 0.010588504596492207), (2832, 0.013066306475141927), (2833, 0.027178931080956717), (2834, 0.012352236294713211), (2835, 0.02786480250800813), (2836, 0.006955896442270574), (2837, 0.0), (2838, 0.012724073076213309), (2839, 0.0), (2840, 0.0032857470184780783), (2841, 0.008017611734454533), (2842, 0.0), (2843, 0.008473218161729528), (2844, 0.03708407673283417), (2845, 0.030776296485595277), (2846, 0.0034471494950321434), (2847, 0.0), (2848, 0.012153069531521394), (2849, 0.003114508255442547), (2850, 0.0), (2851, 0.0), (2852, 0.0), (2853, 0.014282238697238506), (2854, 0.0032718397845146723), (2855, 0.005944971483820091), (2856, 0.0), (2857, 0.049928402123342354), (2858, 0.004175701588174874), (2859, 0.016673494231289762), (2860, 0.03308207497112242), (2861, 0.0039048884009897956), (2862, 0.04754087471276542), (2863, 0.03524109513477534), (2864, 0.03694851377609337), (2865, 0.015170903533604398), (2866, 0.0065234409336972915), (2867, 0.017080802450596722), (2868, 0.01684455533946098), (2869, 0.0), (2870, 0.035059627700867096), (2871, 0.0), (2872, 0.011460779517493264), (2873, 0.008666361157020873), (2874, 0.007081797279499666), (2875, 0.0), (2876, 0.00831544134292442), (2877, 0.0058855325437056705), (2878, 0.02596594505725128), (2879, 0.0035877959520748143), (2880, 0.007555678547122529), (2881, 0.003336559373075758), (2882, 0.03633530111294489), (2883, 0.01347342486837329), (2884, 0.06142032693624276), (2885, 0.0), (2886, 0.009498977390675905), (2887, 0.002985088569357796), (2888, 0.0031912334082574083), (2889, 0.07324384048245364), (2890, 0.04463245108447336), (2891, 0.00993013572830572), (2892, 0.02028013266574085), (2893, 0.04586880257561911), (2894, 0.02946482615485715), (2895, 0.0035263004384527103), (2896, 0.014903502412217494), (2897, 0.006696111870134144), (2898, 0.0), (2899, 0.0027693787680142835), (2900, 0.0333312038219196), (2901, 0.003782424614073188), (2902, 0.0561360826289733), (2903, 0.003303762191168792), (2904, 0.05733500239820598), (2905, 0.0), (2906, 0.026844404824182447), (2907, 0.019814258381362908), (2908, 0.026834484926184565), (2909, 0.002873203476930486), (2910, 0.0632198389733566), (2911, 0.08076167050331415), (2912, 0.03237731325416886), (2913, 0.009357229237814176), (2914, 0.0033317537706644565), (2915, 0.09415346972388125), (2916, 0.003299870811031621), (2917, 0.06228816922257104), (2918, 0.0), (2919, 0.0030433942225616415), (2920, 0.002695498573674375), (2921, 0.0), (2922, 0.0), (2923, 0.003969371402651161), (2924, 0.011546866332213544), (2925, 0.03600641296772358), (2926, 0.0349694723879104), (2927, 0.0), (2928, 0.009052514895876393), (2929, 0.006805318184860657), (2930, 0.0), (2931, 0.015908649157093405), (2932, 0.0038951138618746445), (2933, 0.014935258660109835), (2934, 0.0029674848636309127), (2935, 0.0067767192561204274), (2936, 0.029978222482825348), (2937, 0.0042303641222975145), (2938, 0.0), (2939, 0.03797638393208719), (2940, 0.0031488254407785452), (2941, 0.039184891826451525), (2942, 0.03998394305313488), (2943, 0.00992063282664855), (2944, 0.03225955761481754), (2945, 0.03959338844180829), (2946, 0.0028992635687255376), (2947, 0.0), (2948, 0.0), (2949, 0.0031477566057708847), (2950, 0.0), (2951, 0.033591945620898275), (2952, 0.0), (2953, 0.003118296978779473), (2954, 0.030531308122956666), (2955, 0.011649719399397214), (2956, 0.0), (2957, 0.02306350163996547), (2958, 0.030282587191818547), (2959, 0.0), (2960, 0.0), (2961, 0.00289982372149721), (2962, 0.0), (2963, 0.05403649601755081), (2964, 0.01130186049380567), (2965, 0.013635402201675686), (2966, 0.049170549549871496), (2967, 0.007907773058956008), (2968, 0.03015025591182586), (2969, 0.024562195132549605), (2970, 0.08687436636420094), (2971, 0.0), (2972, 0.017769866892958813), (2973, 0.036781780942181486), (2974, 0.011178375310111888), (2975, 0.015450642039189048), (2976, 0.002639060997494914), (2977, 0.042049636048839246), (2978, 0.0076227333661384915), (2979, 0.0), (2980, 0.05880154473938805), (2981, 0.021226630377512705), (2982, 0.007978087819006422), (2983, 0.008847649303682469), (2984, 0.0), (2985, 0.05843024996748457), (2986, 0.011776890483835286), (2987, 0.003401066428511884), (2988, 0.010908297764620824), (2989, 0.004105024175855122), (2990, 0.0), (2991, 0.0), (2992, 0.01365112685439945), (2993, 0.00355336785600944), (2994, 0.0), (2995, 0.00943619824905139), (2996, 0.036797859355315946), (2997, 0.002784534358875128), (2998, 0.004422745238985992), (2999, 0.05388959500692469), (3000, 0.018042731496364154), (3001, 0.0), (3002, 0.0), (3003, 0.0032726536146388775), (3004, 0.012263251798246399), (3005, 0.0), (3006, 0.0), (3007, 0.018394233522887563), (3008, 0.06471842347629396), (3009, 0.009816299755822112), (3010, 0.002840848567639696), (3011, 0.0), (3012, 0.0033029343779741615), (3013, 0.04562852046655712), (3014, 0.02016873459556151), (3015, 0.051255297494703464), (3016, 0.0030243610082121603), (3017, 0.008329194522456862), (3018, 0.01191382143414787), (3019, 0.003429537406042304), (3020, 0.040592839737768824), (3021, 0.07956196162210677), (3022, 0.0), (3023, 0.018012663370634292), (3024, 0.002437038354326174), (3025, 0.0), (3026, 0.003254871233900239), (3027, 0.0026510060318502534), (3028, 0.002846879806013353), (3029, 0.031966333025479444), (3030, 0.013487949183871842), (3031, 0.040845727689877986), (3032, 0.00329755653165988), (3033, 0.0076260081246542315), (3034, 0.048696426394239045), (3035, 0.0028045887690476647), (3036, 0.013647101327929068), (3037, 0.003109689629195388), (3038, 0.0), (3039, 0.016567347504396614), (3040, 0.004114172654646993), (3041, 0.0), (3042, 0.04530575663508544), (3043, 0.024567752867887198), (3044, 0.003211295462265271), (3045, 0.0), (3046, 0.03413061583735032), (3047, 0.0), (3048, 0.0), (3049, 0.0), (3050, 0.009121946003213652), (3051, 0.004202311952506974), (3052, 0.004023958333103634), (3053, 0.017999197066531466), (3054, 0.0), (3055, 0.004008784099700033), (3056, 0.008248142343209003), (3057, 0.04206983832984744), (3058, 0.0), (3059, 0.0), (3060, 0.0), (3061, 0.007329653427196967), (3062, 0.0032661389943681135), (3063, 0.03150945360223571), (3064, 0.0032056247938611177), (3065, 0.008983502232424797), (3066, 0.05656005545052919), (3067, 0.047496111071902006), (3068, 0.0), (3069, 0.0028769369975225087), (3070, 0.0), (3071, 0.00932571927254727), (3072, 0.011572017933397799), (3073, 0.01569339406403399), (3074, 0.026626224582974672), (3075, 0.009669718143695296), (3076, 0.0038555191451260886), (3077, 0.006620367360761728), (3078, 0.00900836826463471), (3079, 0.0), (3080, 0.0), (3081, 0.0034670644415113047), (3082, 0.0), (3083, 0.006516866849013764), (3084, 0.05643105423969036), (3085, 0.007289356419593788), (3086, 0.0031824898888049157), (3087, 0.0), (3088, 0.045341520697037854), (3089, 0.0), (3090, 0.011218227063905847), (3091, 0.0024658620220744903), (3092, 0.0), (3093, 0.0028992975716518894), (3094, 0.087596984580436), (3095, 0.08397624707204604), (3096, 0.009193706266315872), (3097, 0.003248506715103252), (3098, 0.035897640649077286), (3099, 0.0), (3100, 0.013709037638951939), (3101, 0.05315598285386697), (3102, 0.0), (3103, 0.014813706118218696), (3104, 0.01371678667199496), (3105, 0.0), (3106, 0.0), (3107, 0.0), (3108, 0.06027054132217693), (3109, 0.0074662121769832075), (3110, 0.03430116670737897), (3111, 0.044562658748550546), (3112, 0.003167888284939235), (3113, 0.00300479016486042), (3114, 0.01760021394902276), (3115, 0.0), (3116, 0.010940904126889386), (3117, 0.0), (3118, 0.0), (3119, 0.08113394635438294), (3120, 0.002727498241553645), (3121, 0.0), (3122, 0.016810968639416224), (3123, 0.04078558354215863), (3124, 0.0), (3125, 0.002960572521485428), (3126, 0.0), (3127, 0.011050407583759072), (3128, 0.023764085219884067), (3129, 0.0), (3130, 0.0), (3131, 0.0), (3132, 0.0), (3133, 0.0), (3134, 0.0), (3135, 0.0), (3136, 0.0), (3137, 0.011975213611771358), (3138, 0.0), (3139, 0.004171010981333868), (3140, 0.012530114573365024), (3141, 0.010990959231477831), (3142, 0.0), (3143, 0.014772606491947506), (3144, 0.005681376597515915), (3145, 0.0), (3146, 0.003295269190315038), (3147, 0.03181875469546495), (3148, 0.026839610536600948), (3149, 0.0), (3150, 0.11450511557221271), (3151, 0.01007472655643014), (3152, 0.04094967941355117), (3153, 0.12907491614217287), (3154, 0.09133640347277569), (3155, 0.0029661735560693975), (3156, 0.0), (3157, 0.045710714600648905), (3158, 0.0), (3159, 0.0036461435825271256), (3160, 0.0), (3161, 0.013831746164533965), (3162, 0.0), (3163, 0.09557700386972631), (3164, 0.006461675006704445), (3165, 0.011435705895143549), (3166, 0.013810729464729495), (3167, 0.002638316486085599), (3168, 0.025804616517757784), (3169, 0.016306191355838925), (3170, 0.023049494292710332), (3171, 0.0028023801294730973), (3172, 0.0), (3173, 0.03089472442881514), (3174, 0.0029381558633131298), (3175, 0.0075121215291996096), (3176, 0.0), (3177, 0.053441157793486294), (3178, 0.015741625427724802), (3179, 0.0), (3180, 0.007799333386194681), (3181, 0.01733271356751367), (3182, 0.010142405630287694), (3183, 0.010902744591334657), (3184, 0.09434510462356413), (3185, 0.0), (3186, 0.0033403893705091347), (3187, 0.003100183808044254), (3188, 0.020735720736930887), (3189, 0.007365360557191498), (3190, 0.0), (3191, 0.0), (3192, 0.0), (3193, 0.0), (3194, 0.009397565196797004), (3195, 0.00289916444644381), (3196, 0.0033035236156072206), (3197, 0.0), (3198, 0.010285367843350764), (3199, 0.002281377540409681), (3200, 0.008459651390589698), (3201, 0.0), (3202, 0.007622110850030864), (3203, 0.0), (3204, 0.021292279051985614), (3205, 0.019376182271594843), (3206, 0.040456015816155676), (3207, 0.0), (3208, 0.0), (3209, 0.0), (3210, 0.002971618305771719), (3211, 0.0025507213258270036), (3212, 0.04559139183046905), (3213, 0.025559518427152192), (3214, 0.009505297599588835), (3215, 0.01865519210649721), (3216, 0.02159631905872771), (3217, 0.04832697224189398), (3218, 0.018749265442083368), (3219, 0.003850002543955558), (3220, 0.03953118363070861), (3221, 0.0), (3222, 0.0063619155071431574), (3223, 0.0), (3224, 0.034812596723487625), (3225, 0.01710816634765508), (3226, 0.047498803455977796), (3227, 0.002970435008659349), (3228, 0.0641673066198785), (3229, 0.019128984505625075), (3230, 0.03136574941505964), (3231, 0.0), (3232, 0.0), (3233, 0.0030307461569432778), (3234, 0.0032201660739315094), (3235, 0.026259191304139354), (3236, 0.0), (3237, 0.04434893559645928), (3238, 0.024185079477989993), (3239, 0.042156981118176395), (3240, 0.04749849372633548), (3241, 0.010387116140338867), (3242, 0.03510590056589188), (3243, 0.0027592308103554118), (3244, 0.006989811631184994), (3245, 0.0), (3246, 0.01685978577643251), (3247, 0.012907942069267755), (3248, 0.01110396817002835), (3249, 0.04182074784905951), (3250, 0.0), (3251, 0.03492496141088857), (3252, 0.05026355386664139), (3253, 0.035442143328980824), (3254, 0.008140810936922444), (3255, 0.0), (3256, 0.008894672793654095), (3257, 0.048737745663160796), (3258, 0.010826541664892567), (3259, 0.0), (3260, 0.016380058733906855), (3261, 0.0), (3262, 0.0037906685628966265), (3263, 0.0), (3264, 0.043363783668774455), (3265, 0.00786339735617493), (3266, 0.042179655838694485), (3267, 0.0026731446802550174), (3268, 0.009502730969094986), (3269, 0.036169722815147506), (3270, 0.0), (3271, 0.031023911015525894), (3272, 0.0), (3273, 0.011084488809906947), (3274, 0.011218129346309589), (3275, 0.022034171186393475), (3276, 0.04334278261668863), (3277, 0.0), (3278, 0.0026787697233193308), (3279, 0.0), (3280, 0.0), (3281, 0.0), (3282, 0.061546605191037926), (3283, 0.034058603558950004), (3284, 0.016674881705388854), (3285, 0.0022147443194297733), (3286, 0.048796603502770416), (3287, 0.03161534473574919), (3288, 0.027777216181268247), (3289, 0.03426768123638242), (3290, 0.003031772065014895), (3291, 0.013379700291249116), (3292, 0.003845789263741373), (3293, 0.002788395127856859), (3294, 0.0070377002428684285), (3295, 0.006379716614221383), (3296, 0.01132409880391413), (3297, 0.0031303612479656245), (3298, 0.009617654947938521), (3299, 0.04401102858128741), (3300, 0.009356515236844326), (3301, 0.04166490874150198), (3302, 0.012130975034415008), (3303, 0.021741375667754158), (3304, 0.009015407113949698), (3305, 0.0), (3306, 0.00270085754066381), (3307, 0.00342209477977227), (3308, 0.011787245084689368), (3309, 0.007286224724090145), (3310, 0.0), (3311, 0.0026649217143133374), (3312, 0.0), (3313, 0.0024052045264715176), (3314, 0.010559523752936957), (3315, 0.009511184492418839), (3316, 0.008135653242077106), (3317, 0.002412949433586943), (3318, 0.008973385723225074), (3319, 0.0), (3320, 0.0), (3321, 0.0), (3322, 0.0037915660044965135), (3323, 0.0), (3324, 0.035834600775343395), (3325, 0.05974128740179124), (3326, 0.010545163706446401), (3327, 0.008930560282885044), (3328, 0.009434789625548164), (3329, 0.03754449488632949), (3330, 0.0029359881036219583), (3331, 0.002455775718208813), (3332, 0.0), (3333, 0.0), (3334, 0.0), (3335, 0.010059732623360804), (3336, 0.012919868595594772), (3337, 0.003399252442592574), (3338, 0.0), (3339, 0.0), (3340, 0.0), (3341, 0.0029542708423585247), (3342, 0.0027356250185773504), (3343, 0.0), (3344, 0.008982100252021062), (3345, 0.0), (3346, 0.05848685157947999), (3347, 0.012047643382907553), (3348, 0.059091161118875406), (3349, 0.0030564407745954894), (3350, 0.0135640179775696), (3351, 0.06793673091613313), (3352, 0.009574654559912445), (3353, 0.018320571116777568), (3354, 0.042098277923561106), (3355, 0.021688611282219265), (3356, 0.010764438263216436), (3357, 0.04156318479263274), (3358, 0.003576581029578312), (3359, 0.04707209652720593), (3360, 0.028849982478907216), (3361, 0.0), (3362, 0.04111407814421397), (3363, 0.012417238261210616), (3364, 0.011493788020555801), (3365, 0.002077545059132007), (3366, 0.0), (3367, 0.0), (3368, 0.0), (3369, 0.0027174170060953427), (3370, 0.03245676422520917), (3371, 0.041542906856048854), (3372, 0.03511732885152746), (3373, 0.003315807936148278), (3374, 0.0029236939089339986), (3375, 0.02221566860133515), (3376, 0.04029389067761169), (3377, 0.06580467441126753), (3378, 0.0586809934638573), (3379, 0.018482668235334617), (3380, 0.008838284145122426), (3381, 0.0029108432406257843), (3382, 0.0030740690622108094), (3383, 0.0), (3384, 0.008945564931774529), (3385, 0.0), (3386, 0.010716429143528517), (3387, 0.00842605883160017), (3388, 0.04261634956069675), (3389, 0.040103452283539925), (3390, 0.026776352988537797), (3391, 0.014382543258889022), (3392, 0.017117760790328614), (3393, 0.0025337377070093034), (3394, 0.0), (3395, 0.021028701141298248), (3396, 0.003398083111038327), (3397, 0.0), (3398, 0.0), (3399, 0.00988110393135617), (3400, 0.0068558087394612315), (3401, 0.0), (3402, 0.002870836094605412), (3403, 0.008722937329210902), (3404, 0.0), (3405, 0.0), (3406, 0.022547174370876256), (3407, 0.01651035484918159), (3408, 0.046774977632616115), (3409, 0.00902333282629239), (3410, 0.04485763898370787), (3411, 0.0), (3412, 0.06301741263354012), (3413, 0.02847302261352109), (3414, 0.0374297716814042), (3415, 0.03191143548958299), (3416, 0.007623191544939453), (3417, 0.010965834497775113), (3418, 0.013026585799730104), (3419, 0.03858797728817498), (3420, 0.048468391496737644), (3421, 0.035424222947424575), (3422, 0.04419465607196283), (3423, 0.012101720687038372), (3424, 0.007680766814473165), (3425, 0.04686680811205417), (3426, 0.007098043583929277), (3427, 0.0), (3428, 0.0), (3429, 0.0), (3430, 0.013896391570684442), (3431, 0.026851331208040834), (3432, 0.014568590629896763), (3433, 0.00277395195302463), (3434, 0.010592299038540243), (3435, 0.002917386899739683), (3436, 0.01897321875274092), (3437, 0.019735572651888637), (3438, 0.0), (3439, 0.0), (3440, 0.0), (3441, 0.02152393026283343), (3442, 0.014583808665855132), (3443, 0.0), (3444, 0.0), (3445, 0.04147436964774496), (3446, 0.0), (3447, 0.017185057863193326), (3448, 0.0), (3449, 0.023086441796680703), (3450, 0.02189468829171928), (3451, 0.0), (3452, 0.10205175480021376), (3453, 0.055281550016164145), (3454, 0.0), (3455, 0.002705021746381098), (3456, 0.005211281873876982), (3457, 0.02813060393262276), (3458, 0.015061680596470546), (3459, 0.0), (3460, 0.0027090199638932556), (3461, 0.0), (3462, 0.0), (3463, 0.0), (3464, 0.012090604275467782), (3465, 0.0), (3466, 0.10025547219944572), (3467, 0.0), (3468, 0.0), (3469, 0.021004550619528266), (3470, 0.0), (3471, 0.0023423921535530618), (3472, 0.0), (3473, 0.0), (3474, 0.00267695292954883), (3475, 0.0), (3476, 0.0), (3477, 0.05142029683717499), (3478, 0.002946027823690538), (3479, 0.013296547346163357), (3480, 0.0), (3481, 0.0), (3482, 0.0), (3483, 0.03881577964148699), (3484, 0.0), (3485, 0.010137428589966151), (3486, 0.016240465222462315), (3487, 0.03709019206089763), (3488, 0.0), (3489, 0.007226230292978395), (3490, 0.024743774042707837), (3491, 0.0029575866937459148), (3492, 0.016945934421944666), (3493, 0.010420963099130636), (3494, 0.018876544144445877), (3495, 0.0), (3496, 0.010687261017589074), (3497, 0.03974709268136821), (3498, 0.0028148012661388974), (3499, 0.0028941343791850536), (3500, 0.009237161678058868), (3501, 0.04796472653925486), (3502, 0.0), (3503, 0.002824944051658073), (3504, 0.0238003548492839), (3505, 0.07791118671756372), (3506, 0.059807910153186386), (3507, 0.0), (3508, 0.03347668207591869), (3509, 0.006620080436244055), (3510, 0.03287170836164325), (3511, 0.024953175524535666), (3512, 0.028907916972155452), (3513, 0.007344974238435722), (3514, 0.17913265630759576), (3515, 0.008295858383130208), (3516, 0.0578654626561443), (3517, 0.01728613857799708), (3518, 0.07116398242833961), (3519, 0.0), (3520, 0.0), (3521, 0.04119346014079359), (3522, 0.0), (3523, 0.0042231899194843225), (3524, 0.039406053402150164), (3525, 0.0), (3526, 0.026467337110428923), (3527, 0.0030452817229761407), (3528, 0.0), (3529, 0.007703355343983094), (3530, 0.0), (3531, 0.006799577636406312), (3532, 0.0), (3533, 0.0), (3534, 0.016650030471742676), (3535, 0.0), (3536, 0.026201740443166525), (3537, 0.06473832247441476), (3538, 0.0266619806210242), (3539, 0.0), (3540, 0.07358745448064301), (3541, 0.05315182466693921), (3542, 0.003014218958521339), (3543, 0.0467214549676247), (3544, 0.04070204807109788), (3545, 0.0), (3546, 0.024450938415943722), (3547, 0.035413606015173085), (3548, 0.002422654932014699), (3549, 0.00725013796453677), (3550, 0.0), (3551, 0.024861186735595543), (3552, 0.06578441262169543), (3553, 0.01048213191455416), (3554, 0.0), (3555, 0.015416025476014904), (3556, 0.00263412861513499), (3557, 0.026642178797940078), (3558, 0.023280737721756428), (3559, 0.01835817502787051), (3560, 0.011186955522542142), (3561, 0.045327988773999475), (3562, 0.0), (3563, 0.0026850313853170973), (3564, 0.0029574508372732433), (3565, 0.00291559568249838), (3566, 0.007167426482679111), (3567, 0.0), (3568, 0.0), (3569, 0.02874613039458831), (3570, 0.0), (3571, 0.0030124790004630066), (3572, 0.0), (3573, 0.0), (3574, 0.008761735696261324), (3575, 0.017259955083713828), (3576, 0.0), (3577, 0.03548399130072465), (3578, 0.0), (3579, 0.024749448071958877), (3580, 0.0), (3581, 0.0), (3582, 0.0), (3583, 0.0), (3584, 0.007528903182520284), (3585, 0.0), (3586, 0.054089860160302115), (3587, 0.0033186046612665963), (3588, 0.0), (3589, 0.006464724435219925), (3590, 0.003129410596621763), (3591, 0.0), (3592, 0.00871591985993955), (3593, 0.04198203133816707), (3594, 0.01458288762783316), (3595, 0.0), (3596, 0.010467074356788779), (3597, 0.0), (3598, 0.025951963620627263), (3599, 0.07881350559164697), (3600, 0.060995337215949644), (3601, 0.010618359451205856), (3602, 0.0), (3603, 0.02335374561573388), (3604, 0.016119562336270366), (3605, 0.0), (3606, 0.031040760528667936), (3607, 0.0), (3608, 0.0019188896750422164), (3609, 0.0), (3610, 0.05936109597414706), (3611, 0.0033473412050994125), (3612, 0.002947147391028751), (3613, 0.003633721510969984), (3614, 0.025988868173522597), (3615, 0.015721522652337006), (3616, 0.003663495424827014), (3617, 0.0), (3618, 0.003122743379992918), (3619, 0.0), (3620, 0.0035873480657794997), (3621, 0.0034666068095433387), (3622, 0.03927365837489542), (3623, 0.019447436919862643), (3624, 0.05817451192992414), (3625, 0.0), (3626, 0.018186967561307096), (3627, 0.002725819291719214), (3628, 0.0), (3629, 0.002530082978745323), (3630, 0.0), (3631, 0.0), (3632, 0.007799255352002375), (3633, 0.010217200591531847), (3634, 0.008942251537728875), (3635, 0.003983044362137744), (3636, 0.0030359946141026925), (3637, 0.0025763482368012357), (3638, 0.003673019282815694), (3639, 0.03826826833619532), (3640, 0.0032854957730380154), (3641, 0.002845205286379829), (3642, 0.003194634204239849), (3643, 0.03535205287285446), (3644, 0.0068877053893284974), (3645, 0.0022205442180313027), (3646, 0.038246173419236106), (3647, 0.06257602156532052), (3648, 0.030333534180814102), (3649, 0.0), (3650, 0.0), (3651, 0.020159004135575437), (3652, 0.0), (3653, 0.01701832994311838), (3654, 0.0588153601742635), (3655, 0.015305272541413974), (3656, 0.024406025108337476), (3657, 0.022927112348010745), (3658, 0.0), (3659, 0.0), (3660, 0.032244976403525576), (3661, 0.012062284005570035), (3662, 0.013742101953867023), (3663, 0.0), (3664, 0.0), (3665, 0.002939010023599738), (3666, 0.0030588899505932508), (3667, 0.03533171023961139), (3668, 0.012149658424159859), (3669, 0.008437600227105846), (3670, 0.0029712068283880384), (3671, 0.0), (3672, 0.04751401890064086), (3673, 0.016627393253537383), (3674, 0.03169795129235368), (3675, 0.0035117840153377267), (3676, 0.0), (3677, 0.0032337952029139676), (3678, 0.043030173839793684), (3679, 0.0), (3680, 0.0033313742641986337), (3681, 0.023045284634603348), (3682, 0.0), (3683, 0.016281662140670013), (3684, 0.0), (3685, 0.0), (3686, 0.008334066192537303), (3687, 0.0417638191372235), (3688, 0.0), (3689, 0.03791975847579417), (3690, 0.0), (3691, 0.0028032756192762427), (3692, 0.0031719976015706993), (3693, 0.0), (3694, 0.043827325889809185), (3695, 0.0), (3696, 0.0161002758323576), (3697, 0.0), (3698, 0.0), (3699, 0.003009052430651556), (3700, 0.0), (3701, 0.04597516366173583), (3702, 0.0), (3703, 0.0), (3704, 0.0031836269294212077), (3705, 0.0026658070798702884), (3706, 0.018398227383765956), (3707, 0.0029983798602972694), (3708, 0.0), (3709, 0.029400404894078393), (3710, 0.0), (3711, 0.0), (3712, 0.013519150764323772), (3713, 0.06897822822234081), (3714, 0.003220098433629785), (3715, 0.0), (3716, 0.006300729116278958), (3717, 0.0), (3718, 0.0), (3719, 0.002875481475035495), (3720, 0.0), (3721, 0.00929988047483445), (3722, 0.01413622952513807), (3723, 0.0), (3724, 0.0), (3725, 0.0027430924070812484), (3726, 0.0), (3727, 0.002920953429373206), (3728, 0.031366363063612374), (3729, 0.0034141755710401815), (3730, 0.012470883760787598), (3731, 0.006507178068533109), (3732, 0.03624031177659581), (3733, 0.010072980486553596), (3734, 0.002778610566773118), (3735, 0.01624018175310907), (3736, 0.010713554139747299), (3737, 0.0032895960524589917), (3738, 0.0), (3739, 0.002978409203933324), (3740, 0.0), (3741, 0.0), (3742, 0.013111406770663178), (3743, 0.0), (3744, 0.0), (3745, 0.04020610141273741), (3746, 0.013534574687732183), (3747, 0.015463327115819613), (3748, 0.012667469442581106), (3749, 0.003212142254801868), (3750, 0.009651222579963923), (3751, 0.018069588255347227), (3752, 0.006482340979690925), (3753, 0.006458104935556043), (3754, 0.016646673911151808), (3755, 0.002603674809802665), (3756, 0.002409788298721221), (3757, 0.003177911511226679), (3758, 0.00838453625285088), (3759, 0.0), (3760, 0.0), (3761, 0.007839604489379634), (3762, 0.003838053573547918), (3763, 0.03201888407770502), (3764, 0.0), (3765, 0.01831252934766545), (3766, 0.0035132229633543354), (3767, 0.04237589563729605), (3768, 0.014774016198565927), (3769, 0.0), (3770, 0.02269436468153956), (3771, 0.003190908863620089), (3772, 0.0033525628031022886), (3773, 0.015556881085711844), (3774, 0.06518456449169156), (3775, 0.0), (3776, 0.0), (3777, 0.019918415471056015), (3778, 0.02822049268904269), (3779, 0.0035574187172306656), (3780, 0.0031455342521816256), (3781, 0.01788793507672871), (3782, 0.0), (3783, 0.0), (3784, 0.033122719343071254), (3785, 0.0), (3786, 0.015261666752816047), (3787, 0.017413685612908632), (3788, 0.0), (3789, 0.0), (3790, 0.0), (3791, 0.0), (3792, 0.02919927542190093), (3793, 0.0), (3794, 0.0), (3795, 0.008906293301550698), (3796, 0.0), (3797, 0.011703740166285562), (3798, 0.0072716890309700456), (3799, 0.002792592973018707), (3800, 0.04947715497252474), (3801, 0.029460690083752836), (3802, 0.0), (3803, 0.009981289528966314), (3804, 0.011106488700250827), (3805, 0.0), (3806, 0.0), (3807, 0.0029305742098019736), (3808, 0.023049065351571633), (3809, 0.02428782685418379), (3810, 0.0), (3811, 0.0027772521636773594), (3812, 0.051155985648859835), (3813, 0.020569488562874716), (3814, 0.0), (3815, 0.0), (3816, 0.0), (3817, 0.0), (3818, 0.0), (3819, 0.017799849079081276), (3820, 0.0), (3821, 0.008869805627666226), (3822, 0.011875384334638342), (3823, 0.010726233706643986), (3824, 0.013122580184832007), (3825, 0.021250393804999768), (3826, 0.01690745722475448), (3827, 0.0028885047995662436), (3828, 0.003725827488278449), (3829, 0.12361067206054417), (3830, 0.0), (3831, 0.0), (3832, 0.026493821469641153), (3833, 0.016153204516928837), (3834, 0.023203750176985186), (3835, 0.018872622350104406), (3836, 0.0), (3837, 0.0), (3838, 0.0), (3839, 0.042067164342829685), (3840, 0.0), (3841, 0.016906182997106414), (3842, 0.0), (3843, 0.0), (3844, 0.0), (3845, 0.026975750015812282), (3846, 0.0), (3847, 0.0), (3848, 0.042421837712708806), (3849, 0.05840823814212117), (3850, 0.0), (3851, 0.008026502851692489), (3852, 0.04030236182889063), (3853, 0.0), (3854, 0.002724325369143037), (3855, 0.05021589398215219), (3856, 0.006067074743452698), (3857, 0.030175953197953277), (3858, 0.05763469199836297), (3859, 0.01326169261161184), (3860, 0.0), (3861, 0.012174384669094405), (3862, 0.0030768103283522435), (3863, 0.015002108231019213), (3864, 0.020175491956258198), (3865, 0.006804807209786696), (3866, 0.03309674972518856), (3867, 0.029379815501960706), (3868, 0.009526600282793805), (3869, 0.0), (3870, 0.028747516262345767), (3871, 0.014350206998059063), (3872, 0.0), (3873, 0.03716611128705073), (3874, 0.003602503451987459), (3875, 0.04524370536663462), (3876, 0.016175950774402585), (3877, 0.02098969604970856), (3878, 0.023160902978917514), (3879, 0.006796578324410303), (3880, 0.009227253582396613), (3881, 0.0), (3882, 0.09268306448854857), (3883, 0.003358122134118213), (3884, 0.02050301689579541), (3885, 0.0), (3886, 0.0), (3887, 0.0), (3888, 0.0029149356776006926), (3889, 0.010797890693392754), (3890, 0.03623560386880413), (3891, 0.010803416323675425), (3892, 0.0038297240405882594), (3893, 0.010755909547572662), (3894, 0.04119748987832496), (3895, 0.008715777581695661), (3896, 0.03620938952272218), (3897, 0.0), (3898, 0.00944828374652912), (3899, 0.08243354705002989), (3900, 0.03215326075208446), (3901, 0.0035529025153726817), (3902, 0.0030652602704607777), (3903, 0.08329894198259888), (3904, 0.010649437484913716), (3905, 0.016825062563893965), (3906, 0.07287657476963813), (3907, 0.0), (3908, 0.0), (3909, 0.017762753457165544), (3910, 0.01511636088455972), (3911, 0.0035202486505827367), (3912, 0.0), (3913, 0.019723733968116823), (3914, 0.0), (3915, 0.026755117423606603), (3916, 0.0), (3917, 0.0028339241988828996), (3918, 0.0), (3919, 0.01838451031113484), (3920, 0.003051498324246089), (3921, 0.01832850636583591), (3922, 0.003636785739900487), (3923, 0.0), (3924, 0.0032384415037193864), (3925, 0.014819860622642785), (3926, 0.021413672058367708), (3927, 0.008803214618296883), (3928, 0.0024608500185570002), (3929, 0.0), (3930, 0.0), (3931, 0.0), (3932, 0.011900321147810429), (3933, 0.05104915567576916), (3934, 0.0), (3935, 0.003471444311477389), (3936, 0.008868498646006242), (3937, 0.0), (3938, 0.0), (3939, 0.07086456539464779), (3940, 0.00629098807566301), (3941, 0.025459730253729756), (3942, 0.0), (3943, 0.014778534045346417), (3944, 0.0), (3945, 0.008578511733301953), (3946, 0.00591724384612972), (3947, 0.0), (3948, 0.0), (3949, 0.0), (3950, 0.007792850318911762), (3951, 0.04060426243688171), (3952, 0.011417861488668276), (3953, 0.002680463600166984), (3954, 0.016598013655221795), (3955, 0.0), (3956, 0.014880222149726459), (3957, 0.008717547045029462), (3958, 0.00978313335749676), (3959, 0.0030513005413852806), (3960, 0.0033398723485748958), (3961, 0.003251684381704435), (3962, 0.0033086830110956316), (3963, 0.0), (3964, 0.020570414652768616), (3965, 0.0), (3966, 0.0), (3967, 0.0032567055889188823), (3968, 0.0), (3969, 0.0), (3970, 0.010911019729503525), (3971, 0.03028290993185523), (3972, 0.0), (3973, 0.01126058571312359), (3974, 0.0026515917486091595), (3975, 0.0), (3976, 0.012370746943014434), (3977, 0.020257267048115504), (3978, 0.0028099760144612764), (3979, 0.0), (3980, 0.005623932187785291), (3981, 0.0), (3982, 0.0), (3983, 0.018918282076343086), (3984, 0.003098251173636158), (3985, 0.0), (3986, 0.015021468732542467), (3987, 0.0031377200482591476), (3988, 0.0), (3989, 0.0), (3990, 0.004066357199748279), (3991, 0.0), (3992, 0.0033301146269973814), (3993, 0.0), (3994, 0.0), (3995, 0.0), (3996, 0.0), (3997, 0.0), (3998, 0.007351106549662475), (3999, 0.012259491267414033), (4000, 0.0029221433151281014), (4001, 0.007643177612827641), (4002, 0.0034213261890387995), (4003, 0.0), (4004, 0.017871251029180153), (4005, 0.02014394572308338), (4006, 0.014263639797185477), (4007, 0.03171797158629791), (4008, 0.007918842657423555), (4009, 0.02943153339145197), (4010, 0.0), (4011, 0.009350583942039109), (4012, 0.021628188889575087), (4013, 0.0032074269507688232), (4014, 0.0029807828153401994), (4015, 0.10162013143298351), (4016, 0.01431463781433023), (4017, 0.003997787525211355), (4018, 0.005975130742104327), (4019, 0.0038189997939322706), (4020, 0.0172880985698439), (4021, 0.0), (4022, 0.006644894107002082), (4023, 0.12535971774892238), (4024, 0.003181402990179973), (4025, 0.018245286466203135), (4026, 0.0), (4027, 0.007402583330320543), (4028, 0.0), (4029, 0.0), (4030, 0.003448212596049324), (4031, 0.0), (4032, 0.0123411135727365), (4033, 0.0031079646949501954), (4034, 0.0), (4035, 0.006639241028317354), (4036, 0.0028785276830901505), (4037, 0.0), (4038, 0.0031495441174865745), (4039, 0.0), (4040, 0.0), (4041, 0.0), (4042, 0.003253828930261144), (4043, 0.0), (4044, 0.0), (4045, 0.019815147606058348), (4046, 0.003229635482368481), (4047, 0.01854972194226236), (4048, 0.003225122446165772), (4049, 0.0029898929636574985), (4050, 0.007744105340126542), (4051, 0.028853354333455872), (4052, 0.023234971892461875), (4053, 0.002673197701641189), (4054, 0.03326435957674266), (4055, 0.00688225207133239), (4056, 0.06537384581424928), (4057, 0.016922400521537508), (4058, 0.0), (4059, 0.0027550204222697924), (4060, 0.024472833322419042), (4061, 0.015991990439165896), (4062, 0.026627758672768308), (4063, 0.0), (4064, 0.02043239104270152), (4065, 0.0), (4066, 0.022624219460922038), (4067, 0.0), (4068, 0.0029929422048909286), (4069, 0.0028455406457567815), (4070, 0.018759610367442742), (4071, 0.0), (4072, 0.0), (4073, 0.006832853718241), (4074, 0.015858669518381024), (4075, 0.021997228006516423), (4076, 0.02020616262811444), (4077, 0.02907424243605108), (4078, 0.0), (4079, 0.010321258948785385), (4080, 0.02574449416555222), (4081, 0.0029623266216259984), (4082, 0.014065185771226445), (4083, 0.0030756801185385227), (4084, 0.009014390077819717), (4085, 0.002803947720791677), (4086, 0.0), (4087, 0.0032025406540486974), (4088, 0.1091361265095532), (4089, 0.04260423149554573), (4090, 0.0), (4091, 0.0), (4092, 0.0033338986900505845), (4093, 0.0), (4094, 0.0), (4095, 0.0025001617021466), (4096, 0.0), (4097, 0.0), (4098, 0.0030198022184487194), (4099, 0.021373671701926424), (4100, 0.016615334760373853), (4101, 0.13157274078858835), (4102, 0.0037405477589731832), (4103, 0.0), (4104, 0.02101220354725494), (4105, 0.08417599185432492), (4106, 0.06251283928982936), (4107, 0.0036377139095260616), (4108, 0.0), (4109, 0.02758955273148994), (4110, 0.020888812773792724), (4111, 0.03315082923326233), (4112, 0.01830776732023404), (4113, 0.02093909570658119), (4114, 0.0), (4115, 0.0), (4116, 0.0032118320968553913), (4117, 0.011365464367999869), (4118, 0.0), (4119, 0.0), (4120, 0.06268338032004477), (4121, 0.0), (4122, 0.0), (4123, 0.0031106185270081766), (4124, 0.0027875913646493965), (4125, 0.015242919555866876), (4126, 0.003428111201979361), (4127, 0.0), (4128, 0.0), (4129, 0.0028515417795286135), (4130, 0.0032199823207611183), (4131, 0.0), (4132, 0.0031710616668809226), (4133, 0.020556021078290333), (4134, 0.010471470865633551), (4135, 0.002987807232619545), (4136, 0.010371935359953947), (4137, 0.04634622262931634), (4138, 0.02627574426648754), (4139, 0.00961447337283846), (4140, 0.0032188718786869863), (4141, 0.055964641641016194), (4142, 0.022529942865048287), (4143, 0.07015720447736434), (4144, 0.005894463552211272), (4145, 0.01169555111910775), (4146, 0.0), (4147, 0.02032833510866405), (4148, 0.0), (4149, 0.02448892497902966), (4150, 0.027496018736122806), (4151, 0.005061668515887799), (4152, 0.015928389058826636), (4153, 0.0), (4154, 0.002662062422143844), (4155, 0.03997596188727905), (4156, 0.07092726430349881), (4157, 0.0), (4158, 0.006551627726362978), (4159, 0.0), (4160, 0.0033030457554391246), (4161, 0.0031693360252722075), (4162, 0.0), (4163, 0.00341556690320702), (4164, 0.0), (4165, 0.0), (4166, 0.009050507366770912), (4167, 0.0), (4168, 0.0), (4169, 0.01877132022780235), (4170, 0.0), (4171, 0.012454251931944028), (4172, 0.003894687236898699), (4173, 0.0), (4174, 0.015366401417185609), (4175, 0.010601737733332214), (4176, 0.0027089058673132787), (4177, 0.0), (4178, 0.017530084823623653), (4179, 0.0), (4180, 0.0), (4181, 0.0), (4182, 0.008024102774537849), (4183, 0.009656759475875708), (4184, 0.0), (4185, 0.0), (4186, 0.012585755221575195), (4187, 0.07678253991697412), (4188, 0.0), (4189, 0.010818427090034834), (4190, 0.0), (4191, 0.012453966196238977), (4192, 0.009641375677411216), (4193, 0.0), (4194, 0.0), (4195, 0.0), (4196, 0.008308327770055537), (4197, 0.03818268434732709), (4198, 0.009256712585605061), (4199, 0.019732448068279902), (4200, 0.002435737507887433), (4201, 0.0), (4202, 0.004119378628912132), (4203, 0.02927128491307904), (4204, 0.0), (4205, 0.026199797689751413), (4206, 0.002798379633951667), (4207, 0.0), (4208, 0.0), (4209, 0.0036099977659089185), (4210, 0.0332564830728623), (4211, 0.015613729457921372), (4212, 0.0), (4213, 0.0028013463294566643), (4214, 0.0), (4215, 0.0), (4216, 0.01537158428105674), (4217, 0.007369769859407662), (4218, 0.0), (4219, 0.0), (4220, 0.0025989087580708275), (4221, 0.003938827729087503), (4222, 0.013352982226658976), (4223, 0.010745593887733003), (4224, 0.0), (4225, 0.003092523784429618), (4226, 0.008341778822598147), (4227, 0.0554833194869964), (4228, 0.0029105105653061333), (4229, 0.006777093086258597), (4230, 0.0037747558772959966), (4231, 0.003142618156452995), (4232, 0.01247893533119289), (4233, 0.0), (4234, 0.0490304129046345), (4235, 0.0), (4236, 0.007056687608065781), (4237, 0.0), (4238, 0.0), (4239, 0.0), (4240, 0.07088817012965076), (4241, 0.0), (4242, 0.003659920667966351), (4243, 0.011334600252649108), (4244, 0.003375019729140888), (4245, 0.017937303262705973), (4246, 0.01359095129059936), (4247, 0.046764192504878), (4248, 0.0), (4249, 0.003039679086532476), (4250, 0.0), (4251, 0.0), (4252, 0.006744928582633504), (4253, 0.0), (4254, 0.002766176202594679), (4255, 0.0352763723710431), (4256, 0.0), (4257, 0.009963227609877319), (4258, 0.0), (4259, 0.01957410900143787), (4260, 0.0), (4261, 0.0), (4262, 0.0030585406483798886), (4263, 0.01096609319734735), (4264, 0.0), (4265, 0.0), (4266, 0.0029727390449408564), (4267, 0.043184349198088154), (4268, 0.0029341228218265963), (4269, 0.020221310801937967), (4270, 0.0), (4271, 0.0), (4272, 0.007238805465758893), (4273, 0.0030147055769517155), (4274, 0.0), (4275, 0.0), (4276, 0.0), (4277, 0.002698423432165732), (4278, 0.0), (4279, 0.0), (4280, 0.019785851369127052), (4281, 0.05808914308864781), (4282, 0.05043530614302593), (4283, 0.027694077076047437), (4284, 0.0028905949245307773), (4285, 0.0), (4286, 0.0031147426063399927), (4287, 0.01028621940258033), (4288, 0.00599453623406618), (4289, 0.0), (4290, 0.0), (4291, 0.0), (4292, 0.0), (4293, 0.0660388773536417), (4294, 0.0), (4295, 0.03506930998381498), (4296, 0.0025661096179535586), (4297, 0.0), (4298, 0.0036142208769328558), (4299, 0.05194049526190455), (4300, 0.03784474193688167), (4301, 0.0021857169869778773), (4302, 0.0), (4303, 0.007327146024497745), (4304, 0.0158159932626152), (4305, 0.0), (4306, 0.012309332961102835), (4307, 0.012808192903223523), (4308, 0.0032307293880706298), (4309, 0.028024323652084827), (4310, 0.0), (4311, 0.008089050922863357), (4312, 0.0), (4313, 0.12458735537584381), (4314, 0.07230933549581672), (4315, 0.007465542851197671), (4316, 0.0), (4317, 0.0), (4318, 0.0031130255761981206), (4319, 0.007205544438161295), (4320, 0.009931131327541488), (4321, 0.00947894511986111), (4322, 0.006418777715491075), (4323, 0.0), (4324, 0.0), (4325, 0.024194005201894714), (4326, 0.002700974377244329), (4327, 0.035732534448609514), (4328, 0.0), (4329, 0.014117294449541712), (4330, 0.0029476638646392843), (4331, 0.0), (4332, 0.0), (4333, 0.019091889160762158), (4334, 0.014835777565485413), (4335, 0.021363825044754654), (4336, 0.010215847616470819), (4337, 0.008472318474989434), (4338, 0.0), (4339, 0.0), (4340, 0.028099186998017625), (4341, 0.0), (4342, 0.017543818960001428), (4343, 0.0270381115810392), (4344, 0.018792671320297175), (4345, 0.0027944317559779764), (4346, 0.02176024763467115), (4347, 0.017020956682791778), (4348, 0.01620570159976968), (4349, 0.002896856064028967), (4350, 0.04282069130988148), (4351, 0.01570067054828163), (4352, 0.0), (4353, 0.012394244609002514), (4354, 0.02842117666246781), (4355, 0.003138504858751637), (4356, 0.04474610356800247), (4357, 0.010613142150242094), (4358, 0.012130467021626628), (4359, 0.002689629082439365), (4360, 0.0), (4361, 0.0030650291443162303), (4362, 0.01634698315516665), (4363, 0.028455074750362377), (4364, 0.0), (4365, 0.0), (4366, 0.0), (4367, 0.007394279755081272), (4368, 0.003315597968888962), (4369, 0.01145464866349534), (4370, 0.0), (4371, 0.011341587498554146), (4372, 0.01974804387418494), (4373, 0.005744025611318962), (4374, 0.0027964766463954914), (4375, 0.019044266767321943), (4376, 0.0), (4377, 0.0), (4378, 0.0), (4379, 0.11339157274567686), (4380, 0.013992037649833972), (4381, 0.050996725891430915), (4382, 0.026271007206131586), (4383, 0.03059801142752043), (4384, 0.0), (4385, 0.0066412730392423945), (4386, 0.002540815913609005), (4387, 0.002872589104223182), (4388, 0.019578427520850004), (4389, 0.0), (4390, 0.0), (4391, 0.0337919015356712), (4392, 0.0), (4393, 0.0), (4394, 0.01656666990222372), (4395, 0.002866020254326116), (4396, 0.01867850536186482), (4397, 0.0032787058347096038), (4398, 0.003404194819242832), (4399, 0.002784202295088015), (4400, 0.0037555144347749436), (4401, 0.018652809940316088), (4402, 0.0027240938148000646), (4403, 0.0037549291448490856), (4404, 0.0), (4405, 0.013338096509965015), (4406, 0.01983916393168517), (4407, 0.003853471009489257), (4408, 0.04502556207327312), (4409, 0.0029285932583356326), (4410, 0.029913972865219934), (4411, 0.020308457043543424), (4412, 0.0034510175187960055), (4413, 0.0), (4414, 0.0), (4415, 0.039973551797103185), (4416, 0.07662121198380925), (4417, 0.0), (4418, 0.022283488986184468), (4419, 0.003071230339619788), (4420, 0.018581673907900793), (4421, 0.028704649989725987), (4422, 0.024497104159450386), (4423, 0.0038201786897540963), (4424, 0.0), (4425, 0.0), (4426, 0.0), (4427, 0.02167782145551192), (4428, 0.0027973991985445726), (4429, 0.002557909592448256), (4430, 0.0030844605312355996), (4431, 0.0031505912692810964), (4432, 0.015070514975139827), (4433, 0.014344461150183903), (4434, 0.0), (4435, 0.014422636350717171), (4436, 0.008227905918749962), (4437, 0.00630594544954353), (4438, 0.00672100892617714), (4439, 0.0), (4440, 0.009758129298806513), (4441, 0.0), (4442, 0.00965731499779395), (4443, 0.0036089407142398796), (4444, 0.0038591253162019922), (4445, 0.002211606176184292), (4446, 0.039906383412123686), (4447, 0.0), (4448, 0.003076634154906705), (4449, 0.0), (4450, 0.0), (4451, 0.0), (4452, 0.0), (4453, 0.0), (4454, 0.0), (4455, 0.0), (4456, 0.0), (4457, 0.0), (4458, 0.011874572569541487), (4459, 0.09571897872783888), (4460, 0.007946487048448667), (4461, 0.0028360997989170388), (4462, 0.0), (4463, 0.024071844054537057), (4464, 0.038769904659328946), (4465, 0.031137164892771997), (4466, 0.0), (4467, 0.00788175933250753), (4468, 0.0), (4469, 0.0036808640823857187), (4470, 0.0030373168585783534), (4471, 0.00312405918961729), (4472, 0.002847777999846883), (4473, 0.0025657918836691673), (4474, 0.003101922858826787), (4475, 0.002649204949914005), (4476, 0.016131699011440997), (4477, 0.003441794969891826), (4478, 0.0), (4479, 0.021832988255972116), (4480, 0.0), (4481, 0.0), (4482, 0.0), (4483, 0.15612127377138146), (4484, 0.003927879946852403), (4485, 0.04653030021936328), (4486, 0.01973366434022635), (4487, 0.0029024537035262313), (4488, 0.0), (4489, 0.0031245303783446897), (4490, 0.0034937562178416312), (4491, 0.0), (4492, 0.017086704933899834), (4493, 0.0), (4494, 0.0033281431229154044), (4495, 0.0031555181018434976), (4496, 0.0), (4497, 0.0030843437622758915), (4498, 0.005745187593697838), (4499, 0.021700432242421346), (4500, 0.0), (4501, 0.027448657571310958), (4502, 0.019821208729183196), (4503, 0.002971147475168492), (4504, 0.018195022324849708), (4505, 0.0031183548520480726), (4506, 0.0), (4507, 0.05274965316741083), (4508, 0.0), (4509, 0.0), (4510, 0.04259239294019438), (4511, 0.02419425387368025), (4512, 0.0), (4513, 0.0), (4514, 0.008479565241064429), (4515, 0.0), (4516, 0.0033782024340868353), (4517, 0.0029638409342915926), (4518, 0.0), (4519, 0.0), (4520, 0.0029163712862836934), (4521, 0.0036771808415822223), (4522, 0.0032104996626146874), (4523, 0.031186359045221032), (4524, 0.009105523427998533), (4525, 0.0), (4526, 0.0), (4527, 0.0), (4528, 0.0031993809589537826), (4529, 0.003950012346458306), (4530, 0.016327600954739813), (4531, 0.0032648874143649444), (4532, 0.0), (4533, 0.027805499271314715), (4534, 0.0), (4535, 0.0032973921831561327), (4536, 0.009512290171270229), (4537, 0.0), (4538, 0.0), (4539, 0.0), (4540, 0.0031654981266841277), (4541, 0.02331132829534217), (4542, 0.0), (4543, 0.054165748466216766), (4544, 0.0036751118883546134), (4545, 0.003188054954306383), (4546, 0.0038080386904673575), (4547, 0.0), (4548, 0.0), (4549, 0.0), (4550, 0.0028559897099304427), (4551, 0.0032603412325320578), (4552, 0.0), (4553, 0.0), (4554, 0.026132937503609018), (4555, 0.06724664792733481), (4556, 0.0), (4557, 0.0), (4558, 0.012046742618018795), (4559, 0.0), (4560, 0.0), (4561, 0.0), (4562, 0.06243776134136201), (4563, 0.027859354149761404), (4564, 0.06149350376084618), (4565, 0.0), (4566, 0.010495709904635699), (4567, 0.02921530171952944), (4568, 0.0), (4569, 0.0), (4570, 0.0), (4571, 0.004681294565291107), (4572, 0.003615630982242095), (4573, 0.0028559198884660184), (4574, 0.0031543676183246184), (4575, 0.010534579295829474), (4576, 0.025721792864668268), (4577, 0.05163391025442909), (4578, 0.0), (4579, 0.003175442735389957), (4580, 0.007822887514020422), (4581, 0.0), (4582, 0.06242494823672667), (4583, 0.0), (4584, 0.003463476419491102), (4585, 0.0), (4586, 0.0), (4587, 0.0), (4588, 0.0), (4589, 0.0034481954097934256), (4590, 0.0026379917342167084), (4591, 0.025268204874486253), (4592, 0.0), (4593, 0.0032758828665692364), (4594, 0.011727338049144892), (4595, 0.0), (4596, 0.026385402722876927), (4597, 0.0), (4598, 0.002311239482872272), (4599, 0.008041423328254948), (4600, 0.010440052718307119), (4601, 0.0032245510748355353), (4602, 0.07100814701613603), (4603, 0.009865615426148477), (4604, 0.002961933885102592), (4605, 0.0743850721041287), (4606, 0.0037296550454349623), (4607, 0.004277952980745827), (4608, 0.0026143116007303316), (4609, 0.013843498934100942), (4610, 0.008876389008536413), (4611, 0.0039267951969916195), (4612, 0.003667517831071965), (4613, 0.0), (4614, 0.0028139736909226698), (4615, 0.0), (4616, 0.01542208917151295), (4617, 0.004029230314397817), (4618, 0.0), (4619, 0.003250446797237369), (4620, 0.0026917365107430894), (4621, 0.0), (4622, 0.0), (4623, 0.0), (4624, 0.019768508339679577), (4625, 0.010337878589393976), (4626, 0.002381833739939301), (4627, 0.0025278781693781832), (4628, 0.007235813601161631), (4629, 0.028341953440837175), (4630, 0.0), (4631, 0.0), (4632, 0.011738055690097423), (4633, 0.031928998653737696), (4634, 0.002748962861764203), (4635, 0.0), (4636, 0.0024843772684398067), (4637, 0.0034957494964281376), (4638, 0.013093884112306355), (4639, 0.0), (4640, 0.01672588269721142), (4641, 0.0028779083606611704), (4642, 0.01877108616206414), (4643, 0.003030370489302825), (4644, 0.0), (4645, 0.0), (4646, 0.0), (4647, 0.012432660184915007), (4648, 0.0), (4649, 0.03195789435255313), (4650, 0.003395107259708242), (4651, 0.0), (4652, 0.01344248342190409), (4653, 0.0), (4654, 0.0), (4655, 0.0), (4656, 0.0), (4657, 0.010708151183995967), (4658, 0.03345501248744406), (4659, 0.0), (4660, 0.003632802871642993), (4661, 0.00261139682223647), (4662, 0.0), (4663, 0.0), (4664, 0.0), (4665, 0.0), (4666, 0.0), (4667, 0.0), (4668, 0.0029028198595550626), (4669, 0.06279950514416287), (4670, 0.0028220016383213396), (4671, 0.0), (4672, 0.0), (4673, 0.002853358939145584), (4674, 0.002366152369646413), (4675, 0.01136524453198402), (4676, 0.01726500175210367), (4677, 0.002977633830075799), (4678, 0.0), (4679, 0.04708335562244531), (4680, 0.0031498695204739365), (4681, 0.0), (4682, 0.022838048110347165), (4683, 0.0), (4684, 0.0), (4685, 0.010383615333023084), (4686, 0.021834488387134088), (4687, 0.017230855593905685), (4688, 0.0069608733937956396), (4689, 0.0), (4690, 0.0), (4691, 0.0), (4692, 0.003677436008010922), (4693, 0.0028616809279366873), (4694, 0.003461489420035464), (4695, 0.00804149619731797), (4696, 0.0038595293776843317), (4697, 0.0), (4698, 0.0), (4699, 0.003323942417640192), (4700, 0.0), (4701, 0.003511172378118638), (4702, 0.007118689543773495), (4703, 0.014736010921796069), (4704, 0.004024625756888918), (4705, 0.004212046234849617), (4706, 0.02094438750350723), (4707, 0.0), (4708, 0.0), (4709, 0.0), (4710, 0.003723839214448537), (4711, 0.0), (4712, 0.008969123058757756), (4713, 0.011525693651691198), (4714, 0.0), (4715, 0.0029536212873782055), (4716, 0.058282926657617806), (4717, 0.0034786123540331473), (4718, 0.04214564753028899), (4719, 0.019283369620055307), (4720, 0.0), (4721, 0.0), (4722, 0.003193798594374157), (4723, 0.0036020037658738686), (4724, 0.0036315781327230985), (4725, 0.0), (4726, 0.006223213758785087), (4727, 0.02602134752425858), (4728, 0.0), (4729, 0.0028298089117203807), (4730, 0.018947839479648804), (4731, 0.0033355165592885688), (4732, 0.0032132450298498934), (4733, 0.022669075904801002), (4734, 0.0031837400070715035), (4735, 0.003486120124534504), (4736, 0.0), (4737, 0.0), (4738, 0.014634083615249555), (4739, 0.021567397387110762), (4740, 0.0), (4741, 0.029361676159864243), (4742, 0.0), (4743, 0.002874491924444937), (4744, 0.00238820434506145), (4745, 0.0), (4746, 0.0), (4747, 0.0), (4748, 0.009159833048103205), (4749, 0.003953665086954098), (4750, 0.0), (4751, 0.0), (4752, 0.002110254580253415), (4753, 0.0033592794838268078), (4754, 0.0), (4755, 0.0), (4756, 0.003057859265597644), (4757, 0.018081487818832065), (4758, 0.0), (4759, 0.0)]\n"
          ]
        }
      ]
    },
    {
      "cell_type": "code",
      "source": [
        "len(Reccomendation_score)"
      ],
      "metadata": {
        "colab": {
          "base_uri": "https://localhost:8080/"
        },
        "id": "b-kAtBt63Adw",
        "outputId": "6eb69f42-5c7b-40de-c912-96722bb34496"
      },
      "execution_count": 33,
      "outputs": [
        {
          "output_type": "execute_result",
          "data": {
            "text/plain": [
              "4760"
            ]
          },
          "metadata": {},
          "execution_count": 33
        }
      ]
    },
    {
      "cell_type": "code",
      "source": [
        "Sorted_similar_movies = sorted(Reccomendation_score, key = lambda x:x[1], reverse = True)\n",
        "print(Sorted_similar_movies)"
      ],
      "metadata": {
        "colab": {
          "base_uri": "https://localhost:8080/"
        },
        "id": "XQ3sc7Yt3ZrM",
        "outputId": "4fdbdbc5-9c14-49fb-bc14-8f3908c058ee"
      },
      "execution_count": 34,
      "outputs": [
        {
          "output_type": "stream",
          "name": "stdout",
          "text": [
            "[(2144, 1.0000000000000002), (2162, 0.2318896109653405), (193, 0.2124154249103812), (3514, 0.17913265630759576), (932, 0.16410832029459974), (2536, 0.16180440967535192), (2726, 0.15778407469769531), (4483, 0.15612127377138146), (136, 0.15172679715224294), (2340, 0.1517158397260971), (235, 0.14148024675639542), (2143, 0.14125843944710537), (1494, 0.13849994148582254), (526, 0.1376205915716469), (4101, 0.13157274078858835), (935, 0.13073829033338172), (3153, 0.12907491614217287), (1361, 0.1258211677046745), (4023, 0.12535971774892238), (4313, 0.12458735537584381), (3829, 0.12361067206054417), (1349, 0.1233123466486002), (2293, 0.11929330165845577), (1594, 0.11712253804512554), (21, 0.11703493009110601), (147, 0.1163132918308693), (1709, 0.11611856455722458), (3150, 0.11450511557221271), (1224, 0.11424233062570269), (4379, 0.11339157274567686), (384, 0.1130088780773881), (1334, 0.11234733750442832), (2558, 0.10945568708546134), (4088, 0.1091361265095532), (931, 0.1064217317368632), (1409, 0.10425069373076162), (756, 0.10353264354846389), (489, 0.10270132497078494), (3452, 0.10205175480021376), (4015, 0.10162013143298351), (3466, 0.10025547219944572), (1808, 0.09815042712879353), (1305, 0.09627196803519028), (4459, 0.09571897872783888), (3163, 0.09557700386972631), (3184, 0.09434510462356413), (2915, 0.09415346972388125), (3882, 0.09268306448854857), (1718, 0.09248217653989754), (1192, 0.0915710104660341), (3154, 0.09133640347277569), (1458, 0.0901347682041518), (1688, 0.08972938784085446), (3094, 0.087596984580436), (1951, 0.0869414326010266), (2970, 0.08687436636420094), (4105, 0.08417599185432492), (231, 0.08409657186166733), (3095, 0.08397624707204604), (3903, 0.08329894198259888), (3899, 0.08243354705002989), (2553, 0.08172929941964367), (3119, 0.08113394635438294), (2911, 0.08076167050331415), (3021, 0.07956196162210677), (1778, 0.07928138475919091), (2460, 0.07897314983600033), (876, 0.07888559700342633), (3599, 0.07881350559164697), (2650, 0.07805786486172295), (3505, 0.07791118671756372), (2555, 0.07682716014407318), (4187, 0.07678253991697412), (470, 0.07670047849864646), (473, 0.07666292618327279), (4416, 0.07662121198380925), (2209, 0.07647222439902178), (698, 0.07474470200323158), (614, 0.07468508954542968), (4605, 0.0743850721041287), (3540, 0.07358745448064301), (281, 0.07348373876406744), (1743, 0.07347277704303913), (2889, 0.07324384048245364), (3906, 0.07287657476963813), (1798, 0.07283613292615261), (4314, 0.07230933549581672), (215, 0.07216227286473766), (3518, 0.07116398242833961), (4602, 0.07100814701613603), (4156, 0.07092726430349881), (4240, 0.07088817012965076), (3939, 0.07086456539464779), (897, 0.0703450155091083), (4143, 0.07015720447736434), (2278, 0.07001702968822676), (297, 0.07000053156292302), (1249, 0.06952774139223528), (747, 0.0692880224486539), (1359, 0.06918653300560074), (3713, 0.06897822822234081), (1252, 0.06847381249837897), (2629, 0.06835574533454628), (1659, 0.06818712607798734), (3351, 0.06793673091613313), (1803, 0.06765156441748801), (777, 0.06760432047527934), (4555, 0.06724664792733481), (1935, 0.0664711655105954), (2329, 0.0663482170310492), (1911, 0.06632236443031667), (4293, 0.0660388773536417), (1872, 0.0658367151760412), (3377, 0.06580467441126753), (3552, 0.06578441262169543), (1450, 0.06556637983513149), (1021, 0.06543923280299686), (2059, 0.06540254500634507), (4056, 0.06537384581424928), (2509, 0.06520513930610913), (3774, 0.06518456449169156), (3537, 0.06473832247441476), (3008, 0.06471842347629396), (1877, 0.06422430989001446), (3228, 0.0641673066198785), (2211, 0.06410326356489919), (1807, 0.06404187138659762), (2138, 0.06391848927188515), (1870, 0.06390140654035752), (2600, 0.06340976514390335), (1683, 0.06332914206452826), (2910, 0.0632198389733566), (3412, 0.06301741263354012), (620, 0.06280280736619545), (4669, 0.06279950514416287), (1061, 0.06279627238834244), (4120, 0.06268338032004477), (3647, 0.06257602156532052), (4106, 0.06251283928982936), (2406, 0.06249715929252263), (4562, 0.06243776134136201), (4582, 0.06242494823672667), (2917, 0.06228816922257104), (3282, 0.061546605191037926), (4564, 0.06149350376084618), (2884, 0.06142032693624276), (1912, 0.06128303782249458), (2678, 0.06120086995513982), (3600, 0.060995337215949644), (2431, 0.060967568738740846), (1942, 0.06092674591382405), (2520, 0.060791620480589934), (2492, 0.06059347917751297), (2730, 0.06058405299714746), (3108, 0.06027054132217693), (653, 0.06013130385443403), (1933, 0.060111794038919836), (2459, 0.06005912801739397), (3506, 0.059807910153186386), (3325, 0.05974128740179124), (2244, 0.059420480453517256), (2390, 0.059413462881531744), (3610, 0.05936109597414706), (2658, 0.05927715772039792), (2702, 0.05926780457550065), (41, 0.05920364445217925), (228, 0.05911029297367982), (3348, 0.059091161118875406), (1033, 0.05891833126778519), (3654, 0.0588153601742635), (2980, 0.05880154473938805), (343, 0.058753915271010315), (3378, 0.0586809934638573), (1294, 0.058515445112997326), (3346, 0.05848685157947999), (2985, 0.05843024996748457), (3849, 0.05840823814212117), (62, 0.05833750092832793), (4716, 0.058282926657617806), (1538, 0.05823608947781011), (3624, 0.05817451192992414), (4281, 0.05808914308864781), (3516, 0.0578654626561443), (1157, 0.05783332724621814), (3858, 0.05763469199836297), (1608, 0.05745678178230517), (847, 0.05744200295663285), (2904, 0.05733500239820598), (1910, 0.05714498060423481), (2123, 0.05710794377068965), (1867, 0.0565766735171278), (3066, 0.05656005545052919), (3084, 0.05643105423969036), (2902, 0.0561360826289733), (2349, 0.056003776166913335), (4141, 0.055964641641016194), (2218, 0.05587575264655354), (1169, 0.0558374491236226), (4227, 0.0554833194869964), (1797, 0.05544700330812869), (3453, 0.055281550016164145), (2639, 0.05517473561376009), (1497, 0.05491061081272238), (2775, 0.05491056124404204), (1367, 0.05456494144723082), (752, 0.05437543412516907), (1934, 0.05432094710951653), (4543, 0.054165748466216766), (3586, 0.054089860160302115), (2963, 0.05403649601755081), (1954, 0.05397831294719064), (2999, 0.05388959500692469), (818, 0.053849138873681715), (1839, 0.0537027970355343), (2419, 0.05359375019044216), (3177, 0.053441157793486294), (881, 0.053359726315906054), (865, 0.05333873566615757), (2388, 0.05327521249948528), (3101, 0.05315598285386697), (3541, 0.05315182466693921), (1330, 0.05282273439759092), (4507, 0.05274965316741083), (1233, 0.05266106037779736), (328, 0.0525262181445251), (298, 0.052502266642924865), (1335, 0.05242220731165167), (346, 0.052416252239169264), (119, 0.05238287594167663), (2276, 0.05223290889750248), (146, 0.05218775424892993), (198, 0.05207795246202783), (4299, 0.05194049526190455), (13, 0.05184417055815531), (4577, 0.05163391025442909), (2254, 0.05163053277366801), (118, 0.051570202899412304), (2149, 0.051504969297238266), (3477, 0.05142029683717499), (3015, 0.051255297494703464), (3812, 0.051155985648859835), (3933, 0.05104915567576916), (4381, 0.050996725891430915), (2481, 0.05095307184105862), (2043, 0.05092377895331266), (2190, 0.05086268204157998), (1930, 0.050807990233102555), (2163, 0.0506426321414706), (1902, 0.050572419524682756), (280, 0.05057227525106088), (4282, 0.05043530614302593), (1742, 0.050308089976177056), (70, 0.05027748795963746), (3252, 0.05026355386664139), (1750, 0.050256819361903966), (883, 0.05024922669605079), (3855, 0.05021589398215219), (600, 0.04994307913339279), (2857, 0.049928402123342354), (1622, 0.04970851710039002), (2116, 0.0496597759602079), (3800, 0.04947715497252474), (2966, 0.049170549549871496), (2393, 0.04914050631625287), (2402, 0.049081931227893956), (4234, 0.0490304129046345), (536, 0.049029351489023015), (665, 0.04901922286213392), (3286, 0.048796603502770416), (3257, 0.048737745663160796), (3034, 0.048696426394239045), (3420, 0.048468391496737644), (1625, 0.048362634881779346), (1490, 0.04835476067800328), (2434, 0.04835475384700527), (3217, 0.04832697224189398), (1617, 0.04817217473484972), (2417, 0.048084381988611515), (923, 0.048071037782465804), (2292, 0.04805913455257074), (2246, 0.04797606857695224), (3501, 0.04796472653925486), (725, 0.047838005581800104), (953, 0.0476499965903635), (1552, 0.04761799494209225), (2862, 0.04754087471276542), (3672, 0.04751401890064086), (3226, 0.047498803455977796), (3240, 0.04749849372633548), (3067, 0.047496111071902006), (144, 0.04720419858746181), (4679, 0.04708335562244531), (3359, 0.04707209652720593), (1766, 0.047060945464505254), (1438, 0.047048747900072005), (2320, 0.04702163748322773), (2696, 0.047019143899535196), (1112, 0.04699784877194757), (3425, 0.04686680811205417), (2787, 0.04682877258026548), (199, 0.04680957624612303), (788, 0.04680741295090071), (3408, 0.046774977632616115), (4247, 0.046764192504878), (3543, 0.0467214549676247), (2816, 0.04669828742113713), (4485, 0.04653030021936328), (1654, 0.04647912893749599), (1491, 0.04647468482860248), (1656, 0.04642970689230343), (4137, 0.04634622262931634), (18, 0.04622243105232566), (2791, 0.04609385476861363), (1574, 0.04600916963951737), (3701, 0.04597516366173583), (1232, 0.04594448752173412), (2537, 0.045869773041547136), (2893, 0.04586880257561911), (1337, 0.0457652795267185), (471, 0.04574657328714943), (1048, 0.04573217915501531), (3157, 0.045710714600648905), (3013, 0.04562852046655712), (3212, 0.04559139183046905), (648, 0.04550630366093651), (3088, 0.045341520697037854), (3561, 0.045327988773999475), (3042, 0.04530575663508544), (898, 0.04527638064230785), (3875, 0.04524370536663462), (226, 0.045238135848548855), (4408, 0.04502556207327312), (973, 0.044913038218649975), (2108, 0.04489412387669777), (3410, 0.04485763898370787), (4356, 0.04474610356800247), (2675, 0.044706300536058646), (2890, 0.04463245108447336), (1329, 0.04462651422871459), (926, 0.04456718430050606), (3111, 0.044562658748550546), (1725, 0.044363159008807024), (3237, 0.04434893559645928), (1405, 0.04432173540955205), (2446, 0.044312447913653366), (2318, 0.04425441491049439), (2734, 0.04422974976137037), (3422, 0.04419465607196283), (618, 0.04414873925576275), (2309, 0.04413943950559133), (1417, 0.04413804211587064), (3299, 0.04401102858128741), (969, 0.04396540518750217), (2659, 0.043921363930800206), (2441, 0.043887317705311554), (3694, 0.043827325889809185), (759, 0.04380603709774466), (1114, 0.04380472333040296), (2628, 0.04377255119669352), (1072, 0.043771082145256206), (1779, 0.0437235365868688), (1447, 0.04363627750911538), (2301, 0.0434719438150276), (3264, 0.043363783668774455), (3276, 0.04334278261668863), (234, 0.043256377325999566), (4267, 0.043184349198088154), (1456, 0.043136843653175036), (2607, 0.04309472901539597), (2645, 0.043032517399469554), (3678, 0.043030173839793684), (760, 0.04302144892183053), (1871, 0.042967279489022195), (2821, 0.0429398386990594), (4350, 0.04282069130988148), (2286, 0.0427317822254494), (1893, 0.04266154699140677), (3388, 0.04261634956069675), (4089, 0.04260423149554573), (4510, 0.04259239294019438), (2186, 0.0425073561813535), (3848, 0.042421837712708806), (2470, 0.04241120629353689), (1557, 0.042383731334205955), (3767, 0.04237589563729605), (108, 0.04236919302374638), (269, 0.04236566484141893), (3266, 0.042179655838694485), (3239, 0.042156981118176395), (4718, 0.04214564753028899), (3354, 0.042098277923561106), (3057, 0.04206983832984744), (3839, 0.042067164342829685), (475, 0.04206242709149602), (2977, 0.042049636048839246), (824, 0.042006208209688374), (1121, 0.04200545723075187), (3593, 0.04198203133816707), (127, 0.04194130052489067), (2552, 0.04192785297904362), (691, 0.041884691035373574), (3249, 0.04182074784905951), (3687, 0.0417638191372235), (3301, 0.04166490874150198), (3357, 0.04156318479263274), (3371, 0.041542906856048854), (3445, 0.04147436964774496), (861, 0.04143186127766886), (1741, 0.04139535030999718), (949, 0.04139187316108942), (587, 0.04132830297135479), (154, 0.041309579544681854), (895, 0.041264034007169395), (3894, 0.04119748987832496), (3521, 0.04119346014079359), (3362, 0.04111407814421397), (1762, 0.041047264298729166), (579, 0.04100207458297837), (1905, 0.04096938331579856), (1767, 0.04096751367491624), (3152, 0.04094967941355117), (173, 0.04087551787051351), (3031, 0.040845727689877986), (3123, 0.04078558354215863), (1006, 0.040746544495671756), (3544, 0.04070204807109788), (3951, 0.04060426243688171), (3020, 0.040592839737768824), (1806, 0.04058476993183249), (938, 0.0405385258480833), (2776, 0.040473057238360595), (846, 0.04046218545148345), (3206, 0.040456015816155676), (684, 0.04041629402287436), (2475, 0.040412499667130175), (2195, 0.04034127954101324), (158, 0.040308043220439245), (3852, 0.04030236182889063), (3376, 0.04029389067761169), (952, 0.04026157718377539), (2035, 0.04024628840409912), (3745, 0.04020610141273741), (1119, 0.04015298058023164), (3389, 0.040103452283539925), (1043, 0.04006244909287), (2698, 0.0400125615354353), (2817, 0.0399885441695804), (2942, 0.03998394305313488), (4155, 0.03997596188727905), (4415, 0.039973551797103185), (2405, 0.039919143477091884), (4446, 0.039906383412123686), (1963, 0.03989024090169585), (1493, 0.039860221342961), (182, 0.039839666561023536), (585, 0.039798622180532685), (142, 0.03977009473693009), (3497, 0.03974709268136821), (2945, 0.03959338844180829), (1398, 0.039566103010877644), (3220, 0.03953118363070861), (3524, 0.039406053402150164), (2613, 0.03939221221543601), (462, 0.03938417075651458), (867, 0.03931653061800273), (3622, 0.03927365837489542), (1655, 0.03924514796612016), (2941, 0.039184891826451525), (692, 0.038999321634729245), (1845, 0.03890972564821208), (1947, 0.03881652032664833), (3483, 0.03881577964148699), (4464, 0.038769904659328946), (3419, 0.03858797728817498), (407, 0.038540354521470456), (520, 0.03853123938048822), (606, 0.03848643734540361), (508, 0.038447455378229196), (2478, 0.03838530229604895), (2649, 0.03837662875210647), (488, 0.038314175755913116), (3639, 0.03826826833619532), (3646, 0.038246173419236106), (706, 0.038238689324767115), (1002, 0.03822683890472743), (4197, 0.03818268434732709), (695, 0.038105543977428255), (141, 0.03807237671180157), (924, 0.038039470044276796), (507, 0.038025776809260114), (2939, 0.03797638393208719), (3689, 0.03791975847579417), (77, 0.03787967063811141), (4300, 0.03784474193688167), (0, 0.03770775963452892), (3329, 0.03754449488632949), (1629, 0.03751485972166706), (1499, 0.03743082676664996), (3414, 0.0374297716814042), (29, 0.03739939295249177), (60, 0.03735734678229181), (2585, 0.037223216602531285), (3873, 0.03716611128705073), (3487, 0.03709019206089763), (2844, 0.03708407673283417), (2864, 0.03694851377609337), (2115, 0.03690269788940788), (2996, 0.036797859355315946), (2973, 0.036781780942181486), (1838, 0.03675233346821673), (2727, 0.03667419310539577), (742, 0.036661255475688215), (253, 0.0366570069925272), (2051, 0.036655783630744204), (1220, 0.03646638774146635), (737, 0.03638905835734778), (2882, 0.03633530111294489), (2740, 0.036325883602589995), (2507, 0.036323156504175926), (1618, 0.03631262203651185), (275, 0.03629794760397052), (2467, 0.03625593229991867), (3732, 0.03624031177659581), (3890, 0.03623560386880413), (1368, 0.0362309029144365), (3896, 0.03620938952272218), (3269, 0.036169722815147506), (2732, 0.03610299171487108), (2203, 0.03609134503782244), (164, 0.03605431533210702), (212, 0.03603056121296541), (1442, 0.03602021571438142), (2925, 0.03600641296772358), (3098, 0.035897640649077286), (3324, 0.035834600775343395), (711, 0.035815909255201964), (628, 0.03574266052051239), (4327, 0.035732534448609514), (826, 0.035660838595281824), (465, 0.035574196679506384), (1339, 0.03554138022746786), (734, 0.03548554118672781), (3577, 0.03548399130072465), (2448, 0.035481323381067076), (3253, 0.035442143328980824), (3421, 0.035424222947424575), (3547, 0.035413606015173085), (3643, 0.03535205287285446), (3667, 0.03533171023961139), (4255, 0.0352763723710431), (1372, 0.035251046008311), (2863, 0.03524109513477534), (2175, 0.03520249110448141), (2594, 0.03512623259105791), (3372, 0.03511732885152746), (3242, 0.03510590056589188), (1299, 0.035095342471477296), (4295, 0.03506930998381498), (2870, 0.035059627700867096), (1787, 0.03499390094597367), (1897, 0.034980797235713006), (2926, 0.0349694723879104), (3251, 0.03492496141088857), (2305, 0.034873619150341914), (2201, 0.03484180039404066), (524, 0.0348395503876972), (2486, 0.034813242234661534), (3224, 0.034812596723487625), (26, 0.03468710000253965), (1765, 0.03458322721165605), (829, 0.03454794500362756), (1616, 0.03454404147473225), (582, 0.034537604899992615), (169, 0.0344988530139505), (2169, 0.034399856502037245), (2466, 0.03433985829166708), (3110, 0.03430116670737897), (282, 0.03428232374738906), (963, 0.034268712293622106), (3289, 0.03426768123638242), (44, 0.03426144611690885), (551, 0.034150195948426054), (3046, 0.03413061583735032), (2589, 0.034111776434357116), (2221, 0.03410400728973733), (3283, 0.034058603558950004), (1836, 0.033854958824321255), (1707, 0.03380900926324379), (748, 0.03379979193150369), (4391, 0.0337919015356712), (2396, 0.033741436941285126), (1187, 0.033734531803517896), (1580, 0.03373089122003218), (2636, 0.033668485790778864), (1475, 0.03363343512854842), (2533, 0.03363059441496253), (1366, 0.03361966503052852), (2951, 0.033591945620898275), (944, 0.03357835407756562), (1202, 0.03351436037507831), (3508, 0.03347668207591869), (4658, 0.03345501248744406), (761, 0.03344250103013493), (2387, 0.03336482171514228), (2900, 0.0333312038219196), (1345, 0.03332285145461716), (4054, 0.03326435957674266), (4210, 0.0332564830728623), (355, 0.03323290901482231), (113, 0.033224564203408205), (472, 0.03321469711586332), (2512, 0.033197598363659916), (1860, 0.03317957951085935), (4111, 0.03315082923326233), (2461, 0.03313937062413519), (3784, 0.033122719343071254), (3866, 0.03309674972518856), (2860, 0.03308207497112242), (1696, 0.03306045965762974), (2173, 0.032926402490208076), (2411, 0.03287204266961108), (279, 0.03287184644201378), (3510, 0.03287170836164325), (387, 0.03278089123135835), (2029, 0.03264488278862101), (1445, 0.03263316662214424), (1272, 0.03254264114466654), (2587, 0.0325336219655431), (999, 0.03252285779125278), (2401, 0.03249681634787759), (521, 0.032460403316686974), (3370, 0.03245676422520917), (1878, 0.032452589660783654), (196, 0.03240210792177019), (697, 0.03239771537621413), (2912, 0.03237731325416886), (2147, 0.03236472697725524), (402, 0.03228357625007979), (1928, 0.032270184667350876), (2944, 0.03225955761481754), (3660, 0.032244976403525576), (1531, 0.03221716239882823), (1514, 0.03220522268498259), (3900, 0.03215326075208446), (1977, 0.03208885328499456), (3763, 0.03201888407770502), (1077, 0.0320129993242776), (3029, 0.031966333025479444), (2141, 0.031960116776883436), (4649, 0.03195789435255313), (4633, 0.031928998653737696), (3415, 0.03191143548958299), (441, 0.03189551918433191), (464, 0.031890244324875236), (763, 0.031828772964163754), (3147, 0.03181875469546495), (2644, 0.03181141403256312), (2513, 0.03181093689808248), (447, 0.0317411671096656), (2052, 0.03172399925804725), (4007, 0.03171797158629791), (3674, 0.03169795129235368), (3287, 0.03161534473574919), (2192, 0.03159239677041124), (1032, 0.03158197505624074), (939, 0.03153872555445877), (1036, 0.03153655764425833), (3063, 0.03150945360223571), (2348, 0.0314954240859266), (2663, 0.031448308354230646), (3728, 0.031366363063612374), (3230, 0.03136574941505964), (1275, 0.03134848683973487), (2498, 0.03133529321010202), (4523, 0.031186359045221032), (4465, 0.031137164892771997), (1176, 0.031076264644496983), (3606, 0.031040760528667936), (85, 0.0310372400587104), (3271, 0.031023911015525894), (247, 0.031018180924074976), (1100, 0.030968952440804658), (710, 0.030945539365533334), (1518, 0.030923482578808385), (1448, 0.03089652029267314), (3173, 0.03089472442881514), (2172, 0.03089046766019576), (2735, 0.03087285183146348), (1126, 0.03084117850091624), (2845, 0.030776296485595277), (814, 0.03075227092782052), (1506, 0.0307487042468446), (172, 0.030665168242157252), (4383, 0.03059801142752043), (1973, 0.030578067623528854), (2954, 0.030531308122956666), (2403, 0.030522378992256155), (2582, 0.030504767062566857), (755, 0.030487315187738222), (538, 0.03047749390274996), (930, 0.030475876336385335), (1254, 0.030351776439518446), (3648, 0.030333534180814102), (3971, 0.03028290993185523), (2958, 0.030282587191818547), (2550, 0.030212553873751956), (3857, 0.030175953197953277), (175, 0.03017350307315436), (2968, 0.03015025591182586), (740, 0.030084305430800887), (2248, 0.030061054258877836), (2744, 0.03005010929440686), (838, 0.029999924243417755), (2176, 0.029991852393808215), (2936, 0.029978222482825348), (1861, 0.029949196050916067), (4410, 0.029913972865219934), (1550, 0.029838514148852635), (1318, 0.029820957531888445), (509, 0.029771100630609358), (2568, 0.029750704360708702), (844, 0.029687503169975784), (334, 0.02950292001906437), (2894, 0.02946482615485715), (3801, 0.029460690083752836), (1041, 0.02944726554659447), (3, 0.0294437475960988), (4009, 0.02943153339145197), (3709, 0.029400404894078393), (3867, 0.029379815501960706), (1117, 0.02936552884919611), (1715, 0.02936501228534865), (4741, 0.029361676159864243), (4203, 0.02927128491307904), (487, 0.0292623168257526), (2193, 0.02925864109029094), (1769, 0.02925319320391738), (4567, 0.02921530171952944), (3792, 0.02919927542190093), (791, 0.02918639347229276), (2000, 0.02918620702703594), (2129, 0.029178936038475448), (157, 0.02911295649298965), (4077, 0.02907424243605108), (1690, 0.029067704683204108), (609, 0.029059725065938298), (813, 0.02904716093383039), (300, 0.029006557506026643), (808, 0.028988874858691886), (2631, 0.02895629988811162), (1610, 0.028917201418302528), (324, 0.028914229947601573), (3512, 0.028907916972155452), (2342, 0.028874675941300543), (1612, 0.02887285186757526), (4051, 0.028853354333455872), (578, 0.028850155427795586), (3360, 0.028849982478907216), (605, 0.02883727897713246), (2792, 0.02878358772712021), (3870, 0.028747516262345767), (1534, 0.028747117839769448), (3569, 0.02874613039458831), (2160, 0.02874408038588893), (4421, 0.028704649989725987), (1788, 0.028700540351058654), (1094, 0.028690495828802186), (2311, 0.02868285459101018), (2122, 0.028645225154180838), (2027, 0.028566705669518976), (857, 0.028559375724850584), (262, 0.028541367829271906), (2101, 0.02850563866137459), (1412, 0.02849430717290912), (3413, 0.02847302261352109), (4363, 0.028455074750362377), (4354, 0.02842117666246781), (4629, 0.028341953440837175), (2272, 0.02832202626568736), (730, 0.028313910783636594), (1411, 0.02828749483143004), (2560, 0.0282711183028308), (88, 0.028228022274768675), (3778, 0.02822049268904269), (2076, 0.028201188310814477), (3457, 0.02813060393262276), (1310, 0.028129486910342442), (1049, 0.028109163834961003), (4340, 0.028099186998017625), (2809, 0.028052871452439253), (4309, 0.028024323652084827), (1278, 0.028004236329725762), (317, 0.027981126668800312), (2372, 0.027973884382124368), (2124, 0.027954219656305245), (889, 0.027929992818554246), (2170, 0.02789294837441779), (2422, 0.02787134737402474), (2835, 0.02786480250800813), (4563, 0.027859354149761404), (4533, 0.027805499271314715), (3288, 0.027777216181268247), (1441, 0.02777679794929719), (2749, 0.027750292584437918), (705, 0.027741546743164668), (4283, 0.027694077076047437), (4109, 0.02758955273148994), (1248, 0.02758669466745787), (1319, 0.02757197879850217), (454, 0.027522527050523295), (342, 0.027509021377490665), (4150, 0.027496018736122806), (1138, 0.02748286313915537), (4501, 0.027448657571310958), (1503, 0.027435895106407697), (978, 0.027429402199179526), (1903, 0.027424414769423446), (2514, 0.027394132529949655), (188, 0.027318469213673282), (221, 0.027299466737543573), (1223, 0.02727361059545905), (547, 0.02720110792178041), (942, 0.02718359652243381), (2833, 0.027178931080956717), (130, 0.02717773891997652), (2020, 0.027170266598022075), (2603, 0.02709686831081154), (474, 0.02707419566626168), (1694, 0.027072284754048385), (4343, 0.0270381115810392), (934, 0.02699033315403842), (3845, 0.026975750015812282), (2068, 0.02696283950648081), (105, 0.026944818771434335), (1087, 0.026923329359895935), (1508, 0.026899285718716685), (353, 0.026896161426641294), (998, 0.026873206187609286), (3431, 0.026851331208040834), (2906, 0.026844404824182447), (2055, 0.02684068349047159), (3148, 0.026839610536600948), (2908, 0.026834484926184565), (1833, 0.026832410315718105), (249, 0.0268081923851653), (2565, 0.026787978317157672), (1635, 0.026787331388742355), (3390, 0.026776352988537797), (864, 0.02675953811059954), (3915, 0.026755117423606603), (2511, 0.026707748777836087), (3538, 0.0266619806210242), (3557, 0.026642178797940078), (4062, 0.026627758672768308), (3074, 0.026626224582974672), (2465, 0.026621814746384666), (2226, 0.026566033875921557), (3832, 0.026493821469641153), (3526, 0.026467337110428923), (2722, 0.026464995699195075), (1239, 0.026426539225079065), (4596, 0.026385402722876927), (2620, 0.0263579353881158), (1644, 0.02635666182743252), (1950, 0.02635282688241663), (4138, 0.02627574426648754), (4382, 0.026271007206131586), (3235, 0.026259191304139354), (1067, 0.026226534936454295), (3536, 0.026201740443166525), (4205, 0.026199797689751413), (623, 0.026161684137112146), (612, 0.026152989701707076), (1107, 0.02614738197723724), (4554, 0.026132937503609018), (2156, 0.026105137184009367), (4727, 0.02602134752425858), (2766, 0.02600443981476462), (3614, 0.025988868173522597), (1919, 0.02597988194605508), (2878, 0.02596594505725128), (1201, 0.02595340690607668), (3598, 0.025951963620627263), (762, 0.025948556281615416), (311, 0.02592649394079149), (1075, 0.025911362030392168), (181, 0.025910602832485842), (2204, 0.02584785178263367), (3168, 0.025804616517757784), (843, 0.025769541278836367), (1756, 0.025757379653664446), (4080, 0.02574449416555222), (4576, 0.025721792864668268), (1353, 0.02568312046788152), (828, 0.02566467933650045), (1314, 0.025659513262576875), (2046, 0.025648170075723065), (641, 0.025588675416195326), (3213, 0.025559518427152192), (2653, 0.02555510482143667), (125, 0.02553665505249296), (774, 0.025522894577992835), (783, 0.025522687252509578), (1146, 0.025513132862536703), (3941, 0.025459730253729756), (2661, 0.025447807357040567), (537, 0.02539112351223018), (1286, 0.025354200782355674), (2352, 0.025343947104224288), (2225, 0.025300037981350866), (340, 0.025288283627281194), (496, 0.0252836465336491), (2807, 0.02527791536238463), (4591, 0.025268204874486253), (1403, 0.02523713698141211), (155, 0.02515830423434632), (1678, 0.025108175916632197), (2270, 0.025082658803434174), (2313, 0.025008678830910618), (1664, 0.0249904665950958), (1476, 0.024956048818359333), (3511, 0.024953175524535666), (309, 0.02492357745644688), (3551, 0.024861186735595543), (307, 0.024840301383242815), (1182, 0.024818439825088936), (1723, 0.024770506287368356), (3579, 0.024749448071958877), (3490, 0.024743774042707837), (870, 0.024692313974470692), (2715, 0.02469187245818783), (1364, 0.024614678762380826), (2009, 0.024587148074522558), (3043, 0.024567752867887198), (2969, 0.024562195132549605), (358, 0.024525389656854454), (2109, 0.024520617771635125), (386, 0.02450792932109006), (4422, 0.024497104159450386), (4149, 0.02448892497902966), (4060, 0.024472833322419042), (2443, 0.024460519478448857), (3546, 0.024450938415943722), (3656, 0.024406025108337476), (490, 0.024391872194368638), (1768, 0.024372485039469625), (3809, 0.02428782685418379), (880, 0.024278796914915607), (715, 0.024259705825470754), (1076, 0.02425000299082307), (1909, 0.024249541353818894), (1780, 0.02424764619181574), (4511, 0.02419425387368025), (4325, 0.024194005201894714), (689, 0.024191920872099287), (3238, 0.024185079477989993), (444, 0.02418095806747692), (1561, 0.02418074486685893), (2102, 0.02408099444107678), (4463, 0.024071844054537057), (232, 0.024016781311092264), (271, 0.024015061694120918), (1408, 0.02399033064329204), (1606, 0.023969719446074258), (2572, 0.023920956679157168), (336, 0.023889871871623662), (1245, 0.02387717188780145), (53, 0.023838642994317795), (776, 0.02380731361173525), (3504, 0.0238003548492839), (3128, 0.023764085219884067), (1323, 0.023732757778972362), (1682, 0.023664099979804516), (2131, 0.02366297332456388), (1711, 0.023640848029200186), (2519, 0.02363814584867901), (292, 0.02360082012251828), (643, 0.02357190576580678), (527, 0.023445013523056918), (1090, 0.0233967434389495), (1907, 0.023360224440892797), (3603, 0.02335374561573388), (1920, 0.023348755949385486), (4541, 0.02331132829534217), (3558, 0.023280737721756428), (4052, 0.023234971892461875), (1084, 0.0232282039566677), (1852, 0.02320988755518105), (3834, 0.023203750176985186), (8, 0.023202246769040532), (190, 0.0231845741441737), (1849, 0.023170383715449362), (3878, 0.023160902978917514), (2121, 0.023158098548031424), (1569, 0.02313495338432674), (330, 0.023124584785112052), (3449, 0.023086441796680703), (63, 0.023076062743735998), (693, 0.023072293215175343), (736, 0.02307004256146699), (2957, 0.02306350163996547), (3170, 0.023049494292710332), (3808, 0.023049065351571633), (3681, 0.023045284634603348), (1464, 0.023020476464584695), (14, 0.023020198212581264), (2640, 0.02300260527852033), (703, 0.022972970944856043), (2196, 0.022949978250248585), (3657, 0.022927112348010745), (2654, 0.02292706303180988), (410, 0.02291665009571167), (451, 0.022914827803579837), (1400, 0.022876500600792563), (414, 0.022863807605644437), (1421, 0.022852817695552002), (449, 0.022838603578013338), (4682, 0.022838048110347165), (1199, 0.02281438991660512), (170, 0.022793829063731178), (1188, 0.022778648609087477), (2474, 0.022720994412985758), (845, 0.022720174830098416), (2703, 0.022718921775179878), (3770, 0.02269436468153956), (852, 0.022676009822742815), (4733, 0.022669075904801002), (161, 0.022666444081304978), (4066, 0.022624219460922038), (3406, 0.022547174370876256), (4142, 0.022529942865048287), (1782, 0.022529172840880535), (82, 0.02247330644168277), (1941, 0.022448852098537975), (2351, 0.022387706096127617), (1172, 0.02233353925340018), (452, 0.0223049494275033), (1869, 0.022302274563904084), (4418, 0.022283488986184468), (890, 0.02228182924236207), (1827, 0.022274733953587283), (3375, 0.02221566860133515), (296, 0.022195676843525733), (1748, 0.022071827160239747), (1692, 0.022070549119513543), (3275, 0.022034171186393475), (2528, 0.02201409860642341), (4075, 0.021997228006516423), (57, 0.021994537454253088), (3450, 0.02189468829171928), (1423, 0.021861139464334108), (1262, 0.021843998893207324), (4686, 0.021834488387134088), (4479, 0.021832988255972116), (2284, 0.021819272537327815), (916, 0.021808688698393062), (2174, 0.021791371945433523), (4346, 0.02176024763467115), (1122, 0.021751036861961455), (3303, 0.021741375667754158), (834, 0.021724056068343628), (1500, 0.021721802234349493), (553, 0.02170533071774853), (4499, 0.021700432242421346), (3355, 0.021688611282219265), (4427, 0.02167782145551192), (2439, 0.021663669817282218), (2625, 0.02165924181483139), (273, 0.021646359904040832), (1256, 0.02163728076245352), (4012, 0.021628188889575087), (3216, 0.02159631905872771), (1009, 0.021579647307688903), (4739, 0.021567397387110762), (3441, 0.02152393026283343), (2060, 0.02148181084635021), (3926, 0.021413672058367708), (2103, 0.021406888743891232), (2267, 0.021385990963516018), (114, 0.021384872334227555), (4099, 0.021373671701926424), (971, 0.02136780314037367), (4335, 0.021363825044754654), (2234, 0.021321227951100384), (3204, 0.021292279051985614), (1437, 0.02125327369248073), (3825, 0.021250393804999768), (2981, 0.021226630377512705), (19, 0.021211182665696507), (1427, 0.02120041757803457), (1267, 0.02117301955324838), (435, 0.021150977950781066), (2281, 0.02110229181257368), (2710, 0.02108892424721503), (1666, 0.021068459141761937), (616, 0.021043977858209918), (3395, 0.021028701141298248), (4104, 0.02101220354725494), (1030, 0.02100751371298413), (3469, 0.021004550619528266), (541, 0.020991474748267177), (3877, 0.02098969604970856), (4706, 0.02094438750350723), (4113, 0.02093909570658119), (2111, 0.02092746074598175), (312, 0.020903022822695107), (888, 0.020893715245611077), (4110, 0.020888812773792724), (1710, 0.02082500367772852), (2769, 0.02075812744215897), (3188, 0.020735720736930887), (835, 0.020708674424120492), (1261, 0.02068514742086177), (1843, 0.020650218385841187), (2229, 0.020602094609579586), (3964, 0.020570414652768616), (3813, 0.020569488562874716), (4133, 0.020556021078290333), (1206, 0.020551410621055706), (1805, 0.020539612609921376), (3884, 0.02050301689579541), (4064, 0.02043239104270152), (1027, 0.020429475862050628), (1829, 0.020416148726627212), (775, 0.020402559396753804), (1650, 0.020385808947507765), (1744, 0.020381359502693694), (1563, 0.020377264107952996), (391, 0.020371421139338874), (1273, 0.0203330315296687), (1519, 0.020329720430385723), (4147, 0.02032833510866405), (823, 0.020312159924136527), (4411, 0.020308457043543424), (2892, 0.02028013266574085), (3977, 0.020257267048115504), (1646, 0.02024162513597523), (274, 0.02023374866755814), (669, 0.02022820543325457), (1637, 0.020221823394348405), (4269, 0.020221310801937967), (185, 0.020212006516448257), (1647, 0.02020943205245689), (4076, 0.02020616262811444), (3864, 0.020175491956258198), (3014, 0.02016873459556151), (3651, 0.020159004135575437), (4005, 0.02014394572308338), (1365, 0.020017851494984404), (206, 0.0199978888503522), (972, 0.01997958246411321), (1791, 0.019967717295052038), (2236, 0.01994937307848254), (3777, 0.019918415471056015), (2718, 0.01991111157162573), (483, 0.019904591035583095), (2037, 0.019841584328246765), (4406, 0.01983916393168517), (863, 0.01983759659214454), (4502, 0.019821208729183196), (4045, 0.019815147606058348), (2907, 0.019814258381362908), (589, 0.019800050709436218), (4280, 0.019785851369127052), (936, 0.019780958560665578), (2469, 0.01977113103295939), (1023, 0.019768713454589235), (4624, 0.019768508339679577), (597, 0.019762339338159934), (4372, 0.01974804387418494), (1073, 0.019736292795537), (502, 0.019735957036995544), (3437, 0.019735572651888637), (1736, 0.01973540386731084), (4486, 0.01973366434022635), (4199, 0.019732448068279902), (3913, 0.019723733968116823), (2399, 0.019721150105560047), (914, 0.019694195279843084), (1336, 0.019693949968775753), (794, 0.019675934805584133), (1734, 0.01965295038323458), (121, 0.019635828002149712), (4388, 0.019578427520850004), (4259, 0.01957410900143787), (2712, 0.01945293213834075), (3623, 0.019447436919862643), (2334, 0.01940385543881897), (2049, 0.019388425580544304), (1677, 0.019379351791957752), (3205, 0.019376182271594843), (1697, 0.019306330955719826), (4719, 0.019283369620055307), (1719, 0.019281397798531143), (32, 0.019279080381628854), (2114, 0.01927148493641259), (369, 0.019253370815604576), (2290, 0.019139926837794908), (3229, 0.019128984505625075), (1166, 0.019119044674379512), (2647, 0.019093851216019534), (4333, 0.019091889160762158), (2794, 0.019068238803654346), (4375, 0.019044266767321943), (811, 0.019015482113190853), (1351, 0.018998971427441055), (696, 0.018975601487904965), (3436, 0.01897321875274092), (2494, 0.01896097393492735), (1038, 0.01895949426201374), (4730, 0.018947839479648804), (3983, 0.018918282076343086), (2739, 0.01889531086663567), (485, 0.018884755880560662), (1512, 0.018878332080104976), (3494, 0.018876544144445877), (3835, 0.018872622350104406), (2502, 0.01884974503228195), (1906, 0.01881978791518387), (4344, 0.018792671320297175), (1913, 0.01878798622031494), (4169, 0.01877132022780235), (4642, 0.01877108616206414), (4070, 0.018759610367442742), (3218, 0.018749265442083368), (1619, 0.018741957303032936), (622, 0.018724999372015563), (2579, 0.018713423816452777), (4396, 0.01867850536186482), (619, 0.018669229743960368), (3215, 0.01865519210649721), (4401, 0.018652809940316088), (1685, 0.018607051355847157), (4420, 0.018581673907900793), (1774, 0.01857343461771783), (2408, 0.0185727453163336), (4047, 0.01854972194226236), (318, 0.018541883878567568), (1040, 0.018514937138136754), (2747, 0.018512186345668397), (237, 0.018510351200671318), (1492, 0.018501457998139573), (3379, 0.018482668235334617), (2633, 0.018463213675256218), (1566, 0.01843332050333077), (634, 0.018425330282790725), (2771, 0.018414936547049083), (254, 0.018401322155595826), (3706, 0.018398227383765956), (3007, 0.018394233522887563), (3919, 0.01838451031113484), (1510, 0.018380312200679955), (3559, 0.01835817502787051), (3921, 0.01832850636583591), (3353, 0.018320571116777568), (3765, 0.01831252934766545), (4112, 0.01830776732023404), (1948, 0.01827396685425495), (607, 0.018266530997289986), (503, 0.018245343099609967), (4025, 0.018245286466203135), (1703, 0.018232868910574275), (1159, 0.018227861882215368), (4504, 0.018195022324849708), (3626, 0.018186967561307096), (1549, 0.0181683594763537), (1382, 0.01815276775522169), (1717, 0.018148839053455806), (1482, 0.018145440135120268), (4757, 0.018081487818832065), (3751, 0.018069588255347227), (424, 0.018060196360147992), (1959, 0.018059309898658223), (2751, 0.01805411751512913), (425, 0.018044527131134597), (3000, 0.018042731496364154), (1818, 0.01804131029928892), (3023, 0.018012663370634292), (3053, 0.017999197066531466), (2576, 0.017994451062606488), (374, 0.01796319411293323), (406, 0.017943167262807466), (1257, 0.01794102691914939), (4245, 0.017937303262705973), (395, 0.017912048860926143), (2155, 0.017894179622278166), (3781, 0.01788793507672871), (872, 0.017872965465043068), (4004, 0.017871251029180153), (2376, 0.017867346892589127), (2798, 0.017858798691966864), (2711, 0.017846827469804157), (3819, 0.017799849079081276), (250, 0.017798671469501388), (1631, 0.017794991100171676), (1706, 0.017782617214091707), (2304, 0.017771950302336685), (2789, 0.017770834879040596), (2972, 0.017769866892958813), (3909, 0.017762753457165544), (2166, 0.017754496919170124), (796, 0.017737310770855656), (1523, 0.017735296205788755), (329, 0.017661899228326453), (2099, 0.017620574644881797), (3114, 0.01760021394902276), (2231, 0.017577162043644106), (35, 0.017567301749024718), (659, 0.017560489342395878), (4342, 0.017543818960001428), (4178, 0.017530084823623653), (1144, 0.017527504538557337), (810, 0.01752369212222302), (111, 0.01751247238584346), (455, 0.01747928160834277), (929, 0.01747755779424926), (1891, 0.017469217254755667), (677, 0.017431683198323913), (466, 0.017422033882882892), (3787, 0.017413685612908632), (2370, 0.017393332849308732), (1152, 0.017388843239595022), (1624, 0.01738535371770345), (174, 0.01737130510647374), (604, 0.017338024656076586), (3181, 0.01733271356751367), (4020, 0.0172880985698439), (3517, 0.01728613857799708), (437, 0.01727564337332987), (4676, 0.01726500175210367), (3575, 0.017259955083713828), (4687, 0.017230855593905685), (1809, 0.017205983520991883), (3447, 0.017185057863193326), (176, 0.01715481137232553), (1316, 0.0171312473032647), (1952, 0.017128027790802747), (1724, 0.01712641113031499), (3392, 0.017117760790328614), (3225, 0.01710816634765508), (4492, 0.017086704933899834), (2867, 0.017080802450596722), (510, 0.017077510467356248), (2185, 0.017055637261254183), (1784, 0.017031472237688427), (167, 0.01702400293027437), (4347, 0.017020956682791778), (3653, 0.01701832994311838), (3492, 0.016945934421944666), (4057, 0.016922400521537508), (3826, 0.01690745722475448), (3841, 0.016906182997106414), (392, 0.016895955204673886), (1020, 0.0168725322501063), (3246, 0.01685978577643251), (2868, 0.01684455533946098), (979, 0.0168349280543362), (856, 0.016827597436163376), (3905, 0.016825062563893965), (3122, 0.016810968639416224), (899, 0.016783193933105733), (356, 0.016775227234049082), (984, 0.016762262640684953), (2765, 0.01675052405909299), (1389, 0.01674949205177103), (1449, 0.016745153269641773), (2113, 0.01673003610686522), (4640, 0.01672588269721142), (1813, 0.016716105869151388), (1603, 0.016692115663284872), (3284, 0.016674881705388854), (2859, 0.016673494231289762), (2047, 0.016658858274619985), (3534, 0.016650030471742676), (1162, 0.016649193560181793), (3754, 0.016646673911151808), (2380, 0.016637515386361136), (3673, 0.016627393253537383), (957, 0.01662486415052254), (124, 0.016624759599586838), (4100, 0.016615334760373853), (1965, 0.016614107042184773), (2753, 0.016607916461627126), (197, 0.016605586668049094), (966, 0.01660500019030595), (443, 0.016602519634072412), (3954, 0.016598013655221795), (988, 0.01658244048036962), (3039, 0.016567347504396614), (4394, 0.01656666990222372), (27, 0.016522730308316927), (3407, 0.01651035484918159), (1602, 0.016503003687462842), (968, 0.016492556916708468), (1949, 0.016490065524009848), (61, 0.01648267473178779), (769, 0.01647645250713786), (2780, 0.016469390586144293), (1621, 0.0164583062984611), (2799, 0.01642611743538728), (2161, 0.016400194599739695), (3260, 0.016380058733906855), (921, 0.01636770083899195), (4362, 0.01634698315516665), (399, 0.01632873818787626), (4530, 0.016327600954739813), (663, 0.016311345975698895), (2291, 0.01631093538296748), (3169, 0.016306191355838925), (642, 0.016283684728800218), (461, 0.016281763889857057), (3683, 0.016281662140670013), (1284, 0.016251778146166827), (3486, 0.016240465222462315), (3735, 0.01624018175310907), (15, 0.016221423061818757), (4348, 0.01620570159976968), (3876, 0.016175950774402585), (3833, 0.016153204516928837), (1875, 0.016149889801287044), (4476, 0.016131699011440997), (2041, 0.01613120216183358), (252, 0.016127187596885702), (3604, 0.016119562336270366), (162, 0.016119306544790313), (1401, 0.016114511549616465), (69, 0.016114395314571418), (3696, 0.0161002758323576), (970, 0.016085380928790586), (909, 0.016076285118565268), (646, 0.016054795541063573), (222, 0.01602480196575437), (2117, 0.01601407357466585), (78, 0.016003453259422568), (4061, 0.015991990439165896), (2011, 0.015991668256422748), (2118, 0.01597137333046629), (1648, 0.015954797764080986), (4152, 0.015928389058826636), (1297, 0.015919310335124986), (2931, 0.015908649157093405), (1132, 0.015866347988160705), (4074, 0.015858669518381024), (1640, 0.015851147197460943), (4304, 0.0158159932626152), (2191, 0.01580390044337087), (1465, 0.015784828576132347), (611, 0.015778072963998486), (1759, 0.015774434901868285), (1443, 0.015744807620137486), (3178, 0.015741625427724802), (1663, 0.015727911924110487), (3615, 0.015721522652337006), (1575, 0.015713913524637704), (4351, 0.01570067054828163), (3073, 0.01569339406403399), (1539, 0.01568189382254502), (2452, 0.01565745998918206), (2704, 0.015643470462153766), (140, 0.015638696157476633), (350, 0.01562680259139392), (4211, 0.015613729457921372), (84, 0.015573889290269219), (3773, 0.015556881085711844), (1433, 0.01553204232434745), (184, 0.015517748328776676), (2330, 0.01551700421934651), (3747, 0.015463327115819613), (2975, 0.015450642039189048), (4616, 0.01542208917151295), (3555, 0.015416025476014904), (1667, 0.015386242227472164), (4216, 0.01537158428105674), (4174, 0.015366401417185609), (1113, 0.015355037267589628), (457, 0.015322846247423144), (2605, 0.015320267885945848), (3655, 0.015305272541413974), (566, 0.015274698706917557), (1129, 0.015266426297963199), (246, 0.01526527695141676), (3786, 0.015261666752816047), (1764, 0.01524440154063094), (4125, 0.015242919555866876), (1932, 0.015239355526852202), (906, 0.015196907672948711), (2865, 0.015170903533604398), (1847, 0.015152582913765021), (780, 0.015133351064384218), (1915, 0.015126747912007792), (671, 0.015117788031158107), (3910, 0.01511636088455972), (1630, 0.015092392611131345), (4432, 0.015070514975139827), (3458, 0.015061680596470546), (2088, 0.015038944707386079), (2741, 0.015031995175976438), (1106, 0.015026459183569778), (3986, 0.015021468732542467), (3863, 0.015002108231019213), (1660, 0.014997676167788687), (1004, 0.01496404046530812), (528, 0.014943539339679849), (1322, 0.01493984550424126), (2933, 0.014935258660109835), (1083, 0.014934903262248141), (403, 0.01490636305194466), (2896, 0.014903502412217494), (1369, 0.014901631183183571), (433, 0.01489295806510475), (3956, 0.014880222149726459), (426, 0.014877491340830384), (1302, 0.014849207277359498), (4334, 0.014835777565485413), (2264, 0.014832019102608602), (707, 0.01482199123701958), (3925, 0.014819860622642785), (1103, 0.014815640815146596), (3103, 0.014813706118218696), (377, 0.014789691793033787), (3943, 0.014778534045346417), (3768, 0.014774016198565927), (3143, 0.014772606491947506), (2335, 0.01477008857638473), (758, 0.01475429793667202), (822, 0.014738194481089841), (4703, 0.014736010921796069), (1293, 0.014668137062347649), (1455, 0.014658264250736465), (4738, 0.014634083615249555), (1501, 0.014622194201888206), (2210, 0.014594285856940437), (3442, 0.014583808665855132), (3594, 0.01458288762783316), (160, 0.014579353975076438), (3432, 0.014568590629896763), (757, 0.014543229480902042), (1565, 0.014502592790010892), (1376, 0.014490844100744981), (1578, 0.014480768601592198), (1104, 0.014471450499104043), (467, 0.014467056407924988), (1988, 0.0144615656301412), (1757, 0.014457496471712654), (352, 0.014456643633679819), (2529, 0.014452836616899205), (2067, 0.014440458369402536), (2697, 0.014426516856556793), (4435, 0.014422636350717171), (3391, 0.014382543258889022), (1657, 0.014365589501558721), (3871, 0.014350206998059063), (201, 0.014344746846530887), (4433, 0.014344461150183903), (286, 0.014326301581323747), (4016, 0.01431463781433023), (156, 0.01428671763291021), (2853, 0.014282238697238506), (1721, 0.014280127452461521), (4006, 0.014263639797185477), (2581, 0.01425583890764116), (1317, 0.01424924212531702), (404, 0.014242428664017658), (840, 0.01420887140772735), (2764, 0.014184814078895137), (2569, 0.014183622531658592), (1352, 0.014181372386062263), (1154, 0.014177484350913818), (2287, 0.014155236885110632), (2416, 0.014147109765419715), (81, 0.014140697078634232), (3722, 0.01413622952513807), (390, 0.014125346991783218), (4329, 0.014117294449541712), (1110, 0.014109215958684957), (1726, 0.014108726047125559), (4082, 0.014065185771226445), (202, 0.014018831537408556), (106, 0.014015232122429621), (2614, 0.014009690037818264), (4380, 0.013992037649833972), (2279, 0.0139859220417608), (1130, 0.013985076568587624), (459, 0.013982157707608507), (2685, 0.013953359676862696), (1714, 0.013952469843072612), (676, 0.013916020499225214), (1044, 0.013905176758536888), (511, 0.013898466678757566), (3430, 0.013896391570684442), (1785, 0.013887186180236119), (1925, 0.013885319732836323), (4609, 0.013843498934100942), (2219, 0.013841930112791993), (67, 0.013838253422254816), (3161, 0.013831746164533965), (3166, 0.013810729464729495), (149, 0.013786507217186234), (1145, 0.01376782310030076), (2407, 0.013762842878934468), (1478, 0.013745489539840212), (3662, 0.013742101953867023), (849, 0.01373991713781523), (2005, 0.013722217337437363), (3104, 0.01371678667199496), (3100, 0.013709037638951939), (1747, 0.01368646990596777), (1746, 0.013663997016029283), (724, 0.013654177479517256), (2992, 0.01365112685439945), (3036, 0.013647101327929068), (1375, 0.013642840939876402), (2965, 0.013635402201675686), (735, 0.013595502678903842), (4246, 0.01359095129059936), (2679, 0.013582878297422586), (1994, 0.013578314246483926), (745, 0.013569208832319185), (3350, 0.0135640179775696), (2145, 0.013553336721732012), (2154, 0.013547204737268947), (1927, 0.013544755405702552), (3746, 0.013534574687732183), (1292, 0.013520391825338889), (122, 0.013519332458445528), (3712, 0.013519150764323772), (1471, 0.013501365567977722), (3030, 0.013487949183871842), (2883, 0.01347342486837329), (787, 0.01344727255169996), (1895, 0.01344453877192847), (4652, 0.01344248342190409), (1406, 0.013437410602392681), (229, 0.013382284982587108), (2306, 0.013381131749872635), (3291, 0.013379700291249116), (598, 0.013374090367639235), (1953, 0.013359000272196067), (4222, 0.013352982226658976), (4405, 0.013338096509965015), (662, 0.013330554505685696), (1373, 0.013319996632435882), (2556, 0.013310024716274233), (1466, 0.013299214974325062), (3479, 0.013296547346163357), (2245, 0.013279699185381777), (583, 0.013272622388910985), (3859, 0.01326169261161184), (179, 0.013215548165965632), (2294, 0.01318369092833786), (1231, 0.013174994606731941), (3824, 0.013122580184832007), (2012, 0.01311960266777579), (3742, 0.013111406770663178), (4638, 0.013093884112306355), (2688, 0.013092593984634644), (2559, 0.013088382046266465), (2832, 0.013066306475141927), (1532, 0.013050900258123204), (2075, 0.013045892484665752), (1680, 0.01303639459648449), (3418, 0.013026585799730104), (1865, 0.013021987917038434), (1039, 0.012974969167874622), (981, 0.012922717351336311), (3336, 0.012919868595594772), (3247, 0.012907942069267755), (548, 0.012893034085003821), (2591, 0.01287788583455266), (2643, 0.012876671249613468), (1019, 0.0128318529692493), (815, 0.012823923918211612), (1957, 0.012820707453582367), (2327, 0.01281878956571775), (4307, 0.012808192903223523), (1414, 0.012805677708689022), (2450, 0.012781255072372452), (2615, 0.012771862261108023), (2485, 0.012767392446530529), (1392, 0.01276227200865406), (549, 0.012756364212481884), (2539, 0.012740238634972733), (351, 0.012737260169188497), (2838, 0.012724073076213309), (1208, 0.012693533524557274), (1371, 0.01267247260761952), (3748, 0.012667469442581106), (1850, 0.012658551357047765), (1979, 0.01265077615162672), (1776, 0.012641443137742731), (647, 0.012594352410332884), (86, 0.012591139486695099), (4186, 0.012585755221575195), (1529, 0.012552879733775125), (555, 0.01255206501452514), (1089, 0.012542460819942272), (3140, 0.012530114573365024), (4232, 0.01247893533119289), (3730, 0.012470883760787598), (4171, 0.012454251931944028), (4191, 0.012453966196238977), (1674, 0.01244466020383705), (4647, 0.012432660184915007), (2660, 0.012431702975949142), (3363, 0.012417238261210616), (4353, 0.012394244609002514), (357, 0.012386741453891707), (3976, 0.012370746943014434), (2834, 0.012352236294713211), (4032, 0.0123411135727365), (4306, 0.012309332961102835), (940, 0.012308202957115703), (2524, 0.012296972708010131), (3004, 0.012263251798246399), (2266, 0.012259528808919087), (3999, 0.012259491267414033), (326, 0.012193142502998165), (2797, 0.012186545670960374), (3861, 0.012174384669094405), (2729, 0.012170882329361475), (2488, 0.012167835801931932), (2848, 0.012153069531521394), (3668, 0.012149658424159859), (3302, 0.012130975034415008), (4358, 0.012130467021626628), (2719, 0.012106646055871171), (3423, 0.012101720687038372), (3464, 0.012090604275467782), (2415, 0.012081413415506628), (1010, 0.012071162090951654), (3661, 0.012062284005570035), (3347, 0.012047643382907553), (4558, 0.012046742618018795), (2638, 0.012016884792427966), (3137, 0.011975213611771358), (575, 0.011972947903419157), (3018, 0.01191382143414787), (3932, 0.011900321147810429), (3822, 0.011875384334638342), (4458, 0.011874572569541487), (2436, 0.011820838565518108), (2, 0.011797275005944427), (3308, 0.011787245084689368), (831, 0.011785964994761807), (1453, 0.011779934745340916), (2986, 0.011776890483835286), (2648, 0.011763421608575334), (2505, 0.011745770724453777), (431, 0.01174184649112579), (4632, 0.011738055690097423), (1418, 0.011730303176039887), (4594, 0.011727338049144892), (2737, 0.011721224753454116), (2570, 0.011718392601072939), (1053, 0.011710681210531738), (1658, 0.01170944953371761), (1098, 0.011704972220738394), (3797, 0.011703740166285562), (4145, 0.01169555111910775), (319, 0.011694058818237279), (2040, 0.011684377130209318), (2112, 0.011673342344816682), (1885, 0.01166592496069318), (2955, 0.011649719399397214), (1386, 0.011598181135696238), (3072, 0.011572017933397799), (2269, 0.011555557539447755), (1599, 0.011550494427706066), (2924, 0.011546866332213544), (714, 0.011543081199636174), (58, 0.01152835471338009), (4713, 0.011525693651691198), (1062, 0.011496112005014344), (3364, 0.011493788020555801), (2534, 0.011492299373478433), (448, 0.011492161733950434), (2872, 0.011460779517493264), (4369, 0.01145464866349534), (3165, 0.011435705895143549), (265, 0.011434985461471554), (1015, 0.011432743416644882), (2813, 0.011432465196714661), (2187, 0.011426884854315202), (332, 0.011426677595996311), (3952, 0.011417861488668276), (985, 0.011389402540676486), (1133, 0.011383604414280315), (241, 0.011380110658373778), (4117, 0.011365464367999869), (4675, 0.01136524453198402), (1708, 0.0113595288971892), (1184, 0.011358575600373125), (1517, 0.011357980530299986), (2701, 0.011345988872984816), (4371, 0.011341587498554146), (4243, 0.011334600252649108), (2019, 0.011329888543734987), (3296, 0.01132409880391413), (2302, 0.011308738744362732), (1712, 0.011305052869852197), (1141, 0.011302653968108542), (2964, 0.01130186049380567), (1837, 0.011296166529931572), (2096, 0.011273018868256355), (3973, 0.01126058571312359), (1572, 0.011253709890635108), (208, 0.011228522709914805), (576, 0.011223718880110723), (3090, 0.011218227063905847), (3274, 0.011218129346309589), (2418, 0.011210864620189965), (1082, 0.011204208789373152), (1489, 0.011187671209416456), (3560, 0.011186955522542142), (2974, 0.011178375310111888), (1858, 0.011140752563960937), (2322, 0.01111267463820872), (3804, 0.011106488700250827), (3248, 0.01110396817002835), (1966, 0.011085165320664416), (3273, 0.011084488809906947), (2830, 0.011080883577750625), (3127, 0.011050407583759072), (1109, 0.011040207768157858), (482, 0.011039288843960257), (2535, 0.01103517362498323), (2601, 0.01103005407723152), (2545, 0.01101892072428709), (546, 0.01100705117291215), (3141, 0.010990959231477831), (2159, 0.010978922395267507), (4263, 0.01096609319734735), (3417, 0.010965834497775113), (1124, 0.01096500535089108), (310, 0.01096072781470121), (3116, 0.010940904126889386), (2375, 0.010938094993038262), (2410, 0.010922487154866106), (1479, 0.010920072817989361), (3970, 0.010911019729503525), (2988, 0.010908297764620824), (3183, 0.010902744591334657), (2668, 0.010882283931894011), (631, 0.010874488538938288), (1866, 0.01087163981903841), (2690, 0.010833110283766934), (1738, 0.01083004489826912), (2748, 0.010826767735805825), (3258, 0.010826541664892567), (4189, 0.010818427090034834), (1936, 0.010809487142583334), (3891, 0.010803416323675425), (3889, 0.010797890693392754), (2705, 0.01078061504664506), (422, 0.010778820051108421), (192, 0.010768554886270466), (850, 0.010767108018109903), (3356, 0.010764438263216436), (3893, 0.010755909547572662), (2045, 0.010748525523236003), (4223, 0.010745593887733003), (1181, 0.010740618336718175), (1277, 0.010734111334718101), (1413, 0.010733723228001913), (3823, 0.010726233706643986), (1824, 0.010723461090632113), (2277, 0.010721117713312748), (3386, 0.010716429143528517), (3736, 0.010713554139747299), (4657, 0.010708151183995967), (3496, 0.010687261017589074), (1985, 0.010687102583481765), (209, 0.010672161279938724), (3904, 0.010649437484913716), (104, 0.010643122588206698), (227, 0.010640568255943032), (1876, 0.010637111133134714), (2391, 0.010633986263661018), (1324, 0.010620563015811945), (2609, 0.01061972990277381), (3601, 0.010618359451205856), (2664, 0.010614551544198915), (4357, 0.010613142150242094), (1430, 0.010607746169397466), (46, 0.010603253450338707), (2105, 0.010602111937041516), (4175, 0.010601737733332214), (532, 0.010593399777440267), (3434, 0.010592299038540243), (1385, 0.010589654807765405), (2831, 0.010588504596492207), (2183, 0.010578955795740187), (493, 0.010571134549371933), (3314, 0.010559523752936957), (456, 0.010548685581739565), (3326, 0.010545163706446401), (109, 0.010544309048742779), (79, 0.010543374560735244), (4575, 0.010534579295829474), (2755, 0.010528040395152129), (2610, 0.010522133475612077), (409, 0.010503039744191566), (1081, 0.010495773568717622), (4566, 0.010495709904635699), (2385, 0.010486608424978304), (3553, 0.01048213191455416), (51, 0.010475318874558222), (178, 0.010473766677655), (4134, 0.010471470865633551), (3596, 0.010467074356788779), (830, 0.010466122781620811), (1982, 0.010449240957120028), (1821, 0.010447938133552593), (4600, 0.010440052718307119), (564, 0.010430829952809199), (255, 0.010426019863115317), (3493, 0.010420963099130636), (37, 0.010414307164704902), (211, 0.010406944808023785), (660, 0.010400272944940928), (2463, 0.010396106617055652), (879, 0.010387370949549514), (3241, 0.010387116140338867), (4685, 0.010383615333023084), (2398, 0.010380452691115316), (2531, 0.010376376014110806), (23, 0.010375435132056972), (4136, 0.010371935359953947), (1851, 0.01036547213434973), (588, 0.010345978691184258), (2087, 0.01034441795618923), (2319, 0.010343160843026809), (4625, 0.010337878589393976), (2632, 0.010327750505207099), (4079, 0.010321258948785385), (446, 0.01031731365351616), (7, 0.010311484599705498), (2538, 0.010302097851249938), (1096, 0.010289340693374165), (4287, 0.01028621940258033), (2008, 0.010285443826007903), (3198, 0.010285367843350764), (1017, 0.010280006104856911), (2262, 0.010277702626981161), (2808, 0.010248290985783894), (2048, 0.010247692531148416), (817, 0.010234920955120819), (764, 0.010231269839045726), (1946, 0.010231114562006606), (871, 0.010230032728640606), (2230, 0.010225093550187882), (3633, 0.010217200591531847), (4336, 0.010215847616470819), (651, 0.010210954178404029), (71, 0.010200016134473886), (2386, 0.010179266412016483), (1864, 0.010172539645918896), (383, 0.01016734834865292), (1025, 0.010166151077822453), (1384, 0.010153367929865906), (782, 0.010148875566196404), (333, 0.010147315654441921), (2489, 0.010146562057298969), (3182, 0.010142405630287694), (3485, 0.010137428589966151), (1446, 0.01013530687203999), (2397, 0.01012598309399309), (47, 0.010125952435039887), (2746, 0.01012336240876023), (2430, 0.01010155472037805), (1533, 0.010099613216220516), (3151, 0.01007472655643014), (3733, 0.010072980486553596), (2473, 0.010072587951648842), (1472, 0.010072171513355911), (2652, 0.010065585416718667), (1410, 0.010062820285546208), (3335, 0.010059732623360804), (2706, 0.010054904694010864), (1722, 0.01005422172247025), (2745, 0.010049614996864418), (1255, 0.010049152453763739), (1175, 0.010048013707543657), (1283, 0.010032477038759943), (962, 0.010028668989371407), (504, 0.010016586919795747), (3803, 0.009981289528966314), (2344, 0.009977111588738537), (2303, 0.00997492174770408), (1170, 0.009967602899082592), (2812, 0.009967378441404405), (4257, 0.009963227609877319), (1378, 0.00994796043360147), (1348, 0.009937040709559425), (2212, 0.009934832415970268), (4320, 0.009931131327541488), (2891, 0.00993013572830572), (287, 0.009923988574159194), (2943, 0.00992063282664855), (1793, 0.00991284991848794), (900, 0.009888729159983319), (3399, 0.00988110393135617), (1634, 0.009868013038114005), (4603, 0.009865615426148477), (2686, 0.009858144737922165), (1698, 0.009853999225582449), (1212, 0.009841675856722222), (3009, 0.009816299755822112), (1313, 0.009811119983921743), (1753, 0.009806072712535327), (463, 0.009801858010052383), (2687, 0.009795539837888695), (2777, 0.009786234959235057), (766, 0.009786033109242386), (3958, 0.00978313335749676), (2500, 0.009781029819204078), (1026, 0.009769975232072185), (4440, 0.009758129298806513), (1477, 0.009755195415548836), (779, 0.00975177196226472), (2802, 0.00973561097690798), (43, 0.009707777202165178), (1308, 0.009703387428001352), (183, 0.009699734090344964), (1350, 0.00969841858432758), (1178, 0.009691168471705926), (1046, 0.009689642650081622), (2541, 0.009680974715849456), (959, 0.009670706573023942), (3075, 0.009669718143695296), (4442, 0.00965731499779395), (4183, 0.009656759475875708), (2762, 0.009654203543440468), (3750, 0.009651222579963923), (1730, 0.009642335932651121), (4192, 0.009641375677411216), (2803, 0.009624916351779832), (3298, 0.009617654947938521), (1247, 0.009616537948336735), (4139, 0.00961447337283846), (1060, 0.009606254340627477), (2265, 0.009601429013558522), (1463, 0.009599563413154084), (2642, 0.009592578299521376), (3352, 0.009574654559912445), (1214, 0.009565935134574), (428, 0.009548697398016644), (1034, 0.009534819270083828), (2367, 0.00953055272326213), (3868, 0.009526600282793805), (2285, 0.00951682680960447), (4536, 0.009512290171270229), (3315, 0.009511184492418839), (964, 0.009510345590012117), (800, 0.009506372026690135), (3214, 0.009505297599588835), (2779, 0.009504559538236956), (3268, 0.009502730969094986), (2886, 0.009498977390675905), (4321, 0.00947894511986111), (2242, 0.00946354397831837), (644, 0.00945816949485747), (3898, 0.00944828374652912), (2508, 0.009442897734369963), (732, 0.009441509145826933), (2995, 0.00943619824905139), (373, 0.009435910887291054), (3328, 0.009434789625548164), (408, 0.009413328017157266), (325, 0.00940848305922704), (388, 0.009399050638741656), (3194, 0.009397565196797004), (116, 0.00939690503534355), (657, 0.00939201947696985), (1296, 0.00937636279510241), (24, 0.00937508642023046), (2004, 0.009357752086038246), (2913, 0.009357229237814176), (3300, 0.009356515236844326), (4011, 0.009350583942039109), (1693, 0.00934822720014915), (519, 0.0093383600690469), (1553, 0.009334260365376667), (3071, 0.00932571927254727), (975, 0.009320732113146905), (381, 0.009317651012686045), (366, 0.009303402964761521), (3721, 0.00929988047483445), (655, 0.009297583396753614), (1819, 0.00927579134745926), (1136, 0.009272127955794155), (4198, 0.009256712585605061), (1558, 0.00925527402372006), (3500, 0.009237161678058868), (3880, 0.009227253582396613), (1052, 0.009217433951572148), (2621, 0.009201588764157703), (3096, 0.009193706266315872), (2692, 0.009184136725802351), (638, 0.009176445423454326), (1543, 0.009172991335516634), (2646, 0.009166463498910139), (4748, 0.009159833048103205), (242, 0.009157047366631643), (907, 0.009156031609083487), (2453, 0.009150819851140397), (1576, 0.009137619123626477), (2362, 0.009126701601439611), (3050, 0.009121946003213652), (874, 0.009120790555775816), (1586, 0.009114142111063905), (1628, 0.00911007310320806), (4524, 0.009105523427998533), (1065, 0.009100119395348067), (1790, 0.009096064020105063), (218, 0.009089747901465571), (294, 0.009083409266554777), (251, 0.009065012760461922), (807, 0.009057739436639721), (445, 0.00905409439037494), (1215, 0.00905297123175276), (2928, 0.009052514895876393), (4166, 0.009050507366770912), (2070, 0.009046442566194973), (1237, 0.009038022981757732), (1216, 0.009028468897132451), (608, 0.009025212114454496), (3409, 0.00902333282629239), (3304, 0.009015407113949698), (4084, 0.009014390077819717), (3078, 0.00900836826463471), (2338, 0.00899544490994966), (1605, 0.008994882059177953), (3065, 0.008983502232424797), (3344, 0.008982100252021062), (1467, 0.008974693916546062), (3318, 0.008973385723225074), (4712, 0.008969123058757756), (1080, 0.008963090666408779), (2457, 0.008956208978936994), (3384, 0.008945564931774529), (3634, 0.008942251537728875), (1219, 0.008931943903855228), (3327, 0.008930560282885044), (885, 0.008930440035605364), (1312, 0.00892536020498237), (3795, 0.008906293301550698), (3256, 0.008894672793654095), (4610, 0.008876389008536413), (3821, 0.008869805627666226), (3936, 0.008868498646006242), (2983, 0.008847649303682469), (1014, 0.008840233231453151), (3380, 0.008838284145122426), (132, 0.008827065403287586), (948, 0.008826943069672074), (1394, 0.008821171140342792), (3927, 0.008803214618296883), (33, 0.008798932799583123), (2543, 0.008796414159107894), (2544, 0.008794605879611676), (2308, 0.008773290496732504), (3574, 0.008761735696261324), (25, 0.008748748826694677), (2563, 0.008747140539896937), (2510, 0.008746794880614596), (1571, 0.008744139456130229), (2240, 0.008737252287202287), (2237, 0.008736597888815728), (3403, 0.008722937329210902), (3957, 0.008717547045029462), (3592, 0.00871591985993955), (3895, 0.008715777581695661), (2873, 0.008666361157020873), (2339, 0.00866633287302583), (1713, 0.008664455816542186), (2412, 0.008645195374049973), (1217, 0.008643789824514744), (412, 0.008640605671179061), (103, 0.008623685327680274), (733, 0.008614561621467667), (2328, 0.008604329572253216), (1037, 0.00860347781660573), (3945, 0.008578511733301953), (278, 0.008575097622395783), (2761, 0.008567904139700055), (2527, 0.008563276915719327), (40, 0.008559345186112101), (1069, 0.008537124057540183), (1377, 0.00853162053150058), (1763, 0.008526136276972773), (719, 0.008496816617233671), (4514, 0.008479565241064429), (2843, 0.008473218161729528), (4337, 0.008472318474989434), (3200, 0.008459651390589698), (3669, 0.008437600227105846), (3387, 0.00842605883160017), (531, 0.00841696393895693), (1486, 0.008403186698697454), (3758, 0.00838453625285088), (195, 0.008368689565128184), (1583, 0.008359554957502808), (1799, 0.008357071402740992), (2368, 0.008355481227130557), (2253, 0.0083543911817335), (2333, 0.008345292980662226), (4226, 0.008341778822598147), (363, 0.008337849883573063), (3686, 0.008334066192537303), (635, 0.008330627873522732), (3017, 0.008329194522456862), (2132, 0.00831791012309925), (2876, 0.00831544134292442), (4196, 0.008308327770055537), (3515, 0.008295858383130208), (1210, 0.008295527986125985), (795, 0.008285855868412031), (159, 0.008277584326939553), (3056, 0.008248142343209003), (4436, 0.008227905918749962), (341, 0.00821583955330549), (2032, 0.008215021646295981), (1770, 0.00820464015500905), (950, 0.008190552584723924), (853, 0.008177393333037795), (1415, 0.008157375661300582), (1812, 0.00815103371563008), (413, 0.008147864712768722), (3254, 0.008140810936922444), (1737, 0.008139312951267927), (266, 0.008137787924123919), (3316, 0.008135653242077106), (1407, 0.008108784663783787), (1099, 0.00809101187272447), (4311, 0.008089050922863357), (1005, 0.008084007949337255), (1116, 0.008083527794289846), (301, 0.008071448043604525), (225, 0.008062453530197189), (4695, 0.00804149619731797), (4599, 0.008041423328254948), (3851, 0.008026502851692489), (4182, 0.008024102774537849), (523, 0.008021008081766154), (2841, 0.008017611734454533), (1424, 0.008003597873011808), (194, 0.007988274331005924), (1396, 0.007979638703567537), (2982, 0.007978087819006422), (4460, 0.007946487048448667), (2691, 0.007938470015068054), (1841, 0.007936126862514416), (4008, 0.007918842657423555), (1195, 0.007909401456459809), (2967, 0.007907773058956008), (313, 0.007907696181037352), (615, 0.007904135062845279), (4467, 0.00788175933250753), (3265, 0.00786339735617493), (137, 0.00785584086899954), (778, 0.00785253630395038), (2420, 0.007852514679192032), (3761, 0.007839604489379634), (809, 0.007833542670833577), (4580, 0.007822887514020422), (3180, 0.007799333386194681), (3632, 0.007799255352002375), (1761, 0.007797570501431991), (1111, 0.007797323137087491), (3950, 0.007792850318911762), (1266, 0.007784601915924109), (2708, 0.007777594843854434), (1250, 0.007777051004120145), (2421, 0.007774402260928613), (56, 0.00776875648554839), (2806, 0.007763856220209062), (1425, 0.007762268030330634), (385, 0.00776055366836054), (4050, 0.007744105340126542), (283, 0.007739799069544843), (2487, 0.007732989524864934), (83, 0.007732225876195276), (131, 0.007730594056485428), (2662, 0.007726518855547516), (1461, 0.007715709431832365), (982, 0.007711724686031965), (1786, 0.007710253854257948), (1306, 0.007710005307772102), (3529, 0.007703355343983094), (700, 0.007691399070560737), (1945, 0.007688254379052679), (3424, 0.007680766814473165), (1515, 0.007680050760718533), (1908, 0.007670883802908624), (1074, 0.007653769963787159), (1505, 0.0076524193818298435), (2198, 0.007644870019607769), (4001, 0.007643177612827641), (1873, 0.007637884444353971), (1374, 0.007635847941708094), (3033, 0.0076260081246542315), (3416, 0.007623191544939453), (2978, 0.0076227333661384915), (3202, 0.007622110850030864), (224, 0.00761764342691482), (2324, 0.007602097738736022), (2258, 0.007601823095213787), (1420, 0.007599272942121844), (1238, 0.007578317345230443), (22, 0.007576311086123889), (2503, 0.007566416178387315), (2480, 0.007564750956659166), (1012, 0.007558866984064021), (2880, 0.007555678547122529), (1226, 0.007553509830907487), (1986, 0.007546201169548684), (3584, 0.007528903182520284), (1731, 0.007515955818399277), (405, 0.00751547627867164), (322, 0.007513686180413077), (3175, 0.0075121215291996096), (754, 0.007510577665281585), (2588, 0.007508984037290506), (873, 0.007507021654708222), (1551, 0.0074993927951426285), (1128, 0.007476699475456234), (1773, 0.007475899379812185), (2086, 0.007466461753951806), (3109, 0.0074662121769832075), (4315, 0.007465542851197671), (2044, 0.0074464799995349095), (243, 0.007446075213721071), (2239, 0.0074430108152458326), (2759, 0.007435112986610017), (230, 0.007430792271650591), (2566, 0.007411490914128433), (321, 0.0074060584308785656), (4027, 0.007402583330320543), (4367, 0.007394279755081272), (2062, 0.0073883552661702205), (4217, 0.007369769859407662), (2095, 0.007369166070382615), (3189, 0.007365360557191498), (1955, 0.0073637202551783175), (2056, 0.007352879069233532), (3998, 0.007351106549662475), (3513, 0.007344974238435722), (1881, 0.007332443030854198), (1118, 0.007331438641186161), (2249, 0.0073313387305295515), (3061, 0.007329653427196967), (4303, 0.007327146024497745), (2680, 0.007314111778711978), (1526, 0.007291600998918259), (1536, 0.0072899604489098015), (3085, 0.007289356419593788), (3309, 0.007286224724090145), (3798, 0.0072716890309700456), (784, 0.0072688663217082205), (1327, 0.0072558815776249275), (2517, 0.007253560150644155), (3549, 0.00725013796453677), (2106, 0.0072470979162844815), (4272, 0.007238805465758893), (4628, 0.007235813601161631), (3489, 0.007226230292978395), (1509, 0.007225224602298009), (263, 0.0072207801265667644), (2094, 0.007220569444131932), (2353, 0.007217791399489949), (812, 0.007214754397668351), (4319, 0.007205544438161295), (2202, 0.00718841017979242), (1307, 0.00718060825581125), (1585, 0.00717376593885908), (3566, 0.007167426482679111), (110, 0.007164787933680758), (768, 0.007151643149532549), (2205, 0.007142322808279513), (833, 0.007141041700214368), (468, 0.007140187493009975), (4702, 0.007118689543773495), (1662, 0.007111600621164149), (3426, 0.007098043583929277), (1956, 0.007090913445807695), (2742, 0.007084414834792714), (2874, 0.007081797279499666), (2119, 0.007078388443068939), (568, 0.007076907304025582), (9, 0.007061143388732348), (398, 0.007059144159156996), (248, 0.007058907955708577), (4236, 0.007056687608065781), (1068, 0.007056528476834846), (529, 0.007053724647417533), (1346, 0.007050445276197865), (3294, 0.0070377002428684285), (347, 0.007034132956108665), (2472, 0.007032640772326418), (1804, 0.0070316732142904105), (785, 0.007014549534504237), (272, 0.00700829978374458), (2026, 0.007004822626365357), (2110, 0.00700092822597692), (3244, 0.006989811631184994), (821, 0.006988140681155417), (354, 0.006982743722764839), (946, 0.006976234006280904), (958, 0.006974262897453549), (4688, 0.0069608733937956396), (2836, 0.006955896442270574), (129, 0.006952562416992848), (1567, 0.00691193741463171), (1173, 0.006905176127861034), (3644, 0.0068877053893284974), (1888, 0.006886529537994666), (2058, 0.0068857467473024585), (983, 0.006885299222065364), (4055, 0.00688225207133239), (2426, 0.006877528171420075), (1589, 0.006867122529027324), (3400, 0.0068558087394612315), (327, 0.006844845719052758), (1541, 0.006840490293359094), (664, 0.006839759423778582), (1880, 0.006834987881116877), (1771, 0.0068346919256421215), (4073, 0.006832853718241), (2677, 0.006830394622877152), (1095, 0.00681901596806899), (2929, 0.006805318184860657), (3865, 0.006804807209786696), (3531, 0.006799577636406312), (3879, 0.006796578324410303), (49, 0.006795103865319784), (773, 0.006781702952617259), (4229, 0.006777093086258597), (2693, 0.006776879036798028), (2935, 0.0067767192561204274), (2003, 0.006772714409603122), (4252, 0.006744928582633504), (2681, 0.006739770303293229), (2167, 0.006736470600391029), (2074, 0.006736165601184126), (4438, 0.00672100892617714), (277, 0.006707197774023993), (2897, 0.006696111870134144), (1684, 0.0066838328581096725), (2107, 0.006677617742646999), (2409, 0.006676856247265139), (2820, 0.006673996014875984), (1194, 0.006666636886026177), (1190, 0.006665034276051396), (741, 0.006656624839738029), (1018, 0.006653853260619635), (1363, 0.00665315996130538), (4022, 0.006644894107002082), (819, 0.006644593353028459), (649, 0.006643968530973413), (4385, 0.0066412730392423945), (4035, 0.006639241028317354), (859, 0.006626653573797505), (3077, 0.006620367360761728), (3509, 0.006620080436244055), (1379, 0.006613625957956063), (1863, 0.006589881561991084), (629, 0.006588900895710957), (4158, 0.006551627726362978), (2699, 0.006540248247998665), (1180, 0.0065298529561505616), (1457, 0.006528609433339576), (2098, 0.006526885337652986), (2866, 0.0065234409336972915), (3083, 0.006516866849013764), (3731, 0.006507178068533109), (177, 0.006504721914819761), (3752, 0.006482340979690925), (288, 0.006479977006317588), (3589, 0.006464724435219925), (3164, 0.006461675006704445), (3753, 0.006458104935556043), (2197, 0.006453598575017433), (1984, 0.006443316276011469), (1279, 0.006424265728579081), (4322, 0.006418777715491075), (1974, 0.006406650018708445), (2007, 0.006398878294381399), (2036, 0.006381614930759446), (3295, 0.006379716614221383), (1236, 0.006375461318231528), (1200, 0.006372010792946944), (302, 0.0063716614126326935), (3222, 0.0063619155071431574), (1485, 0.006324856452555545), (1816, 0.006319383553109873), (4437, 0.00630594544954353), (3716, 0.006300729116278958), (3940, 0.00629098807566301), (2665, 0.006282959020631861), (1341, 0.006262554852496385), (4726, 0.006223213758785087), (820, 0.006192553104704213), (1695, 0.006175989583288072), (2805, 0.006130276280792689), (2774, 0.006097249186900678), (477, 0.006086519316968488), (2013, 0.006079435642370056), (3856, 0.006067074743452698), (2022, 0.006051385108291821), (2001, 0.006036615876947933), (1701, 0.006025258507723804), (2168, 0.005998995261277049), (168, 0.005996895174534768), (4288, 0.00599453623406618), (2440, 0.00598375889787007), (2006, 0.005978600597898169), (4018, 0.005975130742104327), (1802, 0.005970986888638316), (2855, 0.005944971483820091), (1639, 0.005934749002347751), (3946, 0.00591724384612972), (4144, 0.005894463552211272), (2877, 0.0058855325437056705), (786, 0.005871584116551284), (709, 0.00587030280433018), (726, 0.0058617765431936185), (1883, 0.005779681195870288), (2331, 0.0057519325623053424), (4498, 0.005745187593697838), (4373, 0.005744025611318962), (1530, 0.0057411175563689), (3144, 0.005681376597515915), (561, 0.005626636817789221), (3980, 0.005623932187785291), (2064, 0.005620203294742469), (3456, 0.005211281873876982), (1362, 0.005209585573405129), (2671, 0.005149016115946311), (4151, 0.005061668515887799), (2299, 0.0047110056605323075), (4571, 0.004681294565291107), (2757, 0.004509105207973158), (2998, 0.004422745238985992), (4607, 0.004277952980745827), (2379, 0.00425166233362853), (2490, 0.0042461415488303485), (2937, 0.0042303641222975145), (3523, 0.0042231899194843225), (4705, 0.004212046234849617), (3051, 0.004202311952506974), (2768, 0.0041877450264239365), (2858, 0.004175701588174874), (2137, 0.004175468491944506), (3139, 0.004171010981333868), (2189, 0.004135433836464166), (4202, 0.004119378628912132), (3040, 0.004114172654646993), (2989, 0.004105024175855122), (2251, 0.004099003992964972), (3990, 0.004066357199748279), (4617, 0.004029230314397817), (4704, 0.004024625756888918), (3052, 0.004023958333103634), (3055, 0.004008784099700033), (2404, 0.004007004934560653), (4017, 0.003997787525211355), (627, 0.003989156928036057), (3635, 0.003983044362137744), (947, 0.003973977527054649), (2923, 0.003969371402651161), (2731, 0.003954470568271871), (4749, 0.003953665086954098), (4529, 0.003950012346458306), (2484, 0.003939031349885503), (2310, 0.003938907117308446), (4221, 0.003938827729087503), (4484, 0.003927879946852403), (4611, 0.0039267951969916195), (2694, 0.003924263101622648), (2673, 0.003919008986346669), (2861, 0.0039048884009897956), (2655, 0.0039041367669783687), (2932, 0.0038951138618746445), (4172, 0.003894687236898699), (4696, 0.0038595293776843317), (4444, 0.0038591253162019922), (3076, 0.0038555191451260886), (4407, 0.003853471009489257), (3219, 0.003850002543955558), (2392, 0.0038465618554193504), (3292, 0.003845789263741373), (3762, 0.003838053573547918), (2199, 0.0038348923542469732), (3892, 0.0038297240405882594), (4423, 0.0038201786897540963), (4019, 0.0038189997939322706), (2425, 0.0038181502048048317), (4546, 0.0038080386904673575), (2255, 0.0038008622915069908), (2257, 0.003792950343666213), (3322, 0.0037915660044965135), (3262, 0.0037906685628966265), (2350, 0.003785622441744031), (2901, 0.003782424614073188), (4230, 0.0037747558772959966), (4400, 0.0037555144347749436), (4403, 0.0037549291448490856), (2530, 0.003744368566936231), (4102, 0.0037405477589731832), (4606, 0.0037296550454349623), (3828, 0.003725827488278449), (4710, 0.003723839214448537), (2795, 0.003720441028160194), (2423, 0.00371271557105725), (4469, 0.0036808640823857187), (4692, 0.003677436008010922), (4521, 0.0036771808415822223), (4544, 0.0036751118883546134), (3638, 0.003673019282815694), (4612, 0.003667517831071965), (3616, 0.003663495424827014), (4242, 0.003659920667966351), (2557, 0.00365373776253544), (2438, 0.0036490818986690543), (3159, 0.0036461435825271256), (4107, 0.0036377139095260616), (3922, 0.003636785739900487), (3613, 0.003633721510969984), (4660, 0.003632802871642993), (4724, 0.0036315781327230985), (670, 0.0036306364772934973), (4572, 0.003615630982242095), (4298, 0.0036142208769328558), (4209, 0.0036099977659089185), (4443, 0.0036089407142398796), (3874, 0.003602503451987459), (4723, 0.0036020037658738686), (2188, 0.0035953807973236897), (2879, 0.0035877959520748143), (3620, 0.0035873480657794997), (3358, 0.003576581029578312), (1593, 0.0035702109018556183), (1064, 0.003569204622566714), (2778, 0.003562253363837577), (3779, 0.0035574187172306656), (2454, 0.0035574064780902036), (2993, 0.00355336785600944), (3901, 0.0035529025153726817), (1264, 0.0035487030967436112), (2619, 0.003547744267696061), (1429, 0.0035416356973978517), (1168, 0.0035376675558956173), (2895, 0.0035263004384527103), (3911, 0.0035202486505827367), (3766, 0.0035132229633543354), (3675, 0.0035117840153377267), (4701, 0.003511172378118638), (4637, 0.0034957494964281376), (4490, 0.0034937562178416312), (2772, 0.003489784725832754), (4735, 0.003486120124534504), (4717, 0.0034786123540331473), (2738, 0.0034766151187635747), (3935, 0.003471444311477389), (3081, 0.0034670644415113047), (2378, 0.0034670218926284775), (3621, 0.0034666068095433387), (4584, 0.003463476419491102), (1792, 0.0034620871839911955), (2089, 0.00346170508495744), (4694, 0.003461489420035464), (1968, 0.0034597119931280926), (2707, 0.003457621104470411), (518, 0.0034537074061102863), (2720, 0.0034528055013103515), (4412, 0.0034510175187960055), (4030, 0.003448212596049324), (4589, 0.0034481954097934256), (2846, 0.0034471494950321434), (937, 0.003441911899003033), (4477, 0.003441794969891826), (2142, 0.0034359019500635407), (1547, 0.0034312050903212814), (3019, 0.003429537406042304), (4126, 0.003428111201979361), (3307, 0.00342209477977227), (2427, 0.003422009189609763), (4002, 0.0034213261890387995), (4163, 0.00341556690320702), (3729, 0.0034141755710401815), (860, 0.0034133752691332276), (4398, 0.003404194819242832), (2987, 0.003401066428511884), (3337, 0.003399252442592574), (3396, 0.003398083111038327), (4650, 0.003395107259708242), (925, 0.0033874303250765103), (4516, 0.0033782024340868353), (721, 0.003375514647499919), (4244, 0.003375019729140888), (2796, 0.003371445108482322), (1924, 0.0033656595658649534), (739, 0.0033616764012748424), (4753, 0.0033592794838268078), (3883, 0.003358122134118213), (3772, 0.0033525628031022886), (2223, 0.0033496486250806437), (2346, 0.003349599226449549), (3611, 0.0033473412050994125), (2437, 0.0033438767260986625), (107, 0.0033412705811075023), (3186, 0.0033403893705091347), (3960, 0.0033398723485748958), (1887, 0.003338541859048979), (2881, 0.003336559373075758), (4731, 0.0033355165592885688), (2623, 0.003335114120919128), (478, 0.0033341428306938887), (4092, 0.0033338986900505845), (2400, 0.003332105908471316), (2914, 0.0033317537706644565), (3680, 0.0033313742641986337), (3992, 0.0033301146269973814), (4494, 0.0033281431229154044), (1148, 0.003326252569582987), (683, 0.0033258412686440275), (1383, 0.003325552441540656), (4699, 0.003323942417640192), (3587, 0.0033186046612665963), (419, 0.003317995025517163), (3373, 0.003315807936148278), (4368, 0.003315597968888962), (533, 0.0033135329819004135), (3962, 0.0033086830110956316), (922, 0.0033052456081315916), (1716, 0.0033039388792318143), (2903, 0.003303762191168792), (3196, 0.0033035236156072206), (4160, 0.0033030457554391246), (3012, 0.0033029343779741615), (596, 0.0033008728859628828), (2916, 0.003299870811031621), (1862, 0.0032994232468106714), (3032, 0.00329755653165988), (4535, 0.0032973921831561327), (436, 0.0032960918483637973), (3146, 0.003295269190315038), (2134, 0.0032952453889114664), (308, 0.003294335330743614), (2356, 0.003293322976423783), (3737, 0.0032895960524589917), (701, 0.0032885743913557575), (458, 0.0032871871417259986), (2840, 0.0032857470184780783), (3640, 0.0032854957730380154), (1474, 0.003285437080562602), (729, 0.0032851454533712977), (2782, 0.0032794056850653317), (4397, 0.0032787058347096038), (4593, 0.0032758828665692364), (1498, 0.003275238930460232), (3003, 0.0032726536146388775), (2854, 0.0032718397845146723), (1923, 0.0032718345482141346), (1890, 0.003268935492353479), (3062, 0.0032661389943681135), (4531, 0.0032648874143649444), (688, 0.00326351431809216), (1960, 0.0032618092435879906), (2592, 0.003261434858924241), (4551, 0.0032603412325320578), (3967, 0.0032567055889188823), (3026, 0.003254871233900239), (4042, 0.003253828930261144), (967, 0.0032525718308411707), (3961, 0.003251684381704435), (2428, 0.0032511863553851394), (4619, 0.003250446797237369), (3097, 0.003248506715103252), (48, 0.003246073794003431), (1754, 0.003245308742761192), (371, 0.003241771362710683), (3924, 0.0032384415037193864), (1454, 0.0032358197670795453), (476, 0.0032338666793203202), (3677, 0.0032337952029139676), (450, 0.0032326345087826747), (2464, 0.0032309986772894542), (4308, 0.0032307293880706298), (1733, 0.003230192228450696), (4046, 0.003229635482368481), (4048, 0.003225122446165772), (4601, 0.0032245510748355353), (2624, 0.0032235834284865105), (123, 0.0032231731456447846), (3234, 0.0032201660739315094), (3714, 0.003220098433629785), (4130, 0.0032199823207611183), (4140, 0.0032188718786869863), (896, 0.003218312713584252), (673, 0.0032148797231565406), (1243, 0.003213295499981544), (4732, 0.0032132450298498934), (675, 0.003212742042295479), (3749, 0.003212142254801868), (4116, 0.0032118320968553913), (3044, 0.003211295462265271), (4522, 0.0032104996626146874), (4013, 0.0032074269507688232), (499, 0.003206058084870891), (2097, 0.003205857088744951), (3064, 0.0032056247938611177), (481, 0.0032038198436291506), (887, 0.003203307343206809), (2214, 0.0032031419370419398), (4087, 0.0032025406540486974), (1997, 0.0032007508941597268), (4528, 0.0031993809589537826), (2595, 0.0031953417004606517), (3642, 0.003194634204239849), (4722, 0.003193798594374157), (1325, 0.0031931372552101334), (2888, 0.0031912334082574083), (3771, 0.003190908863620089), (4545, 0.003188054954306383), (1874, 0.003183800025511408), (4734, 0.0031837400070715035), (3704, 0.0031836269294212077), (2477, 0.00318295006660346), (3086, 0.0031824898888049157), (4024, 0.003181402990179973), (3757, 0.003177911511226679), (728, 0.0031774769199547966), (4579, 0.003175442735389957), (210, 0.0031750706939135793), (3692, 0.0031719976015706993), (1848, 0.0031713636776232444), (4132, 0.0031710616668809226), (430, 0.00317088329318971), (4161, 0.0031693360252722075), (3112, 0.003167888284939235), (1995, 0.003167803970919056), (4540, 0.0031654981266841277), (991, 0.0031623371390895084), (2723, 0.003159541667367363), (4495, 0.0031555181018434976), (2786, 0.0031548591748385944), (1140, 0.0031543767258818706), (4574, 0.0031543676183246184), (1537, 0.003154101084312462), (2260, 0.003151485300619366), (2725, 0.003150668560659169), (4431, 0.0031505912692810964), (4680, 0.0031498695204739365), (4038, 0.0031495441174865745), (2940, 0.0031488254407785452), (2949, 0.0031477566057708847), (2104, 0.00314625784448567), (12, 0.003146000449983861), (3780, 0.0031455342521816256), (1071, 0.003143858037688996), (4231, 0.003142618156452995), (2151, 0.0031410102032496828), (2522, 0.0031397881892992526), (4355, 0.003138504858751637), (3987, 0.0031377200482591476), (792, 0.003133763886960725), (74, 0.0031332006570680476), (680, 0.0031330429025638157), (3297, 0.0031303612479656245), (3590, 0.003129410596621763), (1896, 0.003125301179899188), (2361, 0.003124845307617471), (4489, 0.0031245303783446897), (68, 0.0031244064911019128), (4471, 0.00312405918961729), (1687, 0.003123570167078825), (3618, 0.003122743379992918), (1234, 0.00311963645297285), (4505, 0.0031183548520480726), (1853, 0.003118323393483813), (2953, 0.003118296978779473), (2714, 0.003117878996525303), (1484, 0.0031162997502030532), (2288, 0.003116120108754583), (4286, 0.0031147426063399927), (2849, 0.003114508255442547), (4318, 0.0031130255761981206), (1918, 0.003111821408900054), (4123, 0.0031106185270081766), (1822, 0.0031098823670969817), (3037, 0.003109689629195388), (4, 0.0031083951799774985), (4033, 0.0031079646949501954), (1225, 0.0031078835316104537), (1916, 0.0031045021678041762), (2394, 0.003104231675735532), (4474, 0.003101922858826787), (1007, 0.0031014272674337244), (1670, 0.00310071650283709), (3187, 0.003100183808044254), (3984, 0.003098251173636158), (1570, 0.003098249033342471), (1643, 0.0030929002077402547), (4225, 0.003092523784429618), (716, 0.0030893061728415215), (1402, 0.003089228995597695), (429, 0.0030875092797095012), (1439, 0.0030846007407613362), (4430, 0.0030844605312355996), (4497, 0.0030843437622758915), (2083, 0.0030830546584421767), (20, 0.0030814350915630683), (270, 0.003081063038545951), (580, 0.0030784730258620347), (204, 0.003077786205289222), (3862, 0.0030768103283522435), (4448, 0.003076634154906705), (4083, 0.0030756801185385227), (1229, 0.003075630716242498), (3382, 0.0030740690622108094), (2561, 0.003073516320535691), (717, 0.00307220797092939), (4419, 0.003071230339619788), (1513, 0.0030688781566526446), (543, 0.0030683200321444475), (1983, 0.0030682299550490906), (2546, 0.0030668549881439112), (34, 0.0030655379665975907), (3902, 0.0030652602704607777), (884, 0.003065059359186849), (4361, 0.0030650291443162303), (1727, 0.0030630558846873415), (3666, 0.0030588899505932508), (4262, 0.0030585406483798886), (2016, 0.0030583395554522586), (4756, 0.003057859265597644), (3349, 0.0030564407745954894), (987, 0.0030556547337192226), (216, 0.003054246768542677), (2148, 0.0030535330950033153), (2072, 0.0030526953600880035), (3920, 0.003051498324246089), (3959, 0.0030513005413852806), (637, 0.0030507339141555424), (11, 0.0030507223679941517), (584, 0.003048312800019653), (3527, 0.0030452817229761407), (980, 0.003044788984487367), (2919, 0.0030433942225616415), (2053, 0.0030415308836913685), (806, 0.0030402233004101316), (4249, 0.003039679086532476), (120, 0.0030383115586527973), (2126, 0.0030381935344460918), (4470, 0.0030373168585783534), (3636, 0.0030359946141026925), (1516, 0.0030339952531259788), (3290, 0.003031772065014895), (3233, 0.0030307461569432778), (4643, 0.003030370489302825), (743, 0.003027305934395336), (2321, 0.003026757750721435), (3016, 0.0030243610082121603), (4098, 0.0030198022184487194), (1355, 0.0030168758884070333), (4273, 0.0030147055769517155), (3542, 0.003014218958521339), (652, 0.0030133272231565784), (3571, 0.0030124790004630066), (115, 0.0030123701340062006), (1174, 0.0030117184408267592), (2784, 0.0030111714295518897), (1931, 0.0030100005768261685), (3699, 0.003009052430651556), (933, 0.0030087020647391505), (1740, 0.003005240236733168), (593, 0.0030048476090445415), (3113, 0.00300479016486042), (238, 0.003004733324616133), (2073, 0.0030024858018194694), (750, 0.003001333637134508), (3707, 0.0029983798602972694), (832, 0.0029954655903845877), (994, 0.0029938684182984985), (4068, 0.0029929422048909286), (2295, 0.0029928596431346263), (1440, 0.0029915006831708908), (4049, 0.0029898929636574985), (544, 0.002989595400916351), (1204, 0.0029890294463671353), (4135, 0.002987807232619545), (2091, 0.0029870253416058147), (2374, 0.0029856828438915464), (2887, 0.002985088569357796), (2061, 0.0029838776848098297), (4014, 0.0029807828153401994), (3739, 0.002978409203933324), (4677, 0.002977633830075799), (636, 0.0029752467608990655), (1922, 0.0029739347645479043), (4266, 0.0029727390449408564), (2554, 0.0029719690161195424), (3210, 0.002971618305771719), (3670, 0.0029712068283880384), (4503, 0.002971147475168492), (848, 0.002971068650169294), (3227, 0.002970435008659349), (993, 0.002967687788011676), (2934, 0.0029674848636309127), (2606, 0.0029663672403072773), (3155, 0.0029661735560693975), (2783, 0.00296479099104684), (4517, 0.0029638409342915926), (4081, 0.0029623266216259984), (4604, 0.002961933885102592), (2826, 0.002961751813520414), (3125, 0.002960572521485428), (378, 0.0029586381835990504), (1191, 0.0029576396454451637), (3491, 0.0029575866937459148), (3564, 0.0029574508372732433), (1131, 0.0029558526435499648), (5, 0.002954786504483186), (3341, 0.0029542708423585247), (4715, 0.0029536212873782055), (1488, 0.0029534280094357383), (2695, 0.002949655104559394), (2354, 0.0029489581153950145), (749, 0.002947791939721928), (4330, 0.0029476638646392843), (3612, 0.002947147391028751), (1304, 0.002946999857985356), (3478, 0.002946027823690538), (2495, 0.002945760525250365), (1179, 0.002945612407723736), (986, 0.002943772144753326), (479, 0.0029425422970387827), (370, 0.0029412489129760893), (1163, 0.0029408285961797505), (66, 0.0029402743703444392), (2250, 0.002939661776390814), (3665, 0.002939010023599738), (3174, 0.0029381558633131298), (3330, 0.0029359881036219583), (4268, 0.0029341228218265963), (3807, 0.0029305742098019736), (1298, 0.0029296997087311137), (4409, 0.0029285932583356326), (2289, 0.0029256203983686617), (1102, 0.0029238669917408706), (3374, 0.0029236939089339986), (1483, 0.002923170639644564), (1811, 0.002922329822573918), (4000, 0.0029221433151281014), (3727, 0.002920953429373206), (400, 0.00291897222146675), (894, 0.0029183463126976283), (3435, 0.002917386899739683), (4520, 0.0029163712862836934), (348, 0.002916311544130595), (1059, 0.0029161921581787784), (3565, 0.00291559568249838), (3888, 0.0029149356776006926), (1831, 0.002912878544065186), (3381, 0.0029108432406257843), (4228, 0.0029105105653061333), (534, 0.0029096768453245837), (1598, 0.0029081490970123683), (4668, 0.0029028198595550626), (4487, 0.0029024537035262313), (2961, 0.00289982372149721), (3093, 0.0028992975716518894), (2946, 0.0028992635687255376), (3195, 0.00289916444644381), (989, 0.0028976332067661174), (1338, 0.002897546576216202), (4349, 0.002896856064028967), (2069, 0.002894515130754967), (727, 0.002894409516728089), (3499, 0.0028941343791850536), (4284, 0.0028905949245307773), (3827, 0.0028885047995662436), (2216, 0.0028872587015187643), (1882, 0.002886471294006473), (98, 0.0028847212715361606), (1527, 0.0028831883468094285), (4036, 0.0028785276830901505), (4641, 0.0028779083606611704), (3069, 0.0028769369975225087), (3719, 0.002875481475035495), (4743, 0.002874491924444937), (2909, 0.002873203476930486), (1653, 0.00287286899840887), (4387, 0.002872589104223182), (799, 0.002871921213345051), (3402, 0.002870836094605412), (1422, 0.002868405414681796), (4395, 0.002866020254326116), (1035, 0.002861986380789736), (1967, 0.0028619745668342434), (4693, 0.0028616809279366873), (522, 0.002859702582439766), (349, 0.0028572677590808344), (4550, 0.0028559897099304427), (4573, 0.0028559198884660184), (4673, 0.002853358939145584), (1671, 0.002852248935935162), (4129, 0.0028515417795286135), (1481, 0.002851344500979811), (4472, 0.002847777999846883), (3028, 0.002846879806013353), (2080, 0.0028463856053846017), (2571, 0.002846286248616253), (1645, 0.0028460310879825776), (4069, 0.0028455406457567815), (2612, 0.0028452329179394597), (2268, 0.002845206225246045), (3641, 0.002845205286379829), (87, 0.002843934222784683), (1969, 0.0028430606977866315), (3010, 0.002840848567639696), (1597, 0.0028378717072775096), (2716, 0.0028376672518679227), (112, 0.0028362353166570113), (4461, 0.0028360997989170388), (3917, 0.0028339241988828996), (396, 0.002831025953296018), (4729, 0.0028298089117203807), (1582, 0.002828302811241158), (3503, 0.002824944051658073), (4670, 0.0028220016383213396), (2024, 0.002821095595987109), (731, 0.0028180833512809703), (2752, 0.0028177250052486653), (52, 0.0028168224554284897), (1416, 0.0028152564117805067), (3498, 0.0028148012661388974), (4614, 0.0028139736909226698), (1854, 0.002812761892430612), (854, 0.002811544904111362), (798, 0.0028113893797460715), (3978, 0.0028099760144612764), (1929, 0.0028085081265823556), (2540, 0.0028077858050485063), (1001, 0.0028077843922416604), (3035, 0.0028045887690476647), (4085, 0.002803947720791677), (3691, 0.0028032756192762427), (3171, 0.0028023801294730973), (4213, 0.0028013463294566643), (1123, 0.002799870420492594), (505, 0.0027986629769885204), (4206, 0.002798379633951667), (4428, 0.0027973991985445726), (4374, 0.0027964766463954914), (1160, 0.002796261430121454), (2224, 0.0027955009787193692), (767, 0.002794606317997053), (4345, 0.0027944317559779764), (3799, 0.002792592973018707), (911, 0.0027910120533628027), (3293, 0.002788395127856859), (4124, 0.0027875913646493965), (203, 0.0027875116524305847), (2651, 0.0027872838412151667), (2598, 0.0027872573816496706), (434, 0.002787084222275225), (2133, 0.0027865083274873936), (1404, 0.0027847740854919064), (2997, 0.002784534358875128), (4399, 0.002784202295088015), (2800, 0.002783345826082689), (878, 0.0027825547488687075), (126, 0.002779590974600608), (3734, 0.002778610566773118), (276, 0.0027777701303383783), (3811, 0.0027772521636773594), (1177, 0.002775160272211701), (2023, 0.0027742530139243564), (2525, 0.0027741022109623406), (3433, 0.00277395195302463), (31, 0.0027706476083374904), (694, 0.0027703560599155737), (2899, 0.0027693787680142835), (236, 0.002767243782316578), (4254, 0.002766176202594679), (1203, 0.002766065156287816), (886, 0.0027619130784471355), (903, 0.002761505874580533), (941, 0.0027592414266770946), (3243, 0.0027592308103554118), (1665, 0.0027583852182076277), (2496, 0.002755044925843354), (4059, 0.0027550204222697924), (1620, 0.0027546979379033296), (1884, 0.00275355392042517), (2634, 0.0027527124012729836), (4634, 0.002748962861764203), (372, 0.0027449384286170834), (3725, 0.0027430924070812484), (1555, 0.0027425299678852837), (213, 0.0027419270016665904), (866, 0.002738746350951884), (3342, 0.0027356250185773504), (868, 0.0027352658315503786), (1183, 0.0027344945137548504), (1641, 0.0027319059497792004), (3120, 0.002727498241553645), (96, 0.002726615140795615), (1642, 0.0027265833662980985), (2317, 0.002725862698901223), (3627, 0.002725819291719214), (744, 0.0027244380365954537), (3854, 0.002724325369143037), (805, 0.0027242622461677835), (4402, 0.0027240938148000646), (1760, 0.0027237865768278283), (2593, 0.002718056954783149), (3369, 0.0027174170060953427), (558, 0.0027165787844400926), (2482, 0.0027155012820510257), (590, 0.002715240353989664), (1357, 0.0027148972807914755), (1814, 0.002712556696280018), (2674, 0.0027118863676228234), (1079, 0.0027091418931840536), (3460, 0.0027090199638932556), (4176, 0.0027089058673132787), (2347, 0.0027081851318115366), (3455, 0.002705021746381098), (359, 0.0027035803533174097), (1462, 0.0027021516217142954), (4326, 0.002700974377244329), (3306, 0.00270085754066381), (416, 0.002699654388526158), (4277, 0.002698423432165732), (1672, 0.0026969061289716834), (910, 0.0026967799472801097), (2920, 0.002695498573674375), (624, 0.0026946482369055065), (4620, 0.0026917365107430894), (1434, 0.002689710001227594), (4359, 0.002689629082439365), (1796, 0.002687970588012654), (3563, 0.0026850313853170973), (1675, 0.002683816303108103), (2728, 0.002681547398010887), (1360, 0.0026812317133606974), (3953, 0.002680463600166984), (3278, 0.0026787697233193308), (3474, 0.00267695292954883), (1528, 0.002675818078636145), (1892, 0.002675121863916566), (4053, 0.002673197701641189), (3267, 0.0026731446802550174), (285, 0.002668143744395649), (1595, 0.0026660610301909925), (3705, 0.0026658070798702884), (3311, 0.0026649217143133374), (1826, 0.0026639751696080653), (1964, 0.0026630762440081547), (4154, 0.002662062422143844), (1387, 0.002659498159028606), (1161, 0.0026593487307424034), (2323, 0.0026585590626608193), (2031, 0.002658435429444324), (563, 0.0026564890263534344), (515, 0.002655506090851733), (581, 0.002654836610662828), (3974, 0.0026515917486091595), (3027, 0.0026510060318502534), (1000, 0.0026497679779101738), (804, 0.0026497159783378504), (4475, 0.002649204949914005), (1739, 0.002648912682775005), (722, 0.0026471198059732715), (2065, 0.002646765659061386), (1980, 0.0026423717596072527), (2976, 0.002639060997494914), (3167, 0.002638316486085599), (4590, 0.0026379917342167084), (917, 0.002636961434323475), (3556, 0.00263412861513499), (594, 0.0026332039510800665), (1921, 0.002632860750931901), (2580, 0.0026308979208920957), (268, 0.002627561182347379), (2213, 0.0026271472014581247), (672, 0.002626969987957122), (2724, 0.0026178272214979897), (4608, 0.0026143116007303316), (4661, 0.00261139682223647), (1830, 0.002610362324749985), (1290, 0.00260996923259618), (1251, 0.0026069199568461245), (495, 0.0026056440222834375), (3755, 0.002603674809802665), (200, 0.0026031224926642347), (712, 0.0026027900440060998), (166, 0.002601793434488349), (4220, 0.0025989087580708275), (2617, 0.0025973792629092017), (92, 0.0025926130650338287), (1186, 0.0025867854633574955), (97, 0.002585334308308823), (480, 0.0025851272491364046), (851, 0.0025808211705326974), (3637, 0.0025763482368012357), (1301, 0.0025737887159606723), (4296, 0.0025661096179535586), (4473, 0.0025657918836691673), (1943, 0.0025642325710317753), (2721, 0.002559841087428239), (4429, 0.002557909592448256), (3211, 0.0025507213258270036), (1397, 0.0025476151806622122), (165, 0.0025467214291016345), (1828, 0.002542010634432147), (4386, 0.002540815913609005), (1370, 0.002540196375615611), (364, 0.002534477173820481), (3393, 0.0025337377070093034), (3629, 0.002530082978745323), (4627, 0.0025278781693781832), (2611, 0.0025274215366051065), (2447, 0.0025267256851768966), (2743, 0.0025258098171807237), (2382, 0.002523628237652733), (1088, 0.0025183756162480806), (1627, 0.002518281929860712), (2146, 0.0025176523879318034), (1691, 0.0025137171632850777), (1050, 0.002509788321955874), (432, 0.0025062310597102062), (2758, 0.0025020304141622897), (1340, 0.002501888760607401), (4095, 0.0025001617021466), (1971, 0.0024970419140462738), (626, 0.002496619389640176), (267, 0.0024965831289626584), (1356, 0.0024934772881939067), (617, 0.002487296869772313), (951, 0.0024869955592908602), (4636, 0.0024843772684398067), (2039, 0.002478094879083315), (2157, 0.0024771970414538685), (1801, 0.0024740999930582576), (2127, 0.0024731664670652655), (3091, 0.0024658620220744903), (3928, 0.0024608500185570002), (1042, 0.0024604693457229857), (2359, 0.0024589117022405377), (2355, 0.0024560843841448595), (3331, 0.002455775718208813), (16, 0.0024554718061725934), (1209, 0.0024549933306057606), (1078, 0.0024533955859048907), (2602, 0.0024444594993311168), (442, 0.002442760904661154), (901, 0.0024401172872554715), (3024, 0.002437038354326174), (4200, 0.002435737507887433), (2034, 0.00242714737725327), (3548, 0.002422654932014699), (1241, 0.002421857560731238), (3317, 0.002412949433586943), (2526, 0.00241041074138597), (3756, 0.002409788298721221), (645, 0.0024061382081960593), (3313, 0.0024052045264715176), (816, 0.002397797595493655), (4744, 0.00238820434506145), (4626, 0.002381833739939301), (1303, 0.002375253499176792), (1989, 0.0023662051211252783), (4674, 0.002366152369646413), (3471, 0.0023423921535530618), (1886, 0.0023415612573509134), (2010, 0.0023265153236673927), (4598, 0.002311239482872272), (2767, 0.0022984048951208026), (3199, 0.002281377540409681), (571, 0.00227142798111552), (2760, 0.0022611889205442766), (453, 0.002252725707998468), (562, 0.002234998718570065), (3645, 0.0022205442180313027), (3285, 0.0022147443194297733), (4445, 0.002211606176184292), (256, 0.0022009313065043438), (4301, 0.0021857169869778773), (4752, 0.002110254580253415), (293, 0.00209470028728714), (3365, 0.002077545059132007), (542, 0.0020658859958671096), (858, 0.0019891465236573746), (3608, 0.0019188896750422164), (1, 0.0), (6, 0.0), (10, 0.0), (17, 0.0), (28, 0.0), (30, 0.0), (36, 0.0), (38, 0.0), (39, 0.0), (42, 0.0), (45, 0.0), (50, 0.0), (54, 0.0), (55, 0.0), (59, 0.0), (64, 0.0), (65, 0.0), (72, 0.0), (73, 0.0), (75, 0.0), (76, 0.0), (80, 0.0), (89, 0.0), (90, 0.0), (91, 0.0), (93, 0.0), (94, 0.0), (95, 0.0), (99, 0.0), (100, 0.0), (101, 0.0), (102, 0.0), (117, 0.0), (128, 0.0), (133, 0.0), (134, 0.0), (135, 0.0), (138, 0.0), (139, 0.0), (143, 0.0), (145, 0.0), (148, 0.0), (150, 0.0), (151, 0.0), (152, 0.0), (153, 0.0), (163, 0.0), (171, 0.0), (180, 0.0), (186, 0.0), (187, 0.0), (189, 0.0), (191, 0.0), (205, 0.0), (207, 0.0), (214, 0.0), (217, 0.0), (219, 0.0), (220, 0.0), (223, 0.0), (233, 0.0), (239, 0.0), (240, 0.0), (244, 0.0), (245, 0.0), (257, 0.0), (258, 0.0), (259, 0.0), (260, 0.0), (261, 0.0), (264, 0.0), (284, 0.0), (289, 0.0), (290, 0.0), (291, 0.0), (295, 0.0), (299, 0.0), (303, 0.0), (304, 0.0), (305, 0.0), (306, 0.0), (314, 0.0), (315, 0.0), (316, 0.0), (320, 0.0), (323, 0.0), (331, 0.0), (335, 0.0), (337, 0.0), (338, 0.0), (339, 0.0), (344, 0.0), (345, 0.0), (360, 0.0), (361, 0.0), (362, 0.0), (365, 0.0), (367, 0.0), (368, 0.0), (375, 0.0), (376, 0.0), (379, 0.0), (380, 0.0), (382, 0.0), (389, 0.0), (393, 0.0), (394, 0.0), (397, 0.0), (401, 0.0), (411, 0.0), (415, 0.0), (417, 0.0), (418, 0.0), (420, 0.0), (421, 0.0), (423, 0.0), (427, 0.0), (438, 0.0), (439, 0.0), (440, 0.0), (460, 0.0), (469, 0.0), (484, 0.0), (486, 0.0), (491, 0.0), (492, 0.0), (494, 0.0), (497, 0.0), (498, 0.0), (500, 0.0), (501, 0.0), (506, 0.0), (512, 0.0), (513, 0.0), (514, 0.0), (516, 0.0), (517, 0.0), (525, 0.0), (530, 0.0), (535, 0.0), (539, 0.0), (540, 0.0), (545, 0.0), (550, 0.0), (552, 0.0), (554, 0.0), (556, 0.0), (557, 0.0), (559, 0.0), (560, 0.0), (565, 0.0), (567, 0.0), (569, 0.0), (570, 0.0), (572, 0.0), (573, 0.0), (574, 0.0), (577, 0.0), (586, 0.0), (591, 0.0), (592, 0.0), (595, 0.0), (599, 0.0), (601, 0.0), (602, 0.0), (603, 0.0), (610, 0.0), (613, 0.0), (621, 0.0), (625, 0.0), (630, 0.0), (632, 0.0), (633, 0.0), (639, 0.0), (640, 0.0), (650, 0.0), (654, 0.0), (656, 0.0), (658, 0.0), (661, 0.0), (666, 0.0), (667, 0.0), (668, 0.0), (674, 0.0), (678, 0.0), (679, 0.0), (681, 0.0), (682, 0.0), (685, 0.0), (686, 0.0), (687, 0.0), (690, 0.0), (699, 0.0), (702, 0.0), (704, 0.0), (708, 0.0), (713, 0.0), (718, 0.0), (720, 0.0), (723, 0.0), (738, 0.0), (746, 0.0), (751, 0.0), (753, 0.0), (765, 0.0), (770, 0.0), (771, 0.0), (772, 0.0), (781, 0.0), (789, 0.0), (790, 0.0), (793, 0.0), (797, 0.0), (801, 0.0), (802, 0.0), (803, 0.0), (825, 0.0), (827, 0.0), (836, 0.0), (837, 0.0), (839, 0.0), (841, 0.0), (842, 0.0), (855, 0.0), (862, 0.0), (869, 0.0), (875, 0.0), (877, 0.0), (882, 0.0), (891, 0.0), (892, 0.0), (893, 0.0), (902, 0.0), (904, 0.0), (905, 0.0), (908, 0.0), (912, 0.0), (913, 0.0), (915, 0.0), (918, 0.0), (919, 0.0), (920, 0.0), (927, 0.0), (928, 0.0), (943, 0.0), (945, 0.0), (954, 0.0), (955, 0.0), (956, 0.0), (960, 0.0), (961, 0.0), (965, 0.0), (974, 0.0), (976, 0.0), (977, 0.0), (990, 0.0), (992, 0.0), (995, 0.0), (996, 0.0), (997, 0.0), (1003, 0.0), (1008, 0.0), (1011, 0.0), (1013, 0.0), (1016, 0.0), (1022, 0.0), (1024, 0.0), (1028, 0.0), (1029, 0.0), (1031, 0.0), (1045, 0.0), (1047, 0.0), (1051, 0.0), (1054, 0.0), (1055, 0.0), (1056, 0.0), (1057, 0.0), (1058, 0.0), (1063, 0.0), (1066, 0.0), (1070, 0.0), (1085, 0.0), (1086, 0.0), (1091, 0.0), (1092, 0.0), (1093, 0.0), (1097, 0.0), (1101, 0.0), (1105, 0.0), (1108, 0.0), (1115, 0.0), (1120, 0.0), (1125, 0.0), (1127, 0.0), (1134, 0.0), (1135, 0.0), (1137, 0.0), (1139, 0.0), (1142, 0.0), (1143, 0.0), (1147, 0.0), (1149, 0.0), (1150, 0.0), (1151, 0.0), (1153, 0.0), (1155, 0.0), (1156, 0.0), (1158, 0.0), (1164, 0.0), (1165, 0.0), (1167, 0.0), (1171, 0.0), (1185, 0.0), (1189, 0.0), (1193, 0.0), (1196, 0.0), (1197, 0.0), (1198, 0.0), (1205, 0.0), (1207, 0.0), (1211, 0.0), (1213, 0.0), (1218, 0.0), (1221, 0.0), (1222, 0.0), (1227, 0.0), (1228, 0.0), (1230, 0.0), (1235, 0.0), (1240, 0.0), (1242, 0.0), (1244, 0.0), (1246, 0.0), (1253, 0.0), (1258, 0.0), (1259, 0.0), (1260, 0.0), (1263, 0.0), (1265, 0.0), (1268, 0.0), (1269, 0.0), (1270, 0.0), (1271, 0.0), (1274, 0.0), (1276, 0.0), (1280, 0.0), (1281, 0.0), (1282, 0.0), (1285, 0.0), (1287, 0.0), (1288, 0.0), (1289, 0.0), (1291, 0.0), (1295, 0.0), (1300, 0.0), (1309, 0.0), (1311, 0.0), (1315, 0.0), (1320, 0.0), (1321, 0.0), (1326, 0.0), (1328, 0.0), (1331, 0.0), (1332, 0.0), (1333, 0.0), (1342, 0.0), (1343, 0.0), (1344, 0.0), (1347, 0.0), (1354, 0.0), (1358, 0.0), (1380, 0.0), (1381, 0.0), (1388, 0.0), (1390, 0.0), (1391, 0.0), (1393, 0.0), (1395, 0.0), (1399, 0.0), (1419, 0.0), (1426, 0.0), (1428, 0.0), (1431, 0.0), (1432, 0.0), (1435, 0.0), (1436, 0.0), (1444, 0.0), (1451, 0.0), (1452, 0.0), (1459, 0.0), (1460, 0.0), (1468, 0.0), (1469, 0.0), (1470, 0.0), (1473, 0.0), (1480, 0.0), (1487, 0.0), (1495, 0.0), (1496, 0.0), (1502, 0.0), (1504, 0.0), (1507, 0.0), (1511, 0.0), (1520, 0.0), (1521, 0.0), (1522, 0.0), (1524, 0.0), (1525, 0.0), (1535, 0.0), (1540, 0.0), (1542, 0.0), (1544, 0.0), (1545, 0.0), (1546, 0.0), (1548, 0.0), (1554, 0.0), (1556, 0.0), (1559, 0.0), (1560, 0.0), (1562, 0.0), (1564, 0.0), (1568, 0.0), (1573, 0.0), (1577, 0.0), (1579, 0.0), (1581, 0.0), (1584, 0.0), (1587, 0.0), (1588, 0.0), (1590, 0.0), (1591, 0.0), (1592, 0.0), (1596, 0.0), (1600, 0.0), (1601, 0.0), (1604, 0.0), (1607, 0.0), (1609, 0.0), (1611, 0.0), (1613, 0.0), (1614, 0.0), (1615, 0.0), (1623, 0.0), (1626, 0.0), (1632, 0.0), (1633, 0.0), (1636, 0.0), (1638, 0.0), (1649, 0.0), (1651, 0.0), (1652, 0.0), (1661, 0.0), (1668, 0.0), (1669, 0.0), (1673, 0.0), (1676, 0.0), (1679, 0.0), (1681, 0.0), (1686, 0.0), (1689, 0.0), (1699, 0.0), (1700, 0.0), (1702, 0.0), (1704, 0.0), (1705, 0.0), (1720, 0.0), (1728, 0.0), (1729, 0.0), (1732, 0.0), (1735, 0.0), (1745, 0.0), (1749, 0.0), (1751, 0.0), (1752, 0.0), (1755, 0.0), (1758, 0.0), (1772, 0.0), (1775, 0.0), (1777, 0.0), (1781, 0.0), (1783, 0.0), (1789, 0.0), (1794, 0.0), (1795, 0.0), (1800, 0.0), (1810, 0.0), (1815, 0.0), (1817, 0.0), (1820, 0.0), (1823, 0.0), (1825, 0.0), (1832, 0.0), (1834, 0.0), (1835, 0.0), (1840, 0.0), (1842, 0.0), (1844, 0.0), (1846, 0.0), (1855, 0.0), (1856, 0.0), (1857, 0.0), (1859, 0.0), (1868, 0.0), (1879, 0.0), (1889, 0.0), (1894, 0.0), (1898, 0.0), (1899, 0.0), (1900, 0.0), (1901, 0.0), (1904, 0.0), (1914, 0.0), (1917, 0.0), (1926, 0.0), (1937, 0.0), (1938, 0.0), (1939, 0.0), (1940, 0.0), (1944, 0.0), (1958, 0.0), (1961, 0.0), (1962, 0.0), (1970, 0.0), (1972, 0.0), (1975, 0.0), (1976, 0.0), (1978, 0.0), (1981, 0.0), (1987, 0.0), (1990, 0.0), (1991, 0.0), (1992, 0.0), (1993, 0.0), (1996, 0.0), (1998, 0.0), (1999, 0.0), (2002, 0.0), (2014, 0.0), (2015, 0.0), (2017, 0.0), (2018, 0.0), (2021, 0.0), (2025, 0.0), (2028, 0.0), (2030, 0.0), (2033, 0.0), (2038, 0.0), (2042, 0.0), (2050, 0.0), (2054, 0.0), (2057, 0.0), (2063, 0.0), (2066, 0.0), (2071, 0.0), (2077, 0.0), (2078, 0.0), (2079, 0.0), (2081, 0.0), (2082, 0.0), (2084, 0.0), (2085, 0.0), (2090, 0.0), (2092, 0.0), (2093, 0.0), (2100, 0.0), (2120, 0.0), (2125, 0.0), (2128, 0.0), (2130, 0.0), (2135, 0.0), (2136, 0.0), (2139, 0.0), (2140, 0.0), (2150, 0.0), (2152, 0.0), (2153, 0.0), (2158, 0.0), (2164, 0.0), (2165, 0.0), (2171, 0.0), (2177, 0.0), (2178, 0.0), (2179, 0.0), (2180, 0.0), (2181, 0.0), (2182, 0.0), (2184, 0.0), (2194, 0.0), (2200, 0.0), (2206, 0.0), (2207, 0.0), (2208, 0.0), (2215, 0.0), (2217, 0.0), (2220, 0.0), (2222, 0.0), (2227, 0.0), (2228, 0.0), (2232, 0.0), (2233, 0.0), (2235, 0.0), (2238, 0.0), (2241, 0.0), (2243, 0.0), (2247, 0.0), (2252, 0.0), (2256, 0.0), (2259, 0.0), (2261, 0.0), (2263, 0.0), (2271, 0.0), (2273, 0.0), (2274, 0.0), (2275, 0.0), (2280, 0.0), (2282, 0.0), (2283, 0.0), (2296, 0.0), (2297, 0.0), (2298, 0.0), (2300, 0.0), (2307, 0.0), (2312, 0.0), (2314, 0.0), (2315, 0.0), (2316, 0.0), (2325, 0.0), (2326, 0.0), (2332, 0.0), (2336, 0.0), (2337, 0.0), (2341, 0.0), (2343, 0.0), (2345, 0.0), (2357, 0.0), (2358, 0.0), (2360, 0.0), (2363, 0.0), (2364, 0.0), (2365, 0.0), (2366, 0.0), (2369, 0.0), (2371, 0.0), (2373, 0.0), (2377, 0.0), (2381, 0.0), (2383, 0.0), (2384, 0.0), (2389, 0.0), (2395, 0.0), (2413, 0.0), (2414, 0.0), (2424, 0.0), (2429, 0.0), (2432, 0.0), (2433, 0.0), (2435, 0.0), (2442, 0.0), (2444, 0.0), (2445, 0.0), (2449, 0.0), (2451, 0.0), (2455, 0.0), (2456, 0.0), (2458, 0.0), (2462, 0.0), (2468, 0.0), (2471, 0.0), (2476, 0.0), (2479, 0.0), (2483, 0.0), (2491, 0.0), (2493, 0.0), (2497, 0.0), (2499, 0.0), (2501, 0.0), (2504, 0.0), (2506, 0.0), (2515, 0.0), (2516, 0.0), (2518, 0.0), (2521, 0.0), (2523, 0.0), (2532, 0.0), (2542, 0.0), (2547, 0.0), (2548, 0.0), (2549, 0.0), (2551, 0.0), (2562, 0.0), (2564, 0.0), (2567, 0.0), (2573, 0.0), (2574, 0.0), (2575, 0.0), (2577, 0.0), (2578, 0.0), (2583, 0.0), (2584, 0.0), (2586, 0.0), (2590, 0.0), (2596, 0.0), (2597, 0.0), (2599, 0.0), (2604, 0.0), (2608, 0.0), (2616, 0.0), (2618, 0.0), (2622, 0.0), (2626, 0.0), (2627, 0.0), (2630, 0.0), (2635, 0.0), (2637, 0.0), (2641, 0.0), (2656, 0.0), (2657, 0.0), (2666, 0.0), (2667, 0.0), (2669, 0.0), (2670, 0.0), (2672, 0.0), (2676, 0.0), (2682, 0.0), (2683, 0.0), (2684, 0.0), (2689, 0.0), (2700, 0.0), (2709, 0.0), (2713, 0.0), (2717, 0.0), (2733, 0.0), (2736, 0.0), (2750, 0.0), (2754, 0.0), (2756, 0.0), (2763, 0.0), (2770, 0.0), (2773, 0.0), (2781, 0.0), (2785, 0.0), (2788, 0.0), (2790, 0.0), (2793, 0.0), (2801, 0.0), (2804, 0.0), (2810, 0.0), (2811, 0.0), (2814, 0.0), (2815, 0.0), (2818, 0.0), (2819, 0.0), (2822, 0.0), (2823, 0.0), (2824, 0.0), (2825, 0.0), (2827, 0.0), (2828, 0.0), (2829, 0.0), (2837, 0.0), (2839, 0.0), (2842, 0.0), (2847, 0.0), (2850, 0.0), (2851, 0.0), (2852, 0.0), (2856, 0.0), (2869, 0.0), (2871, 0.0), (2875, 0.0), (2885, 0.0), (2898, 0.0), (2905, 0.0), (2918, 0.0), (2921, 0.0), (2922, 0.0), (2927, 0.0), (2930, 0.0), (2938, 0.0), (2947, 0.0), (2948, 0.0), (2950, 0.0), (2952, 0.0), (2956, 0.0), (2959, 0.0), (2960, 0.0), (2962, 0.0), (2971, 0.0), (2979, 0.0), (2984, 0.0), (2990, 0.0), (2991, 0.0), (2994, 0.0), (3001, 0.0), (3002, 0.0), (3005, 0.0), (3006, 0.0), (3011, 0.0), (3022, 0.0), (3025, 0.0), (3038, 0.0), (3041, 0.0), (3045, 0.0), (3047, 0.0), (3048, 0.0), (3049, 0.0), (3054, 0.0), (3058, 0.0), (3059, 0.0), (3060, 0.0), (3068, 0.0), (3070, 0.0), (3079, 0.0), (3080, 0.0), (3082, 0.0), (3087, 0.0), (3089, 0.0), (3092, 0.0), (3099, 0.0), (3102, 0.0), (3105, 0.0), (3106, 0.0), (3107, 0.0), (3115, 0.0), (3117, 0.0), (3118, 0.0), (3121, 0.0), (3124, 0.0), (3126, 0.0), (3129, 0.0), (3130, 0.0), (3131, 0.0), (3132, 0.0), (3133, 0.0), (3134, 0.0), (3135, 0.0), (3136, 0.0), (3138, 0.0), (3142, 0.0), (3145, 0.0), (3149, 0.0), (3156, 0.0), (3158, 0.0), (3160, 0.0), (3162, 0.0), (3172, 0.0), (3176, 0.0), (3179, 0.0), (3185, 0.0), (3190, 0.0), (3191, 0.0), (3192, 0.0), (3193, 0.0), (3197, 0.0), (3201, 0.0), (3203, 0.0), (3207, 0.0), (3208, 0.0), (3209, 0.0), (3221, 0.0), (3223, 0.0), (3231, 0.0), (3232, 0.0), (3236, 0.0), (3245, 0.0), (3250, 0.0), (3255, 0.0), (3259, 0.0), (3261, 0.0), (3263, 0.0), (3270, 0.0), (3272, 0.0), (3277, 0.0), (3279, 0.0), (3280, 0.0), (3281, 0.0), (3305, 0.0), (3310, 0.0), (3312, 0.0), (3319, 0.0), (3320, 0.0), (3321, 0.0), (3323, 0.0), (3332, 0.0), (3333, 0.0), (3334, 0.0), (3338, 0.0), (3339, 0.0), (3340, 0.0), (3343, 0.0), (3345, 0.0), (3361, 0.0), (3366, 0.0), (3367, 0.0), (3368, 0.0), (3383, 0.0), (3385, 0.0), (3394, 0.0), (3397, 0.0), (3398, 0.0), (3401, 0.0), (3404, 0.0), (3405, 0.0), (3411, 0.0), (3427, 0.0), (3428, 0.0), (3429, 0.0), (3438, 0.0), (3439, 0.0), (3440, 0.0), (3443, 0.0), (3444, 0.0), (3446, 0.0), (3448, 0.0), (3451, 0.0), (3454, 0.0), (3459, 0.0), (3461, 0.0), (3462, 0.0), (3463, 0.0), (3465, 0.0), (3467, 0.0), (3468, 0.0), (3470, 0.0), (3472, 0.0), (3473, 0.0), (3475, 0.0), (3476, 0.0), (3480, 0.0), (3481, 0.0), (3482, 0.0), (3484, 0.0), (3488, 0.0), (3495, 0.0), (3502, 0.0), (3507, 0.0), (3519, 0.0), (3520, 0.0), (3522, 0.0), (3525, 0.0), (3528, 0.0), (3530, 0.0), (3532, 0.0), (3533, 0.0), (3535, 0.0), (3539, 0.0), (3545, 0.0), (3550, 0.0), (3554, 0.0), (3562, 0.0), (3567, 0.0), (3568, 0.0), (3570, 0.0), (3572, 0.0), (3573, 0.0), (3576, 0.0), (3578, 0.0), (3580, 0.0), (3581, 0.0), (3582, 0.0), (3583, 0.0), (3585, 0.0), (3588, 0.0), (3591, 0.0), (3595, 0.0), (3597, 0.0), (3602, 0.0), (3605, 0.0), (3607, 0.0), (3609, 0.0), (3617, 0.0), (3619, 0.0), (3625, 0.0), (3628, 0.0), (3630, 0.0), (3631, 0.0), (3649, 0.0), (3650, 0.0), (3652, 0.0), (3658, 0.0), (3659, 0.0), (3663, 0.0), (3664, 0.0), (3671, 0.0), (3676, 0.0), (3679, 0.0), (3682, 0.0), (3684, 0.0), (3685, 0.0), (3688, 0.0), (3690, 0.0), (3693, 0.0), (3695, 0.0), (3697, 0.0), (3698, 0.0), (3700, 0.0), (3702, 0.0), (3703, 0.0), (3708, 0.0), (3710, 0.0), (3711, 0.0), (3715, 0.0), (3717, 0.0), (3718, 0.0), (3720, 0.0), (3723, 0.0), (3724, 0.0), (3726, 0.0), (3738, 0.0), (3740, 0.0), (3741, 0.0), (3743, 0.0), (3744, 0.0), (3759, 0.0), (3760, 0.0), (3764, 0.0), (3769, 0.0), (3775, 0.0), (3776, 0.0), (3782, 0.0), (3783, 0.0), (3785, 0.0), (3788, 0.0), (3789, 0.0), (3790, 0.0), (3791, 0.0), (3793, 0.0), (3794, 0.0), (3796, 0.0), (3802, 0.0), (3805, 0.0), (3806, 0.0), (3810, 0.0), (3814, 0.0), (3815, 0.0), (3816, 0.0), (3817, 0.0), (3818, 0.0), (3820, 0.0), (3830, 0.0), (3831, 0.0), (3836, 0.0), (3837, 0.0), (3838, 0.0), (3840, 0.0), (3842, 0.0), (3843, 0.0), (3844, 0.0), (3846, 0.0), (3847, 0.0), (3850, 0.0), (3853, 0.0), (3860, 0.0), (3869, 0.0), (3872, 0.0), (3881, 0.0), (3885, 0.0), (3886, 0.0), (3887, 0.0), (3897, 0.0), (3907, 0.0), (3908, 0.0), (3912, 0.0), (3914, 0.0), (3916, 0.0), (3918, 0.0), (3923, 0.0), (3929, 0.0), (3930, 0.0), (3931, 0.0), (3934, 0.0), (3937, 0.0), (3938, 0.0), (3942, 0.0), (3944, 0.0), (3947, 0.0), (3948, 0.0), (3949, 0.0), (3955, 0.0), (3963, 0.0), (3965, 0.0), (3966, 0.0), (3968, 0.0), (3969, 0.0), (3972, 0.0), (3975, 0.0), (3979, 0.0), (3981, 0.0), (3982, 0.0), (3985, 0.0), (3988, 0.0), (3989, 0.0), (3991, 0.0), (3993, 0.0), (3994, 0.0), (3995, 0.0), (3996, 0.0), (3997, 0.0), (4003, 0.0), (4010, 0.0), (4021, 0.0), (4026, 0.0), (4028, 0.0), (4029, 0.0), (4031, 0.0), (4034, 0.0), (4037, 0.0), (4039, 0.0), (4040, 0.0), (4041, 0.0), (4043, 0.0), (4044, 0.0), (4058, 0.0), (4063, 0.0), (4065, 0.0), (4067, 0.0), (4071, 0.0), (4072, 0.0), (4078, 0.0), (4086, 0.0), (4090, 0.0), (4091, 0.0), (4093, 0.0), (4094, 0.0), (4096, 0.0), (4097, 0.0), (4103, 0.0), (4108, 0.0), (4114, 0.0), (4115, 0.0), (4118, 0.0), (4119, 0.0), (4121, 0.0), (4122, 0.0), (4127, 0.0), (4128, 0.0), (4131, 0.0), (4146, 0.0), (4148, 0.0), (4153, 0.0), (4157, 0.0), (4159, 0.0), (4162, 0.0), (4164, 0.0), (4165, 0.0), (4167, 0.0), (4168, 0.0), (4170, 0.0), (4173, 0.0), (4177, 0.0), (4179, 0.0), (4180, 0.0), (4181, 0.0), (4184, 0.0), (4185, 0.0), (4188, 0.0), (4190, 0.0), (4193, 0.0), (4194, 0.0), (4195, 0.0), (4201, 0.0), (4204, 0.0), (4207, 0.0), (4208, 0.0), (4212, 0.0), (4214, 0.0), (4215, 0.0), (4218, 0.0), (4219, 0.0), (4224, 0.0), (4233, 0.0), (4235, 0.0), (4237, 0.0), (4238, 0.0), (4239, 0.0), (4241, 0.0), (4248, 0.0), (4250, 0.0), (4251, 0.0), (4253, 0.0), (4256, 0.0), (4258, 0.0), (4260, 0.0), (4261, 0.0), (4264, 0.0), (4265, 0.0), (4270, 0.0), (4271, 0.0), (4274, 0.0), (4275, 0.0), (4276, 0.0), (4278, 0.0), (4279, 0.0), (4285, 0.0), (4289, 0.0), (4290, 0.0), (4291, 0.0), (4292, 0.0), (4294, 0.0), (4297, 0.0), (4302, 0.0), (4305, 0.0), (4310, 0.0), (4312, 0.0), (4316, 0.0), (4317, 0.0), (4323, 0.0), (4324, 0.0), (4328, 0.0), (4331, 0.0), (4332, 0.0), (4338, 0.0), (4339, 0.0), (4341, 0.0), (4352, 0.0), (4360, 0.0), (4364, 0.0), (4365, 0.0), (4366, 0.0), (4370, 0.0), (4376, 0.0), (4377, 0.0), (4378, 0.0), (4384, 0.0), (4389, 0.0), (4390, 0.0), (4392, 0.0), (4393, 0.0), (4404, 0.0), (4413, 0.0), (4414, 0.0), (4417, 0.0), (4424, 0.0), (4425, 0.0), (4426, 0.0), (4434, 0.0), (4439, 0.0), (4441, 0.0), (4447, 0.0), (4449, 0.0), (4450, 0.0), (4451, 0.0), (4452, 0.0), (4453, 0.0), (4454, 0.0), (4455, 0.0), (4456, 0.0), (4457, 0.0), (4462, 0.0), (4466, 0.0), (4468, 0.0), (4478, 0.0), (4480, 0.0), (4481, 0.0), (4482, 0.0), (4488, 0.0), (4491, 0.0), (4493, 0.0), (4496, 0.0), (4500, 0.0), (4506, 0.0), (4508, 0.0), (4509, 0.0), (4512, 0.0), (4513, 0.0), (4515, 0.0), (4518, 0.0), (4519, 0.0), (4525, 0.0), (4526, 0.0), (4527, 0.0), (4532, 0.0), (4534, 0.0), (4537, 0.0), (4538, 0.0), (4539, 0.0), (4542, 0.0), (4547, 0.0), (4548, 0.0), (4549, 0.0), (4552, 0.0), (4553, 0.0), (4556, 0.0), (4557, 0.0), (4559, 0.0), (4560, 0.0), (4561, 0.0), (4565, 0.0), (4568, 0.0), (4569, 0.0), (4570, 0.0), (4578, 0.0), (4581, 0.0), (4583, 0.0), (4585, 0.0), (4586, 0.0), (4587, 0.0), (4588, 0.0), (4592, 0.0), (4595, 0.0), (4597, 0.0), (4613, 0.0), (4615, 0.0), (4618, 0.0), (4621, 0.0), (4622, 0.0), (4623, 0.0), (4630, 0.0), (4631, 0.0), (4635, 0.0), (4639, 0.0), (4644, 0.0), (4645, 0.0), (4646, 0.0), (4648, 0.0), (4651, 0.0), (4653, 0.0), (4654, 0.0), (4655, 0.0), (4656, 0.0), (4659, 0.0), (4662, 0.0), (4663, 0.0), (4664, 0.0), (4665, 0.0), (4666, 0.0), (4667, 0.0), (4671, 0.0), (4672, 0.0), (4678, 0.0), (4681, 0.0), (4683, 0.0), (4684, 0.0), (4689, 0.0), (4690, 0.0), (4691, 0.0), (4697, 0.0), (4698, 0.0), (4700, 0.0), (4707, 0.0), (4708, 0.0), (4709, 0.0), (4711, 0.0), (4714, 0.0), (4720, 0.0), (4721, 0.0), (4725, 0.0), (4728, 0.0), (4736, 0.0), (4737, 0.0), (4740, 0.0), (4742, 0.0), (4745, 0.0), (4746, 0.0), (4747, 0.0), (4750, 0.0), (4751, 0.0), (4754, 0.0), (4755, 0.0), (4758, 0.0), (4759, 0.0)]\n"
          ]
        }
      ]
    },
    {
      "cell_type": "code",
      "source": [
        "print('Top 30 Movies suggested for you : \\n')\n",
        "\n",
        "i = 1\n",
        "\n",
        "for movie in Sorted_similar_movies:\n",
        "  index = movie[0]\n",
        "  title_from_index = df[df.index==index]['Movie_Title'].values[0]\n",
        "  if (i<31):\n",
        "    print(i, '.',title_from_index)\n",
        "    i+=1"
      ],
      "metadata": {
        "colab": {
          "base_uri": "https://localhost:8080/"
        },
        "id": "OajUetZE3gNr",
        "outputId": "71d04dfa-6ee5-4ca8-ae74-c0b51c340990"
      },
      "execution_count": 35,
      "outputs": [
        {
          "output_type": "stream",
          "name": "stdout",
          "text": [
            "Top 30 Movies suggested for you : \n",
            "\n",
            "1 . Pollock\n",
            "2 . Appaloosa\n",
            "3 . A Beautiful Mind\n",
            "4 . Salvation Boulevard\n",
            "5 . The Mist\n",
            "6 . Welcome to Mooseport\n",
            "7 . But I'm a Cheerleader\n",
            "8 . Elsa & Fred\n",
            "9 . Meet Joe Black\n",
            "10 . Winter Passing\n",
            "11 . Apollo 13\n",
            "12 . Rock Star\n",
            "13 . The Hoax\n",
            "14 . Copying Beethoven\n",
            "15 . Winter's Tale\n",
            "16 . Into the Wild\n",
            "17 . The Firm\n",
            "18 . Flubber\n",
            "19 . Should've Been Romeo\n",
            "20 . The Ballad of Gregorio Cortez\n",
            "21 . Weekend\n",
            "22 . The Right Stuff\n",
            "23 . Radio\n",
            "24 . He's Just Not That Into You\n",
            "25 . Absolute Power\n",
            "26 . Mystic River\n",
            "27 . Spy Hard\n",
            "28 . The Truman Show\n",
            "29 . Buffalo Soldiers\n",
            "30 . Run All Night\n"
          ]
        }
      ]
    },
    {
      "cell_type": "code",
      "source": [
        "Movie_Name = input(' Enter your favourite movie name : ')\n",
        "list_of_all_titles = df['Movie_Title'].tolist()\n",
        "Find_Close_Match = difflib.get_close_matches(Movie_Name, list_of_all_titles)\n",
        "Close_Match = Find_Close_Match[0]\n",
        "Index_of_Movie = df[df.Movie_Title == Close_Match]['Movie_ID'].values[0]\n",
        "Recommendation_score = list(enumerate(Similarity_score[Index_of_Movie]))\n",
        "Sorted_similar_movies = sorted(Recommendation_score, key = lambda x:x[1], reverse = True)\n",
        "print('Top 10 Movies suggested for you : \\n')\n",
        "i = 1\n",
        "for movie in Sorted_similar_movies:\n",
        "  index = movie[0]\n",
        "  title_from_index = df[df.Movie_ID==index]['Movie_Title'].values\n",
        "  if (i<11):\n",
        "    print(i, '.',title_from_index)\n",
        "    i+=1"
      ],
      "metadata": {
        "colab": {
          "base_uri": "https://localhost:8080/"
        },
        "id": "i83gNOkD3gKu",
        "outputId": "7b969a18-70b4-45bc-e4f5-13ba41381e2d"
      },
      "execution_count": 39,
      "outputs": [
        {
          "output_type": "stream",
          "name": "stdout",
          "text": [
            " Enter your favourite movie name : avtaar\n",
            "Top 10 Movies suggested for you : \n",
            "\n",
            "1 . ['Avatar']\n",
            "2 . ['The Girl on the Train']\n",
            "3 . ['Act of Valor']\n",
            "4 . ['Donnie Darko']\n",
            "5 . ['Precious']\n",
            "6 . ['Freaky Friday']\n",
            "7 . ['The Opposite Sex']\n",
            "8 . ['Heaven is for Real']\n",
            "9 . ['Run Lola Run']\n",
            "10 . ['Elizabethtown']\n"
          ]
        }
      ]
    }
  ]
}